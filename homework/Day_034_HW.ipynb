{
  "cells": [
    {
      "cell_type": "markdown",
      "metadata": {
        "id": "view-in-github",
        "colab_type": "text"
      },
      "source": [
        "<a href=\"https://colab.research.google.com/github/PatrickRuan/ML100Days/blob/master/homework/Day_034_HW.ipynb\" target=\"_parent\"><img src=\"https://colab.research.google.com/assets/colab-badge.svg\" alt=\"Open In Colab\"/></a>"
      ]
    },
    {
      "cell_type": "markdown",
      "metadata": {
        "id": "CgO_U13hFQDL"
      },
      "source": [
        "## 練習時間\n",
        "假設我們資料中類別的數量並不均衡，在評估準確率時可能會有所偏頗，試著切分出 y_test 中，0 類別與 1 類別的數量是一樣的 (亦即 y_test 的類別是均衡的)"
      ]
    },
    {
      "cell_type": "code",
      "execution_count": 2,
      "metadata": {
        "id": "kne9dk6bFQDP"
      },
      "outputs": [],
      "source": [
        "import numpy as np\n",
        "X = np.arange(1000).reshape(200, 5)\n",
        "y = np.zeros(200)\n",
        "y[:40] = 1"
      ]
    },
    {
      "cell_type": "code",
      "execution_count": 3,
      "metadata": {
        "colab": {
          "base_uri": "https://localhost:8080/"
        },
        "id": "0OhBQ6pBFQDY",
        "outputId": "1031b61a-2d58-49ab-c092-c09c64203c72"
      },
      "outputs": [
        {
          "output_type": "execute_result",
          "data": {
            "text/plain": [
              "array([1., 1., 1., 1., 1., 1., 1., 1., 1., 1., 1., 1., 1., 1., 1., 1., 1.,\n",
              "       1., 1., 1., 1., 1., 1., 1., 1., 1., 1., 1., 1., 1., 1., 1., 1., 1.,\n",
              "       1., 1., 1., 1., 1., 1., 0., 0., 0., 0., 0., 0., 0., 0., 0., 0., 0.,\n",
              "       0., 0., 0., 0., 0., 0., 0., 0., 0., 0., 0., 0., 0., 0., 0., 0., 0.,\n",
              "       0., 0., 0., 0., 0., 0., 0., 0., 0., 0., 0., 0., 0., 0., 0., 0., 0.,\n",
              "       0., 0., 0., 0., 0., 0., 0., 0., 0., 0., 0., 0., 0., 0., 0., 0., 0.,\n",
              "       0., 0., 0., 0., 0., 0., 0., 0., 0., 0., 0., 0., 0., 0., 0., 0., 0.,\n",
              "       0., 0., 0., 0., 0., 0., 0., 0., 0., 0., 0., 0., 0., 0., 0., 0., 0.,\n",
              "       0., 0., 0., 0., 0., 0., 0., 0., 0., 0., 0., 0., 0., 0., 0., 0., 0.,\n",
              "       0., 0., 0., 0., 0., 0., 0., 0., 0., 0., 0., 0., 0., 0., 0., 0., 0.,\n",
              "       0., 0., 0., 0., 0., 0., 0., 0., 0., 0., 0., 0., 0., 0., 0., 0., 0.,\n",
              "       0., 0., 0., 0., 0., 0., 0., 0., 0., 0., 0., 0., 0.])"
            ]
          },
          "metadata": {},
          "execution_count": 3
        }
      ],
      "source": [
        "y"
      ]
    },
    {
      "cell_type": "markdown",
      "metadata": {
        "id": "RV2MUc2UFQDa"
      },
      "source": [
        "可以看見 y 類別中，有 160 個 類別 0，40 個 類別 1 ，請試著使用 train_test_split 函數，切分出 y_test 中能各有 10 筆類別 0 與 10 筆類別 1 。(HINT: 參考函數中的 test_size，可針對不同類別各自作切分後再合併)"
      ]
    },
    {
      "cell_type": "code",
      "source": [
        "np.where(y==1) # index at 0:39\n",
        "np.where(y==0) # index at 40~ 199"
      ],
      "metadata": {
        "colab": {
          "base_uri": "https://localhost:8080/"
        },
        "id": "FN-KZ1yqFoJn",
        "outputId": "fd832c04-257f-4458-fc68-48d466ab1f69"
      },
      "execution_count": 5,
      "outputs": [
        {
          "output_type": "execute_result",
          "data": {
            "text/plain": [
              "(array([ 40,  41,  42,  43,  44,  45,  46,  47,  48,  49,  50,  51,  52,\n",
              "         53,  54,  55,  56,  57,  58,  59,  60,  61,  62,  63,  64,  65,\n",
              "         66,  67,  68,  69,  70,  71,  72,  73,  74,  75,  76,  77,  78,\n",
              "         79,  80,  81,  82,  83,  84,  85,  86,  87,  88,  89,  90,  91,\n",
              "         92,  93,  94,  95,  96,  97,  98,  99, 100, 101, 102, 103, 104,\n",
              "        105, 106, 107, 108, 109, 110, 111, 112, 113, 114, 115, 116, 117,\n",
              "        118, 119, 120, 121, 122, 123, 124, 125, 126, 127, 128, 129, 130,\n",
              "        131, 132, 133, 134, 135, 136, 137, 138, 139, 140, 141, 142, 143,\n",
              "        144, 145, 146, 147, 148, 149, 150, 151, 152, 153, 154, 155, 156,\n",
              "        157, 158, 159, 160, 161, 162, 163, 164, 165, 166, 167, 168, 169,\n",
              "        170, 171, 172, 173, 174, 175, 176, 177, 178, 179, 180, 181, 182,\n",
              "        183, 184, 185, 186, 187, 188, 189, 190, 191, 192, 193, 194, 195,\n",
              "        196, 197, 198, 199]),)"
            ]
          },
          "metadata": {},
          "execution_count": 5
        }
      ]
    },
    {
      "cell_type": "code",
      "execution_count": 10,
      "metadata": {
        "id": "-_vuPRzhFQDb"
      },
      "outputs": [],
      "source": [
        "y_1_index, y_0_index = np.where(y==1)[0], np.where(y==0)[0] # 選出 y 等於 1 的 index 與 y 等於 0 的 index"
      ]
    },
    {
      "cell_type": "code",
      "source": [
        "from sklearn.model_selection import train_test_split\n",
        "train_x1, test_x1, train_y1, test_y1 = train_test_split(X[y_1_index], y[y_1_index], test_size = 20)\n",
        "train_x0, test_x0, train_y0, test_y0 = train_test_split(X[y_0_index], y[y_0_index], test_size = 20)"
      ],
      "metadata": {
        "id": "B7xH3qGAF2_x"
      },
      "execution_count": 12,
      "outputs": []
    },
    {
      "cell_type": "code",
      "source": [
        "test_y0"
      ],
      "metadata": {
        "colab": {
          "base_uri": "https://localhost:8080/"
        },
        "id": "6lbBHBM_G1vQ",
        "outputId": "c9df6e6b-4055-44eb-e37f-da7ca5ebb208"
      },
      "execution_count": 15,
      "outputs": [
        {
          "output_type": "execute_result",
          "data": {
            "text/plain": [
              "array([0., 0., 0., 0., 0., 0., 0., 0., 0., 0., 0., 0., 0., 0., 0., 0., 0.,\n",
              "       0., 0., 0.])"
            ]
          },
          "metadata": {},
          "execution_count": 15
        }
      ]
    },
    {
      "cell_type": "code",
      "source": [
        "x_train, y_train = np.concatenate([train_x1, train_x0]), np.concatenate([train_y1, train_y0])\n",
        "x_test, y_test = np.concatenate([test_x1, test_x0]), np.concatenate([test_y1, test_y0])\n"
      ],
      "metadata": {
        "id": "PLrzyiS9G7oV"
      },
      "execution_count": 16,
      "outputs": []
    },
    {
      "cell_type": "code",
      "source": [
        "for testx, testy in zip(x_test, y_test):\n",
        "  print(testx, testy)"
      ],
      "metadata": {
        "colab": {
          "base_uri": "https://localhost:8080/"
        },
        "id": "WKOFai1OH1jv",
        "outputId": "23537fc4-bfb8-42ff-db2e-97adc303c75f"
      },
      "execution_count": 20,
      "outputs": [
        {
          "output_type": "stream",
          "name": "stdout",
          "text": [
            "[70 71 72 73 74] 1.0\n",
            "[130 131 132 133 134] 1.0\n",
            "[65 66 67 68 69] 1.0\n",
            "[45 46 47 48 49] 1.0\n",
            "[80 81 82 83 84] 1.0\n",
            "[10 11 12 13 14] 1.0\n",
            "[175 176 177 178 179] 1.0\n",
            "[195 196 197 198 199] 1.0\n",
            "[30 31 32 33 34] 1.0\n",
            "[165 166 167 168 169] 1.0\n",
            "[115 116 117 118 119] 1.0\n",
            "[120 121 122 123 124] 1.0\n",
            "[190 191 192 193 194] 1.0\n",
            "[35 36 37 38 39] 1.0\n",
            "[160 161 162 163 164] 1.0\n",
            "[55 56 57 58 59] 1.0\n",
            "[95 96 97 98 99] 1.0\n",
            "[25 26 27 28 29] 1.0\n",
            "[90 91 92 93 94] 1.0\n",
            "[105 106 107 108 109] 1.0\n",
            "[700 701 702 703 704] 0.0\n",
            "[815 816 817 818 819] 0.0\n",
            "[900 901 902 903 904] 0.0\n",
            "[415 416 417 418 419] 0.0\n",
            "[240 241 242 243 244] 0.0\n",
            "[750 751 752 753 754] 0.0\n",
            "[455 456 457 458 459] 0.0\n",
            "[835 836 837 838 839] 0.0\n",
            "[300 301 302 303 304] 0.0\n",
            "[620 621 622 623 624] 0.0\n",
            "[360 361 362 363 364] 0.0\n",
            "[960 961 962 963 964] 0.0\n",
            "[510 511 512 513 514] 0.0\n",
            "[370 371 372 373 374] 0.0\n",
            "[950 951 952 953 954] 0.0\n",
            "[265 266 267 268 269] 0.0\n",
            "[850 851 852 853 854] 0.0\n",
            "[555 556 557 558 559] 0.0\n",
            "[525 526 527 528 529] 0.0\n",
            "[985 986 987 988 989] 0.0\n"
          ]
        }
      ]
    },
    {
      "cell_type": "code",
      "source": [
        ""
      ],
      "metadata": {
        "id": "ft97ITe8IFd9"
      },
      "execution_count": null,
      "outputs": []
    }
  ],
  "metadata": {
    "kernelspec": {
      "display_name": "Python 3",
      "language": "python",
      "name": "python3"
    },
    "language_info": {
      "codemirror_mode": {
        "name": "ipython",
        "version": 3
      },
      "file_extension": ".py",
      "mimetype": "text/x-python",
      "name": "python",
      "nbconvert_exporter": "python",
      "pygments_lexer": "ipython3",
      "version": "3.6.3"
    },
    "colab": {
      "name": "Day_034_HW.ipynb",
      "provenance": [],
      "include_colab_link": true
    }
  },
  "nbformat": 4,
  "nbformat_minor": 0
}