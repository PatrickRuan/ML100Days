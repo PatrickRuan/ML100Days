{
  "nbformat": 4,
  "nbformat_minor": 0,
  "metadata": {
    "kernelspec": {
      "display_name": "Python 3",
      "language": "python",
      "name": "python3"
    },
    "language_info": {
      "codemirror_mode": {
        "name": "ipython",
        "version": 3
      },
      "file_extension": ".py",
      "mimetype": "text/x-python",
      "name": "python",
      "nbconvert_exporter": "python",
      "pygments_lexer": "ipython3",
      "version": "3.7.0"
    },
    "colab": {
      "name": "Day_003_HW.ipynb",
      "provenance": [],
      "include_colab_link": true
    }
  },
  "cells": [
    {
      "cell_type": "markdown",
      "metadata": {
        "id": "view-in-github",
        "colab_type": "text"
      },
      "source": [
        "<a href=\"https://colab.research.google.com/github/PatrickRuan/ML100Days/blob/master/homework/Day_003_HW.ipynb\" target=\"_parent\"><img src=\"https://colab.research.google.com/assets/colab-badge.svg\" alt=\"Open In Colab\"/></a>"
      ]
    },
    {
      "cell_type": "markdown",
      "metadata": {
        "id": "baGLVWjlbsE5"
      },
      "source": [
        "### 1.1 資料在哪? 結構為何?\n",
        "\n",
        "* 政府公開資料集、Kaggle 資料集\n",
        "* 結構化資料\n",
        "* Excel 檔 (.xlsx)\n",
        "* CSV 檔 (.csv, 逗號分隔)\n",
        "* 非結構化資料\n",
        "* 圖片\n",
        "* 影音\n",
        "* 文字\n",
        "\n",
        "### 1.2 如何開啟、處理檔案?\n",
        "\n",
        "* 多數檔案都能使用 Python 的套件開啟\n",
        "  * 開啟圖片: PIL, skimage, open-cv…\n",
        "  * 開啟文件: pandas\n",
        "* 資料前處理\n",
        "  * 缺失值填補\n",
        "  * 離群值處理\n",
        "  * 標準化\n",
        "\n",
        "## 2. 定義目標\n",
        "\n",
        "* 回歸問題? 分類問題?\n",
        "  * 要預測的目標是甚麼? (target 或 y)\n",
        "  * 要用甚麼資料來進行預測? (predictor 或 x)\n",
        "* 將資料分為\n",
        "  * 訓練集 training set\n",
        "  * 驗證集 validation set\n",
        "  * 測試集 test set\n",
        "\n",
        "## 3. 設定評估準則\n",
        "\n",
        "* 不同問題有不同的評估指標\n",
        "* 回歸問題 (預測值為實數)\n",
        "  * RMSE, Root Mean Square Error\n",
        "  * Mean Absolute Error\n",
        "  * R-Square\n",
        "* 分類問題 (預測值為類別)\n",
        "  * Accuracy\n",
        "  * F1-score\n",
        "  * AUC, Area Under Curve\n",
        "\n",
        "## 4. 建立模型並調整參數\n",
        "\n",
        "* 根據設定目標建立機器學習模型\n",
        "  * Regression，回歸模型\n",
        "  * Tree-based model，樹模型\n",
        "  * Neural network，神經網路\n",
        "  * 各模型都有其超參數需調整，根據經驗與對模型了解、訓練情形等進行調參\n"
      ]
    },
    {
      "cell_type": "markdown",
      "metadata": {
        "id": "32kEbePRbobl"
      },
      "source": [
        "## [作業目標]\n",
        "持續接觸有關機器學習的相關專案與最新技術"
      ]
    },
    {
      "cell_type": "markdown",
      "metadata": {
        "id": "hHTF5xw2bobo"
      },
      "source": [
        "## [作業重點]\n",
        "透過觀察頂尖公司的機器學習文章，來了解各公司是怎麼應用機器學習在實際的專案上"
      ]
    },
    {
      "cell_type": "markdown",
      "metadata": {
        "id": "ZwLoUanhbobq"
      },
      "source": [
        "## [作業]\n",
        "今天的作業希望大家能夠看看全球機器學習巨頭們在做的機器學習專案。以 google 為例，下圖是 Google 內部專案使用機器學習的數量，隨著時間進展，現在早已超過 2000 個專案在使用機器學習。"
      ]
    },
    {
      "cell_type": "markdown",
      "metadata": {
        "id": "aLxlSHV9bobr"
      },
      "source": [
        "![image](https://cdn-images-1.medium.com/max/800/1*U_L8qI8RmYS-MOBrYvXhSA.png)"
      ]
    },
    {
      "cell_type": "markdown",
      "metadata": {
        "id": "XrklHPQMbobu"
      },
      "source": [
        "底下幫同學整理幾間知名企業的 blog 或機器學習網站 (自行搜尋也可)，這些網站都會整理最新的機器學習專案或者是技術文章，請挑選一篇文章閱讀並試著回答\n",
        "1. 專案的目標？ (要解決什麼問題）\n",
        "2. 使用的技術是？ (只需知道名稱即可，例如：使用 CNN 卷積神經網路做影像分類)\n",
        "3. 資料來源？ "
      ]
    },
    {
      "cell_type": "markdown",
      "metadata": {
        "id": "kVbBp0dkbobw"
      },
      "source": [
        "- [Google AI blog](https://ai.googleblog.com/)\n",
        "- [Facebook Research blog](https://research.fb.com/blog/)\n",
        "- [Apple machine learning journal](https://machinelearning.apple.com/)\n",
        "- [機器之心](https://www.jiqizhixin.com/)\n",
        "- [雷鋒網](http://www.leiphone.com/category/ai)"
      ]
    },
    {
      "cell_type": "markdown",
      "metadata": {
        "id": "rzkhDHPFdjZS"
      },
      "source": [
        "[亚马逊硬件发布会：聚焦智慧家庭，推出「会飞的摄像头」](https://www.jiqizhixin.com/articles/2020-09-25-13)\n",
        "這篇從機器之心找到的文章介紹了兩款產品，always home cam and Alexa\n",
        "我猜想 always home cam 在可用上的機器學習技術可能可以搭配影像與聲音辨識。\n",
        "* 影像上可以在飛行中不會撞牆，辨識出目標等。當然 CNN 可能是基本的技術之一。\n",
        "* 聲音的偵測可能不算是機器學習，偏向 IoT，不過如果要有彈性的加入人聲辨識等，還是要用到深度學習的技術，可能包含RNN（or 1D_CNN) 的技術。\n",
        "\n",
        "Alexa，當然就是 NLP 相關，包含 ASP, intent detection, NLU, NLP, NLG 等，搭配網路搜尋技術。 \n",
        "\n"
      ]
    }
  ]
}