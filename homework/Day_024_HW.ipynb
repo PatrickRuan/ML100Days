{
  "nbformat": 4,
  "nbformat_minor": 0,
  "metadata": {
    "kernelspec": {
      "display_name": "Python 3",
      "language": "python",
      "name": "python3"
    },
    "language_info": {
      "codemirror_mode": {
        "name": "ipython",
        "version": 3
      },
      "file_extension": ".py",
      "mimetype": "text/x-python",
      "name": "python",
      "nbconvert_exporter": "python",
      "pygments_lexer": "ipython3",
      "version": "3.6.1"
    },
    "colab": {
      "name": "Day_024_HW.ipynb",
      "provenance": [],
      "collapsed_sections": [],
      "include_colab_link": true
    }
  },
  "cells": [
    {
      "cell_type": "markdown",
      "metadata": {
        "id": "view-in-github",
        "colab_type": "text"
      },
      "source": [
        "<a href=\"https://colab.research.google.com/github/PatrickRuan/ML100Days/blob/master/homework/Day_024_HW.ipynb\" target=\"_parent\"><img src=\"https://colab.research.google.com/assets/colab-badge.svg\" alt=\"Open In Colab\"/></a>"
      ]
    },
    {
      "cell_type": "markdown",
      "metadata": {
        "collapsed": true,
        "id": "AOIUMStK4X9L"
      },
      "source": [
        "# 作業 : (Kaggle)鐵達尼生存預測\n",
        "https://www.kaggle.com/c/titanic"
      ]
    },
    {
      "cell_type": "markdown",
      "metadata": {
        "id": "g4zo1PDt4X9L"
      },
      "source": [
        "# [作業目標]\n",
        "- 試著模仿範例寫法, 在鐵達尼生存預測中, 觀察標籤編碼與獨編碼熱的影響"
      ]
    },
    {
      "cell_type": "markdown",
      "metadata": {
        "id": "5ATWvnrf4X9L"
      },
      "source": [
        "# [作業重點]\n",
        "- 回答在範例中的觀察結果\n",
        "- 觀察標籤編碼與獨熱編碼, 在特徵數量 / 邏輯斯迴歸分數 / 邏輯斯迴歸時間上, 分別有什麼影響 (In[3], Out[3], In[4], Out[4]) "
      ]
    },
    {
      "cell_type": "markdown",
      "metadata": {
        "collapsed": true,
        "id": "y2XX7vc34X9L"
      },
      "source": [
        "# 作業1\n",
        "* 觀察範例，在房價預測中調整標籤編碼(Label Encoder) / 獨熱編碼 (One Hot Encoder) 方式，  \n",
        "對於線性迴歸以及梯度提升樹兩種模型，何者影響比較大?"
      ]
    },
    {
      "cell_type": "code",
      "metadata": {
        "colab": {
          "base_uri": "https://localhost:8080/",
          "height": 238
        },
        "id": "3ApXFtFK4X9M",
        "outputId": "d1062424-33a8-4170-f487-beb80acc0d8b"
      },
      "source": [
        "# 做完特徵工程前的所有準備 (與前範例相同)\n",
        "import pandas as pd\n",
        "import numpy as np\n",
        "import copy, time\n",
        "from sklearn.preprocessing import MinMaxScaler\n",
        "from sklearn.model_selection import cross_val_score\n",
        "from sklearn.linear_model import LogisticRegression\n",
        "from sklearn.preprocessing import LabelEncoder\n",
        "\n",
        "\n",
        "import os\n",
        "from google.colab import drive\n",
        "drive.mount('/content/drive/')\n",
        "!cp -r 'drive/My Drive/學習/Cupoy/ML100_5/d007_data' ./\n",
        "os.chdir('/content/d007_data')\n",
        "df_train = pd.read_csv('titanic_train.csv')\n",
        "df_test = pd.read_csv('titanic_test.csv')\n",
        "\n",
        "\n",
        "\n",
        "train_Y = df_train['Survived']\n",
        "ids = df_test['PassengerId']\n",
        "df_train = df_train.drop(['PassengerId', 'Survived'] , axis=1)\n",
        "df_test = df_test.drop(['PassengerId'] , axis=1)\n",
        "df = pd.concat([df_train,df_test])\n",
        "df.head()"
      ],
      "execution_count": 2,
      "outputs": [
        {
          "output_type": "stream",
          "text": [
            "Drive already mounted at /content/drive/; to attempt to forcibly remount, call drive.mount(\"/content/drive/\", force_remount=True).\n",
            "cp: cannot stat 'drive/My Drive/學習/Cupoy/ML100_5/d007_data': No such file or directory\n"
          ],
          "name": "stdout"
        },
        {
          "output_type": "execute_result",
          "data": {
            "text/html": [
              "<div>\n",
              "<style scoped>\n",
              "    .dataframe tbody tr th:only-of-type {\n",
              "        vertical-align: middle;\n",
              "    }\n",
              "\n",
              "    .dataframe tbody tr th {\n",
              "        vertical-align: top;\n",
              "    }\n",
              "\n",
              "    .dataframe thead th {\n",
              "        text-align: right;\n",
              "    }\n",
              "</style>\n",
              "<table border=\"1\" class=\"dataframe\">\n",
              "  <thead>\n",
              "    <tr style=\"text-align: right;\">\n",
              "      <th></th>\n",
              "      <th>Pclass</th>\n",
              "      <th>Name</th>\n",
              "      <th>Sex</th>\n",
              "      <th>Age</th>\n",
              "      <th>SibSp</th>\n",
              "      <th>Parch</th>\n",
              "      <th>Ticket</th>\n",
              "      <th>Fare</th>\n",
              "      <th>Cabin</th>\n",
              "      <th>Embarked</th>\n",
              "    </tr>\n",
              "  </thead>\n",
              "  <tbody>\n",
              "    <tr>\n",
              "      <th>0</th>\n",
              "      <td>3</td>\n",
              "      <td>Braund, Mr. Owen Harris</td>\n",
              "      <td>male</td>\n",
              "      <td>22.0</td>\n",
              "      <td>1</td>\n",
              "      <td>0</td>\n",
              "      <td>A/5 21171</td>\n",
              "      <td>7.2500</td>\n",
              "      <td>NaN</td>\n",
              "      <td>S</td>\n",
              "    </tr>\n",
              "    <tr>\n",
              "      <th>1</th>\n",
              "      <td>1</td>\n",
              "      <td>Cumings, Mrs. John Bradley (Florence Briggs Th...</td>\n",
              "      <td>female</td>\n",
              "      <td>38.0</td>\n",
              "      <td>1</td>\n",
              "      <td>0</td>\n",
              "      <td>PC 17599</td>\n",
              "      <td>71.2833</td>\n",
              "      <td>C85</td>\n",
              "      <td>C</td>\n",
              "    </tr>\n",
              "    <tr>\n",
              "      <th>2</th>\n",
              "      <td>3</td>\n",
              "      <td>Heikkinen, Miss. Laina</td>\n",
              "      <td>female</td>\n",
              "      <td>26.0</td>\n",
              "      <td>0</td>\n",
              "      <td>0</td>\n",
              "      <td>STON/O2. 3101282</td>\n",
              "      <td>7.9250</td>\n",
              "      <td>NaN</td>\n",
              "      <td>S</td>\n",
              "    </tr>\n",
              "    <tr>\n",
              "      <th>3</th>\n",
              "      <td>1</td>\n",
              "      <td>Futrelle, Mrs. Jacques Heath (Lily May Peel)</td>\n",
              "      <td>female</td>\n",
              "      <td>35.0</td>\n",
              "      <td>1</td>\n",
              "      <td>0</td>\n",
              "      <td>113803</td>\n",
              "      <td>53.1000</td>\n",
              "      <td>C123</td>\n",
              "      <td>S</td>\n",
              "    </tr>\n",
              "    <tr>\n",
              "      <th>4</th>\n",
              "      <td>3</td>\n",
              "      <td>Allen, Mr. William Henry</td>\n",
              "      <td>male</td>\n",
              "      <td>35.0</td>\n",
              "      <td>0</td>\n",
              "      <td>0</td>\n",
              "      <td>373450</td>\n",
              "      <td>8.0500</td>\n",
              "      <td>NaN</td>\n",
              "      <td>S</td>\n",
              "    </tr>\n",
              "  </tbody>\n",
              "</table>\n",
              "</div>"
            ],
            "text/plain": [
              "   Pclass                                               Name  ... Cabin  Embarked\n",
              "0       3                            Braund, Mr. Owen Harris  ...   NaN         S\n",
              "1       1  Cumings, Mrs. John Bradley (Florence Briggs Th...  ...   C85         C\n",
              "2       3                             Heikkinen, Miss. Laina  ...   NaN         S\n",
              "3       1       Futrelle, Mrs. Jacques Heath (Lily May Peel)  ...  C123         S\n",
              "4       3                           Allen, Mr. William Henry  ...   NaN         S\n",
              "\n",
              "[5 rows x 10 columns]"
            ]
          },
          "metadata": {
            "tags": []
          },
          "execution_count": 2
        }
      ]
    },
    {
      "cell_type": "code",
      "metadata": {
        "colab": {
          "base_uri": "https://localhost:8080/",
          "height": 238
        },
        "id": "AycsuMSd4X9R",
        "outputId": "450a7d17-c2fa-4439-faf8-fb46141a57ec"
      },
      "source": [
        "#只取類別值 (object) 型欄位, 存於 object_features 中\n",
        "object_features = []\n",
        "for dtype, feature in zip(df.dtypes, df.columns):\n",
        "    if dtype == 'object':\n",
        "        object_features.append(feature)\n",
        "print(f'{len(object_features)} Numeric Features : {object_features}\\n')\n",
        "\n",
        "# 只留類別型欄位\n",
        "df = df[object_features]\n",
        "df = df.fillna('None')\n",
        "train_num = train_Y.shape[0]\n",
        "df.head()"
      ],
      "execution_count": 3,
      "outputs": [
        {
          "output_type": "stream",
          "text": [
            "5 Numeric Features : ['Name', 'Sex', 'Ticket', 'Cabin', 'Embarked']\n",
            "\n"
          ],
          "name": "stdout"
        },
        {
          "output_type": "execute_result",
          "data": {
            "text/html": [
              "<div>\n",
              "<style scoped>\n",
              "    .dataframe tbody tr th:only-of-type {\n",
              "        vertical-align: middle;\n",
              "    }\n",
              "\n",
              "    .dataframe tbody tr th {\n",
              "        vertical-align: top;\n",
              "    }\n",
              "\n",
              "    .dataframe thead th {\n",
              "        text-align: right;\n",
              "    }\n",
              "</style>\n",
              "<table border=\"1\" class=\"dataframe\">\n",
              "  <thead>\n",
              "    <tr style=\"text-align: right;\">\n",
              "      <th></th>\n",
              "      <th>Name</th>\n",
              "      <th>Sex</th>\n",
              "      <th>Ticket</th>\n",
              "      <th>Cabin</th>\n",
              "      <th>Embarked</th>\n",
              "    </tr>\n",
              "  </thead>\n",
              "  <tbody>\n",
              "    <tr>\n",
              "      <th>0</th>\n",
              "      <td>Braund, Mr. Owen Harris</td>\n",
              "      <td>male</td>\n",
              "      <td>A/5 21171</td>\n",
              "      <td>None</td>\n",
              "      <td>S</td>\n",
              "    </tr>\n",
              "    <tr>\n",
              "      <th>1</th>\n",
              "      <td>Cumings, Mrs. John Bradley (Florence Briggs Th...</td>\n",
              "      <td>female</td>\n",
              "      <td>PC 17599</td>\n",
              "      <td>C85</td>\n",
              "      <td>C</td>\n",
              "    </tr>\n",
              "    <tr>\n",
              "      <th>2</th>\n",
              "      <td>Heikkinen, Miss. Laina</td>\n",
              "      <td>female</td>\n",
              "      <td>STON/O2. 3101282</td>\n",
              "      <td>None</td>\n",
              "      <td>S</td>\n",
              "    </tr>\n",
              "    <tr>\n",
              "      <th>3</th>\n",
              "      <td>Futrelle, Mrs. Jacques Heath (Lily May Peel)</td>\n",
              "      <td>female</td>\n",
              "      <td>113803</td>\n",
              "      <td>C123</td>\n",
              "      <td>S</td>\n",
              "    </tr>\n",
              "    <tr>\n",
              "      <th>4</th>\n",
              "      <td>Allen, Mr. William Henry</td>\n",
              "      <td>male</td>\n",
              "      <td>373450</td>\n",
              "      <td>None</td>\n",
              "      <td>S</td>\n",
              "    </tr>\n",
              "  </tbody>\n",
              "</table>\n",
              "</div>"
            ],
            "text/plain": [
              "                                                Name     Sex  ... Cabin Embarked\n",
              "0                            Braund, Mr. Owen Harris    male  ...  None        S\n",
              "1  Cumings, Mrs. John Bradley (Florence Briggs Th...  female  ...   C85        C\n",
              "2                             Heikkinen, Miss. Laina  female  ...  None        S\n",
              "3       Futrelle, Mrs. Jacques Heath (Lily May Peel)  female  ...  C123        S\n",
              "4                           Allen, Mr. William Henry    male  ...  None        S\n",
              "\n",
              "[5 rows x 5 columns]"
            ]
          },
          "metadata": {
            "tags": []
          },
          "execution_count": 3
        }
      ]
    },
    {
      "cell_type": "markdown",
      "metadata": {
        "collapsed": true,
        "id": "JxATfQ9-4X9R"
      },
      "source": [
        "# 作業2\n",
        "* 鐵達尼號例題中，標籤編碼 / 獨熱編碼又分別對預測結果有何影響? (Hint : 參考今日範例)"
      ]
    },
    {
      "cell_type": "code",
      "metadata": {
        "colab": {
          "base_uri": "https://localhost:8080/"
        },
        "id": "H54Fuh9F4X9R",
        "outputId": "19bc9427-64f3-48cc-f1fb-a22acef5485a"
      },
      "source": [
        "# 標籤編碼 + 羅吉斯迴歸\n",
        "\n",
        "\"\"\"\n",
        "Your Code Here\n",
        "\"\"\"\n",
        "df2 = pd.DataFrame()\n",
        "for col in df.columns:\n",
        "  df2[col]=LabelEncoder().fit_transform(df[col])\n",
        "\n",
        "model = LogisticRegression()\n",
        "model.fit(df2[:train_num], train_Y)\n",
        "cross_val_score(model, df2[:train_num], train_Y, cv=5).mean()"
      ],
      "execution_count": 6,
      "outputs": [
        {
          "output_type": "stream",
          "text": [
            "/usr/local/lib/python3.6/dist-packages/sklearn/linear_model/_logistic.py:940: ConvergenceWarning: lbfgs failed to converge (status=1):\n",
            "STOP: TOTAL NO. of ITERATIONS REACHED LIMIT.\n",
            "\n",
            "Increase the number of iterations (max_iter) or scale the data as shown in:\n",
            "    https://scikit-learn.org/stable/modules/preprocessing.html\n",
            "Please also refer to the documentation for alternative solver options:\n",
            "    https://scikit-learn.org/stable/modules/linear_model.html#logistic-regression\n",
            "  extra_warning_msg=_LOGISTIC_SOLVER_CONVERGENCE_MSG)\n"
          ],
          "name": "stderr"
        },
        {
          "output_type": "execute_result",
          "data": {
            "text/plain": [
              "0.7800138095537004"
            ]
          },
          "metadata": {
            "tags": []
          },
          "execution_count": 6
        }
      ]
    },
    {
      "cell_type": "code",
      "metadata": {
        "colab": {
          "base_uri": "https://localhost:8080/"
        },
        "id": "GyEgjOqt4X9R",
        "outputId": "8157f4be-26d3-4c53-c9b6-b06a44ef5216"
      },
      "source": [
        "# 獨熱編碼 + 羅吉斯迴歸\n",
        "\n",
        "\"\"\"\n",
        "Your Code Here\n",
        "\"\"\"\n",
        "\n",
        "#df3 = pd.DataFrame()\n",
        "df3 = pd.get_dummies(df)\n",
        "\n",
        "model = LogisticRegression()\n",
        "model.fit(df3[:train_num], train_Y)\n",
        "cross_val_score(model, df3[:train_num], train_Y, cv=5).mean()"
      ],
      "execution_count": 7,
      "outputs": [
        {
          "output_type": "execute_result",
          "data": {
            "text/plain": [
              "0.8013307388111229"
            ]
          },
          "metadata": {
            "tags": []
          },
          "execution_count": 7
        }
      ]
    },
    {
      "cell_type": "code",
      "metadata": {
        "id": "pDZKmBxC6fRj"
      },
      "source": [
        ""
      ],
      "execution_count": null,
      "outputs": []
    },
    {
      "cell_type": "code",
      "metadata": {
        "id": "CUVufwQj4X9R"
      },
      "source": [
        ""
      ],
      "execution_count": null,
      "outputs": []
    }
  ]
}