{
  "nbformat": 4,
  "nbformat_minor": 0,
  "metadata": {
    "kernelspec": {
      "display_name": "Python 3",
      "language": "python",
      "name": "python3"
    },
    "language_info": {
      "codemirror_mode": {
        "name": "ipython",
        "version": 3
      },
      "file_extension": ".py",
      "mimetype": "text/x-python",
      "name": "python",
      "nbconvert_exporter": "python",
      "pygments_lexer": "ipython3",
      "version": "3.6.1"
    },
    "colab": {
      "name": "Day_014_HW.ipynb",
      "provenance": [],
      "collapsed_sections": [],
      "include_colab_link": true
    }
  },
  "cells": [
    {
      "cell_type": "markdown",
      "metadata": {
        "id": "view-in-github",
        "colab_type": "text"
      },
      "source": [
        "<a href=\"https://colab.research.google.com/github/PatrickRuan/ML100Days/blob/master/homework/Day_014_HW.ipynb\" target=\"_parent\"><img src=\"https://colab.research.google.com/assets/colab-badge.svg\" alt=\"Open In Colab\"/></a>"
      ]
    },
    {
      "cell_type": "code",
      "metadata": {
        "colab": {
          "base_uri": "https://localhost:8080/"
        },
        "id": "Cw0bWpI-YvPz",
        "outputId": "bba06123-d687-4d33-f712-32334be6e884"
      },
      "source": [
        "# 載入基礎套件\n",
        "import numpy as np\n",
        "np.random.seed(1)\n",
        "\n",
        "import matplotlib\n",
        "import matplotlib.pyplot as plt\n",
        "%matplotlib inline\n",
        "# 作業\n",
        "#- 參考範例程式碼，模擬一組負相關的資料，並計算出相關係數以及畫出 scatter plot\n",
        "# 隨機生成 1000 個介於 0~50 的數 x\n",
        "x = np.random.randint(0, 50, 1000)\n",
        "\n",
        "# 這次讓 y 與 x 負相關，再增加一些雜訊\n",
        "y = -x + np.random.normal(0, 10, 1000)\n",
        "\n",
        "# 再次用 numpy 裡的函數來計算相關係數\n",
        "print(np.corrcoef(x, y),'\\n\\n')\n",
        "print(np.corrcoef(x,y)[0][1])"
      ],
      "execution_count": 4,
      "outputs": [
        {
          "output_type": "stream",
          "text": [
            "[[ 1.         -0.81969199]\n",
            " [-0.81969199  1.        ]] \n",
            "\n",
            "\n",
            "-0.8196919855851195\n"
          ],
          "name": "stdout"
        }
      ]
    },
    {
      "cell_type": "markdown",
      "metadata": {
        "id": "ZCe306vvZehD"
      },
      "source": [
        ""
      ]
    },
    {
      "cell_type": "code",
      "metadata": {
        "colab": {
          "base_uri": "https://localhost:8080/",
          "height": 282
        },
        "id": "A7mG_WHaZezI",
        "outputId": "caabeb0e-66c7-4405-81dd-c4e762d7ffbd"
      },
      "source": [
        "# 再看看負相關的 x,y 分布\n",
        "plt.scatter(x, y)"
      ],
      "execution_count": 5,
      "outputs": [
        {
          "output_type": "execute_result",
          "data": {
            "text/plain": [
              "<matplotlib.collections.PathCollection at 0x7f404348a2e8>"
            ]
          },
          "metadata": {
            "tags": []
          },
          "execution_count": 5
        },
        {
          "output_type": "display_data",
          "data": {
            "image/png": "[encoded data removed]",
            "text/plain": [
              "<Figure size 432x288 with 1 Axes>"
            ]
          },
          "metadata": {
            "tags": [],
            "needs_background": "light"
          }
        }
      ]
    },
    {
      "cell_type": "code",
      "metadata": {
        "colab": {
          "base_uri": "https://localhost:8080/",
          "height": 131
        },
        "id": "MNMYh7zHYvP0",
        "outputId": "89ff4647-1042-4f3f-839a-3ea24ce99f74"
      },
      "source": [
        "# [作業目標]\n",
        "#- 以下程式碼將示範在 python 如何利用 numpy 計算出兩組數據之間的相關係數，並觀察散佈圖\n",
        "#- 藉由觀察相關矩陣與散佈圖的關係, 希望同學對 負相關 的變數分布情形也有比較直覺的理解"
      ],
      "execution_count": 2,
      "outputs": [
        {
          "output_type": "error",
          "ename": "SyntaxError",
          "evalue": "ignored",
          "traceback": [
            "\u001b[0;36m  File \u001b[0;32m\"<ipython-input-2-0994318bb86c>\"\u001b[0;36m, line \u001b[0;32m2\u001b[0m\n\u001b[0;31m    - 以下程式碼將示範在 python 如何利用 numpy 計算出兩組數據之間的相關係數，並觀察散佈圖\u001b[0m\n\u001b[0m                     ^\u001b[0m\n\u001b[0;31mSyntaxError\u001b[0m\u001b[0;31m:\u001b[0m invalid syntax\n"
          ]
        }
      ]
    },
    {
      "cell_type": "code",
      "metadata": {
        "id": "Bi98oBnHYvP0"
      },
      "source": [
        "# [作業重點]\n",
        "- 仿照 In[4], In[5] 的語法, 寫出負相關的變數, 並觀察相關矩陣以及分布圖"
      ],
      "execution_count": null,
      "outputs": []
    },
    {
      "cell_type": "code",
      "metadata": {
        "id": "vmIuBn_LYvP0"
      },
      "source": [
        "# 載入基礎套件\n",
        "import numpy as np\n",
        "np.random.seed(1)\n",
        "\n",
        "import matplotlib\n",
        "import matplotlib.pyplot as plt\n",
        "%matplotlib inline"
      ],
      "execution_count": null,
      "outputs": []
    },
    {
      "cell_type": "markdown",
      "metadata": {
        "id": "wE01MJNmYvP1"
      },
      "source": [
        "### 弱相關"
      ]
    },
    {
      "cell_type": "code",
      "metadata": {
        "id": "D5j9JgteYvP1"
      },
      "source": [
        "# 隨機生成兩組 1000 個介於 0~50 的數的整數 x, y, 看看相關矩陣如何\n",
        "x = np.random.randint(0, 50, 1000)\n",
        "y = np.random.randint(0, 50, 1000)\n",
        "\n",
        "# 呼叫 numpy 裡的相關矩陣函數 (corrcoef)\n",
        "np.corrcoef(x, y)"
      ],
      "execution_count": null,
      "outputs": []
    },
    {
      "cell_type": "code",
      "metadata": {
        "id": "u16vGshiYvP2"
      },
      "source": [
        "# 將分布畫出來看看吧\n",
        "plt.scatter(x, y)"
      ],
      "execution_count": null,
      "outputs": []
    },
    {
      "cell_type": "markdown",
      "metadata": {
        "id": "-UHhRAy1YvP2"
      },
      "source": [
        "### 正相關"
      ]
    },
    {
      "cell_type": "code",
      "metadata": {
        "id": "gk8u7JpxYvP2"
      },
      "source": [
        "# 隨機生成 1000 個介於 0~50 的數 x\n",
        "x = np.random.randint(0, 50, 1000)\n",
        "\n",
        "# 這次讓 y 與 x 正相關，再增加一些雜訊\n",
        "y = x + np.random.normal(0, 10, 1000)\n",
        "\n",
        "# 再次用 numpy 裡的函數來計算相關係數\n",
        "np.corrcoef(x, y)"
      ],
      "execution_count": null,
      "outputs": []
    },
    {
      "cell_type": "code",
      "metadata": {
        "id": "pRby5PgsYvP2"
      },
      "source": [
        "# 再看看正相關的 x,y 分布\n",
        "plt.scatter(x, y)"
      ],
      "execution_count": null,
      "outputs": []
    },
    {
      "cell_type": "code",
      "metadata": {
        "id": "HMJx0aWgYvP3"
      },
      "source": [
        ""
      ],
      "execution_count": null,
      "outputs": []
    }
  ]
}