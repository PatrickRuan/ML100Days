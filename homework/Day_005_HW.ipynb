{
  "nbformat": 4,
  "nbformat_minor": 0,
  "metadata": {
    "kernelspec": {
      "display_name": "Python 3",
      "language": "python",
      "name": "python3"
    },
    "language_info": {
      "codemirror_mode": {
        "name": "ipython",
        "version": 3
      },
      "file_extension": ".py",
      "mimetype": "text/x-python",
      "name": "python",
      "nbconvert_exporter": "python",
      "pygments_lexer": "ipython3",
      "version": "3.6.1"
    },
    "colab": {
      "name": "Day_005_HW.ipynb",
      "provenance": [],
      "collapsed_sections": [
        "6x36xHb1F-nF",
        "S9rZRBE0F-nM",
        "aJC8Ta7_9Kd0",
        "zEyCkBlx9LIw",
        "9_zzU9Tg9LI2",
        "rNVr5BnE9LI6",
        "hPyhbiDB9LJH",
        "yFd4RI4L9LJN",
        "YNfmQve39KeH",
        "mbRf3_z99KeV",
        "W-YQemaA9Ker",
        "o-STuZIK9Ke8",
        "DP3pk1v99FMV",
        "goJufN7U9FM7",
        "VSzbqurV9FNc",
        "5_GGDzxM9FOL",
        "ifZsiLpC9FOZ",
        "Aoe81R5EH7gp",
        "kcvazwA4H7hG",
        "VF07R9SqH7hc",
        "RgO5p9KMH7h6",
        "2-I0O846H7iE"
      ],
      "include_colab_link": true
    }
  },
  "cells": [
    {
      "cell_type": "markdown",
      "metadata": {
        "id": "view-in-github",
        "colab_type": "text"
      },
      "source": [
        "<a href=\"https://colab.research.google.com/github/PatrickRuan/ML100Days/blob/master/homework/Day_005_HW.ipynb\" target=\"_parent\"><img src=\"https://colab.research.google.com/assets/colab-badge.svg\" alt=\"Open In Colab\"/></a>"
      ]
    },
    {
      "cell_type": "markdown",
      "metadata": {
        "id": "tSe23v5x3uwV"
      },
      "source": [
        "# Day_005-1_HW.ipynb"
      ]
    },
    {
      "cell_type": "markdown",
      "metadata": {
        "id": "V_GF85-zEYHE"
      },
      "source": [
        "# [作業目標]\n",
        "- 利用範例的創建方式, 創建一組資料, 並練習如何取出最大值"
      ]
    },
    {
      "cell_type": "markdown",
      "metadata": {
        "id": "NsTSmcYBEYHH"
      },
      "source": [
        "# [作業重點]\n",
        "- 練習創立 DataFrame (In[2])\n",
        "- 如何取出口數最多的國家 (In[3], Out[3])"
      ]
    },
    {
      "cell_type": "markdown",
      "metadata": {
        "id": "jq4K8CY1EYHJ"
      },
      "source": [
        "## 練習時間\n",
        "在小量的資料上，我們用眼睛就可以看得出來程式碼是否有跑出我們理想中的結果\n",
        "\n",
        "請嘗試想像一個你需要的資料結構 (裡面的值可以是隨機的)，然後用上述的方法把它變成 pandas DataFrame\n",
        "\n",
        "#### Ex: 想像一個 dataframe 有兩個欄位，一個是國家，一個是人口，求人口數最多的國家\n",
        "\n",
        "### Hints: [隨機產生數值](https://blog.csdn.net/christianashannon/article/details/78867204)"
      ]
    },
    {
      "cell_type": "code",
      "metadata": {
        "id": "i7195xeQEYHL"
      },
      "source": [
        "import pandas as pd\n",
        "import numpy as np"
      ],
      "execution_count": null,
      "outputs": []
    },
    {
      "cell_type": "code",
      "metadata": {
        "id": "ukth37tOEYHX"
      },
      "source": [
        "data = {'國家':['us', 'ca', 'uk', 'ind','sig', 'jp', 'ko'] ,\n",
        "        '人口':[np.random.randint(100000,1000000) for data in range(7)]}\n",
        "data = pd.DataFrame(data)"
      ],
      "execution_count": null,
      "outputs": []
    },
    {
      "cell_type": "code",
      "metadata": {
        "id": "IA_jsI54EYHg",
        "outputId": "fea1be22-a5f2-4421-b9bd-2da30e51cc62",
        "colab": {
          "base_uri": "https://localhost:8080/",
          "height": 265
        }
      },
      "source": [
        "data"
      ],
      "execution_count": null,
      "outputs": [
        {
          "output_type": "execute_result",
          "data": {
            "text/html": [
              "<div>\n",
              "<style scoped>\n",
              "    .dataframe tbody tr th:only-of-type {\n",
              "        vertical-align: middle;\n",
              "    }\n",
              "\n",
              "    .dataframe tbody tr th {\n",
              "        vertical-align: top;\n",
              "    }\n",
              "\n",
              "    .dataframe thead th {\n",
              "        text-align: right;\n",
              "    }\n",
              "</style>\n",
              "<table border=\"1\" class=\"dataframe\">\n",
              "  <thead>\n",
              "    <tr style=\"text-align: right;\">\n",
              "      <th></th>\n",
              "      <th>國家</th>\n",
              "      <th>人口</th>\n",
              "    </tr>\n",
              "  </thead>\n",
              "  <tbody>\n",
              "    <tr>\n",
              "      <th>0</th>\n",
              "      <td>us</td>\n",
              "      <td>702535</td>\n",
              "    </tr>\n",
              "    <tr>\n",
              "      <th>1</th>\n",
              "      <td>ca</td>\n",
              "      <td>189193</td>\n",
              "    </tr>\n",
              "    <tr>\n",
              "      <th>2</th>\n",
              "      <td>uk</td>\n",
              "      <td>484752</td>\n",
              "    </tr>\n",
              "    <tr>\n",
              "      <th>3</th>\n",
              "      <td>ind</td>\n",
              "      <td>215157</td>\n",
              "    </tr>\n",
              "    <tr>\n",
              "      <th>4</th>\n",
              "      <td>sig</td>\n",
              "      <td>594056</td>\n",
              "    </tr>\n",
              "    <tr>\n",
              "      <th>5</th>\n",
              "      <td>jp</td>\n",
              "      <td>618120</td>\n",
              "    </tr>\n",
              "    <tr>\n",
              "      <th>6</th>\n",
              "      <td>ko</td>\n",
              "      <td>137528</td>\n",
              "    </tr>\n",
              "  </tbody>\n",
              "</table>\n",
              "</div>"
            ],
            "text/plain": [
              "    國家      人口\n",
              "0   us  702535\n",
              "1   ca  189193\n",
              "2   uk  484752\n",
              "3  ind  215157\n",
              "4  sig  594056\n",
              "5   jp  618120\n",
              "6   ko  137528"
            ]
          },
          "metadata": {
            "tags": []
          },
          "execution_count": 3
        }
      ]
    },
    {
      "cell_type": "markdown",
      "metadata": {
        "id": "EBw-VU7W31PB"
      },
      "source": [
        "# Day_005-2_HW.ipynb"
      ]
    },
    {
      "cell_type": "markdown",
      "metadata": {
        "id": "iQW2N9GOF-lv"
      },
      "source": [
        "## 讀取 txt 檔\n",
        "* 請讀取 [text file](https://raw.githubusercontent.com/vashineyu/slides_and_others/master/tutorial/examples/imagenet_urls_examples.txt)\n",
        "* 懶人複製連結: https://raw.githubusercontent.com/vashineyu/slides_and_others/master/tutorial/examples/imagenet_urls_examples.txt\n",
        "\n",
        "### Hints: 使用 [Request](https://blog.gtwang.org/programming/python-requests-module-tutorial/) 抓取資料\n",
        "### Hints: [字串分割](http://www.runoob.com/python/att-string-split.html)\n",
        "### Hints: 例外處理: [Try-Except](https://pydoing.blogspot.com/2011/01/python-try.html)"
      ]
    },
    {
      "cell_type": "code",
      "metadata": {
        "id": "G16LDZp44CTr",
        "outputId": "130f5cd7-249c-45f6-9b17-f84a013a1278",
        "colab": {
          "base_uri": "https://localhost:8080/",
          "height": 203
        }
      },
      "source": [
        "import requests\n",
        "text = requests.get(\"https://raw.githubusercontent.com/vashineyu/slides_and_others/master/tutorial/examples/imagenet_urls_examples.txt\")\n",
        "# !curl -O\n",
        "doc = text.text\n",
        "len(doc) #784594\n",
        "doc = doc.split('\\n')\n",
        "type(doc) #list\n",
        "doc[0:3]\n",
        "for n, text in enumerate(doc):\n",
        "  doc[n]=text.split('\\t')\n",
        "doc[0:3]\n",
        "import pandas as pd\n",
        "df = pd.DataFrame(doc)\n",
        "df.columns = ['no.', 'url']\n",
        "df.head()"
      ],
      "execution_count": null,
      "outputs": [
        {
          "output_type": "execute_result",
          "data": {
            "text/html": [
              "<div>\n",
              "<style scoped>\n",
              "    .dataframe tbody tr th:only-of-type {\n",
              "        vertical-align: middle;\n",
              "    }\n",
              "\n",
              "    .dataframe tbody tr th {\n",
              "        vertical-align: top;\n",
              "    }\n",
              "\n",
              "    .dataframe thead th {\n",
              "        text-align: right;\n",
              "    }\n",
              "</style>\n",
              "<table border=\"1\" class=\"dataframe\">\n",
              "  <thead>\n",
              "    <tr style=\"text-align: right;\">\n",
              "      <th></th>\n",
              "      <th>no.</th>\n",
              "      <th>url</th>\n",
              "    </tr>\n",
              "  </thead>\n",
              "  <tbody>\n",
              "    <tr>\n",
              "      <th>0</th>\n",
              "      <td>n00015388_157</td>\n",
              "      <td>http://farm1.static.flickr.com/145/430300483_2...</td>\n",
              "    </tr>\n",
              "    <tr>\n",
              "      <th>1</th>\n",
              "      <td>n00015388_238</td>\n",
              "      <td>http://farm2.static.flickr.com/1005/3352960681...</td>\n",
              "    </tr>\n",
              "    <tr>\n",
              "      <th>2</th>\n",
              "      <td>n00015388_304</td>\n",
              "      <td>http://farm1.static.flickr.com/27/51009336_a96...</td>\n",
              "    </tr>\n",
              "    <tr>\n",
              "      <th>3</th>\n",
              "      <td>n00015388_327</td>\n",
              "      <td>http://farm4.static.flickr.com/3025/2444687979...</td>\n",
              "    </tr>\n",
              "    <tr>\n",
              "      <th>4</th>\n",
              "      <td>n00015388_355</td>\n",
              "      <td>http://img100.imageshack.us/img100/3253/forres...</td>\n",
              "    </tr>\n",
              "  </tbody>\n",
              "</table>\n",
              "</div>"
            ],
            "text/plain": [
              "             no.                                                url\n",
              "0  n00015388_157  http://farm1.static.flickr.com/145/430300483_2...\n",
              "1  n00015388_238  http://farm2.static.flickr.com/1005/3352960681...\n",
              "2  n00015388_304  http://farm1.static.flickr.com/27/51009336_a96...\n",
              "3  n00015388_327  http://farm4.static.flickr.com/3025/2444687979...\n",
              "4  n00015388_355  http://img100.imageshack.us/img100/3253/forres..."
            ]
          },
          "metadata": {
            "tags": []
          },
          "execution_count": 33
        }
      ]
    },
    {
      "cell_type": "markdown",
      "metadata": {
        "id": "qzJpTGyfF-l4"
      },
      "source": [
        "# [作業目標]\n",
        "- 試著讀取網頁上的圖片連結清單, 再以清單中網址讀取圖片"
      ]
    },
    {
      "cell_type": "markdown",
      "metadata": {
        "id": "aOuJVac4F-l8"
      },
      "source": [
        "# [作業重點]\n",
        "- 從網頁上讀取連結清單 (In[1], In[2])\n",
        "- 從清單網址讀取圖片 (In[6]~In[9], Out[6]~Out[9])"
      ]
    },
    {
      "cell_type": "code",
      "metadata": {
        "id": "3axHWY4FF-mB",
        "outputId": "383bf86b-bade-4278-8801-d7bfd2b8ffba",
        "colab": {
          "base_uri": "https://localhost:8080/",
          "height": 68
        }
      },
      "source": [
        "## 假如我們不想把資料載到自己的電腦裡?\n",
        "# 把連結填入\n",
        "target_url = \"https://raw.githubusercontent.com/vashineyu/slides_and_others/master/tutorial/examples/imagenet_urls_examples.txt\"\n",
        "!curl -O https://raw.githubusercontent.com/vashineyu/slides_and_others/master/tutorial/examples/imagenet_urls_examples.txt"
      ],
      "execution_count": null,
      "outputs": [
        {
          "output_type": "stream",
          "text": [
            "  % Total    % Received % Xferd  Average Speed   Time    Time     Time  Current\n",
            "                                 Dload  Upload   Total   Spent    Left  Speed\n",
            "100  766k  100  766k    0     0  2065k      0 --:--:-- --:--:-- --:--:-- 2065k\n"
          ],
          "name": "stdout"
        }
      ]
    },
    {
      "cell_type": "code",
      "metadata": {
        "id": "qNAermPuF-md",
        "outputId": "8019033a-54b0-4563-a813-f88b75d4eda8",
        "colab": {
          "base_uri": "https://localhost:8080/",
          "height": 52
        }
      },
      "source": [
        "import requests\n",
        "response = requests.get(target_url)\n",
        "data = response.text\n",
        "\n",
        "# 用 request 傳送回來的資料不會認得斷行符號\n",
        "print(len(data))\n",
        "data[0:100]"
      ],
      "execution_count": null,
      "outputs": [
        {
          "output_type": "stream",
          "text": [
            "784594\n"
          ],
          "name": "stdout"
        },
        {
          "output_type": "execute_result",
          "data": {
            "application/vnd.google.colaboratory.intrinsic+json": {
              "type": "string"
            },
            "text/plain": [
              "'n00015388_157\\thttp://farm1.static.flickr.com/145/430300483_21e993670c.jpg\\nn00015388_238\\thttp://farm2'"
            ]
          },
          "metadata": {
            "tags": []
          },
          "execution_count": 35
        }
      ]
    },
    {
      "cell_type": "code",
      "metadata": {
        "id": "9HTX_uAMF-m2",
        "outputId": "00ae1560-f83a-47ca-f265-36806b71129e",
        "colab": {
          "base_uri": "https://localhost:8080/",
          "height": 52
        }
      },
      "source": [
        "# 找到換行符號，用該符號做字串分割後，把它拿掉\n",
        "split_tag = '\\n'\n",
        "\n",
        "data = data.split(split_tag)\n",
        "print(len(data))\n",
        "data[0]"
      ],
      "execution_count": null,
      "outputs": [
        {
          "output_type": "stream",
          "text": [
            "9996\n"
          ],
          "name": "stdout"
        },
        {
          "output_type": "execute_result",
          "data": {
            "application/vnd.google.colaboratory.intrinsic+json": {
              "type": "string"
            },
            "text/plain": [
              "'n00015388_157\\thttp://farm1.static.flickr.com/145/430300483_21e993670c.jpg'"
            ]
          },
          "metadata": {
            "tags": []
          },
          "execution_count": 36
        }
      ]
    },
    {
      "cell_type": "markdown",
      "metadata": {
        "id": "6x36xHb1F-nF"
      },
      "source": [
        "## 將 txt 轉成 pandas dataframe"
      ]
    },
    {
      "cell_type": "code",
      "metadata": {
        "id": "qKiyRX4zF-nH",
        "outputId": "df41e2a0-0896-493b-aa62-9ff9fb35bc3a",
        "colab": {
          "base_uri": "https://localhost:8080/",
          "height": 203
        }
      },
      "source": [
        "import pandas as pd\n",
        "arrange_data = []\n",
        "for i in data:\n",
        "  arrange_data.append(i.split('\\t'))\n",
        "  \n",
        "    \n",
        "df = pd.DataFrame(arrange_data)\n",
        "df.head()"
      ],
      "execution_count": null,
      "outputs": [
        {
          "output_type": "execute_result",
          "data": {
            "text/html": [
              "<div>\n",
              "<style scoped>\n",
              "    .dataframe tbody tr th:only-of-type {\n",
              "        vertical-align: middle;\n",
              "    }\n",
              "\n",
              "    .dataframe tbody tr th {\n",
              "        vertical-align: top;\n",
              "    }\n",
              "\n",
              "    .dataframe thead th {\n",
              "        text-align: right;\n",
              "    }\n",
              "</style>\n",
              "<table border=\"1\" class=\"dataframe\">\n",
              "  <thead>\n",
              "    <tr style=\"text-align: right;\">\n",
              "      <th></th>\n",
              "      <th>0</th>\n",
              "      <th>1</th>\n",
              "    </tr>\n",
              "  </thead>\n",
              "  <tbody>\n",
              "    <tr>\n",
              "      <th>0</th>\n",
              "      <td>n00015388_157</td>\n",
              "      <td>http://farm1.static.flickr.com/145/430300483_2...</td>\n",
              "    </tr>\n",
              "    <tr>\n",
              "      <th>1</th>\n",
              "      <td>n00015388_238</td>\n",
              "      <td>http://farm2.static.flickr.com/1005/3352960681...</td>\n",
              "    </tr>\n",
              "    <tr>\n",
              "      <th>2</th>\n",
              "      <td>n00015388_304</td>\n",
              "      <td>http://farm1.static.flickr.com/27/51009336_a96...</td>\n",
              "    </tr>\n",
              "    <tr>\n",
              "      <th>3</th>\n",
              "      <td>n00015388_327</td>\n",
              "      <td>http://farm4.static.flickr.com/3025/2444687979...</td>\n",
              "    </tr>\n",
              "    <tr>\n",
              "      <th>4</th>\n",
              "      <td>n00015388_355</td>\n",
              "      <td>http://img100.imageshack.us/img100/3253/forres...</td>\n",
              "    </tr>\n",
              "  </tbody>\n",
              "</table>\n",
              "</div>"
            ],
            "text/plain": [
              "               0                                                  1\n",
              "0  n00015388_157  http://farm1.static.flickr.com/145/430300483_2...\n",
              "1  n00015388_238  http://farm2.static.flickr.com/1005/3352960681...\n",
              "2  n00015388_304  http://farm1.static.flickr.com/27/51009336_a96...\n",
              "3  n00015388_327  http://farm4.static.flickr.com/3025/2444687979...\n",
              "4  n00015388_355  http://img100.imageshack.us/img100/3253/forres..."
            ]
          },
          "metadata": {
            "tags": []
          },
          "execution_count": 37
        }
      ]
    },
    {
      "cell_type": "markdown",
      "metadata": {
        "id": "S9rZRBE0F-nM"
      },
      "source": [
        "## 讀取圖片，請讀取上面 data frame 中的前 5 張圖片"
      ]
    },
    {
      "cell_type": "code",
      "metadata": {
        "id": "8SQR-XXn9cDM",
        "outputId": "a3c62bc1-aa70-4f9a-e7bf-b54ec20e773a",
        "colab": {
          "base_uri": "https://localhost:8080/",
          "height": 35
        }
      },
      "source": [
        "first_link = df.loc[0,1]\n",
        "first_link"
      ],
      "execution_count": null,
      "outputs": [
        {
          "output_type": "execute_result",
          "data": {
            "application/vnd.google.colaboratory.intrinsic+json": {
              "type": "string"
            },
            "text/plain": [
              "'http://farm1.static.flickr.com/145/430300483_21e993670c.jpg'"
            ]
          },
          "metadata": {
            "tags": []
          },
          "execution_count": 38
        }
      ]
    },
    {
      "cell_type": "code",
      "metadata": {
        "id": "asMoxQ3wF-nM"
      },
      "source": [
        "from PIL import Image\n",
        "from io import BytesIO\n",
        "import numpy as np\n",
        "import matplotlib.pyplot as plt\n",
        "\n",
        "# 請用 df.loc[...] 得到第一筆資料的連結\n",
        "first_link = df.loc[0,1]\n",
        "\n",
        "response = requests.get(first_link)\n",
        "img = Image.open(BytesIO(response.content))\n",
        "\n",
        "# Convert img to numpy array\n",
        "\n",
        "plt.imshow(img)\n",
        "plt.show()"
      ],
      "execution_count": null,
      "outputs": []
    },
    {
      "cell_type": "code",
      "metadata": {
        "id": "S8A9lUH4_dt-",
        "outputId": "ff94c45d-8460-47ba-d938-1cd7e851bb1e",
        "colab": {
          "base_uri": "https://localhost:8080/",
          "height": 103
        }
      },
      "source": [
        "df[:5][1].values\n",
        "for i in df[0:5][1].values:\n",
        "  print(i)"
      ],
      "execution_count": null,
      "outputs": [
        {
          "output_type": "stream",
          "text": [
            "http://farm1.static.flickr.com/145/430300483_21e993670c.jpg\n",
            "http://farm2.static.flickr.com/1005/3352960681_37b9c1d27b.jpg\n",
            "http://farm1.static.flickr.com/27/51009336_a9663af3dd.jpg\n",
            "http://farm4.static.flickr.com/3025/2444687979_bf7bc8df21.jpg\n",
            "http://img100.imageshack.us/img100/3253/forrest004fs9.jpg\n"
          ],
          "name": "stdout"
        }
      ]
    },
    {
      "cell_type": "code",
      "metadata": {
        "id": "QKoO4ylyF-nT",
        "outputId": "30c3cc5b-8adf-41d6-b90f-a478240caadb",
        "colab": {
          "base_uri": "https://localhost:8080/",
          "height": 467
        }
      },
      "source": [
        "def img2arr_fromURLs(url_list, resize = False):\n",
        "  img = []\n",
        "  for i in url_list:\n",
        "    #print(i)\n",
        "    response = requests.get(i)\n",
        "    response = Image.open(BytesIO(response.content))\n",
        "    response = np.array(response)\n",
        "    #img.append(Image.open(BytesIO(response.content)))\n",
        "    img.append(response)\n",
        "  '''\n",
        "  請完成這個 Function\n",
        "    Args\n",
        "        - url_list: list of URLs\n",
        "        - resize: bool\n",
        "    Return\n",
        "        - list of array\n",
        "  '''\n",
        "  return img  \n",
        "  #return img_list\n",
        "result = img2arr_fromURLs(df[0:5][1].values)\n",
        "type(result)\n",
        "Image.open(BytesIO(result[0].content))\n"
      ],
      "execution_count": null,
      "outputs": [
        {
          "output_type": "stream",
          "text": [
            "http://farm1.static.flickr.com/145/430300483_21e993670c.jpg\n",
            "http://farm2.static.flickr.com/1005/3352960681_37b9c1d27b.jpg\n",
            "http://farm1.static.flickr.com/27/51009336_a9663af3dd.jpg\n",
            "http://farm4.static.flickr.com/3025/2444687979_bf7bc8df21.jpg\n",
            "http://img100.imageshack.us/img100/3253/forrest004fs9.jpg\n"
          ],
          "name": "stdout"
        },
        {
          "output_type": "error",
          "ename": "UnidentifiedImageError",
          "evalue": "ignored",
          "traceback": [
            "\u001b[0;31m---------------------------------------------------------------------------\u001b[0m",
            "\u001b[0;31mUnidentifiedImageError\u001b[0m                    Traceback (most recent call last)",
            "\u001b[0;32m<ipython-input-72-6386cc0f7abe>\u001b[0m in \u001b[0;36m<module>\u001b[0;34m()\u001b[0m\n\u001b[1;32m     18\u001b[0m   \u001b[0;32mreturn\u001b[0m \u001b[0mimg\u001b[0m\u001b[0;34m\u001b[0m\u001b[0;34m\u001b[0m\u001b[0m\n\u001b[1;32m     19\u001b[0m   \u001b[0;31m#return img_list\u001b[0m\u001b[0;34m\u001b[0m\u001b[0;34m\u001b[0m\u001b[0;34m\u001b[0m\u001b[0m\n\u001b[0;32m---> 20\u001b[0;31m \u001b[0mresult\u001b[0m \u001b[0;34m=\u001b[0m \u001b[0mimg2arr_fromURLs\u001b[0m\u001b[0;34m(\u001b[0m\u001b[0mdf\u001b[0m\u001b[0;34m[\u001b[0m\u001b[0;36m0\u001b[0m\u001b[0;34m:\u001b[0m\u001b[0;36m5\u001b[0m\u001b[0;34m]\u001b[0m\u001b[0;34m[\u001b[0m\u001b[0;36m1\u001b[0m\u001b[0;34m]\u001b[0m\u001b[0;34m.\u001b[0m\u001b[0mvalues\u001b[0m\u001b[0;34m)\u001b[0m\u001b[0;34m\u001b[0m\u001b[0;34m\u001b[0m\u001b[0m\n\u001b[0m\u001b[1;32m     21\u001b[0m \u001b[0mtype\u001b[0m\u001b[0;34m(\u001b[0m\u001b[0mresult\u001b[0m\u001b[0;34m)\u001b[0m\u001b[0;34m\u001b[0m\u001b[0;34m\u001b[0m\u001b[0m\n\u001b[1;32m     22\u001b[0m \u001b[0mImage\u001b[0m\u001b[0;34m.\u001b[0m\u001b[0mopen\u001b[0m\u001b[0;34m(\u001b[0m\u001b[0mBytesIO\u001b[0m\u001b[0;34m(\u001b[0m\u001b[0mresult\u001b[0m\u001b[0;34m[\u001b[0m\u001b[0;36m0\u001b[0m\u001b[0;34m]\u001b[0m\u001b[0;34m.\u001b[0m\u001b[0mcontent\u001b[0m\u001b[0;34m)\u001b[0m\u001b[0;34m)\u001b[0m\u001b[0;34m\u001b[0m\u001b[0;34m\u001b[0m\u001b[0m\n",
            "\u001b[0;32m<ipython-input-72-6386cc0f7abe>\u001b[0m in \u001b[0;36mimg2arr_fromURLs\u001b[0;34m(url_list, resize)\u001b[0m\n\u001b[1;32m      4\u001b[0m     \u001b[0mprint\u001b[0m\u001b[0;34m(\u001b[0m\u001b[0mi\u001b[0m\u001b[0;34m)\u001b[0m\u001b[0;34m\u001b[0m\u001b[0;34m\u001b[0m\u001b[0m\n\u001b[1;32m      5\u001b[0m     \u001b[0mresponse\u001b[0m \u001b[0;34m=\u001b[0m \u001b[0mrequests\u001b[0m\u001b[0;34m.\u001b[0m\u001b[0mget\u001b[0m\u001b[0;34m(\u001b[0m\u001b[0mi\u001b[0m\u001b[0;34m)\u001b[0m\u001b[0;34m\u001b[0m\u001b[0;34m\u001b[0m\u001b[0m\n\u001b[0;32m----> 6\u001b[0;31m     \u001b[0mresponse\u001b[0m \u001b[0;34m=\u001b[0m \u001b[0mImage\u001b[0m\u001b[0;34m.\u001b[0m\u001b[0mopen\u001b[0m\u001b[0;34m(\u001b[0m\u001b[0mBytesIO\u001b[0m\u001b[0;34m(\u001b[0m\u001b[0mresponse\u001b[0m\u001b[0;34m.\u001b[0m\u001b[0mcontent\u001b[0m\u001b[0;34m)\u001b[0m\u001b[0;34m)\u001b[0m\u001b[0;34m\u001b[0m\u001b[0;34m\u001b[0m\u001b[0m\n\u001b[0m\u001b[1;32m      7\u001b[0m     \u001b[0mresponse\u001b[0m \u001b[0;34m=\u001b[0m \u001b[0mnp\u001b[0m\u001b[0;34m.\u001b[0m\u001b[0marray\u001b[0m\u001b[0;34m(\u001b[0m\u001b[0mresponse\u001b[0m\u001b[0;34m)\u001b[0m\u001b[0;34m\u001b[0m\u001b[0;34m\u001b[0m\u001b[0m\n\u001b[1;32m      8\u001b[0m     \u001b[0;31m#img.append(Image.open(BytesIO(response.content)))\u001b[0m\u001b[0;34m\u001b[0m\u001b[0;34m\u001b[0m\u001b[0;34m\u001b[0m\u001b[0m\n",
            "\u001b[0;32m/usr/local/lib/python3.6/dist-packages/PIL/Image.py\u001b[0m in \u001b[0;36mopen\u001b[0;34m(fp, mode)\u001b[0m\n\u001b[1;32m   2860\u001b[0m         \u001b[0mwarnings\u001b[0m\u001b[0;34m.\u001b[0m\u001b[0mwarn\u001b[0m\u001b[0;34m(\u001b[0m\u001b[0mmessage\u001b[0m\u001b[0;34m)\u001b[0m\u001b[0;34m\u001b[0m\u001b[0;34m\u001b[0m\u001b[0m\n\u001b[1;32m   2861\u001b[0m     raise UnidentifiedImageError(\n\u001b[0;32m-> 2862\u001b[0;31m         \u001b[0;34m\"cannot identify image file %r\"\u001b[0m \u001b[0;34m%\u001b[0m \u001b[0;34m(\u001b[0m\u001b[0mfilename\u001b[0m \u001b[0;32mif\u001b[0m \u001b[0mfilename\u001b[0m \u001b[0;32melse\u001b[0m \u001b[0mfp\u001b[0m\u001b[0;34m)\u001b[0m\u001b[0;34m\u001b[0m\u001b[0;34m\u001b[0m\u001b[0m\n\u001b[0m\u001b[1;32m   2863\u001b[0m     )\n\u001b[1;32m   2864\u001b[0m \u001b[0;34m\u001b[0m\u001b[0m\n",
            "\u001b[0;31mUnidentifiedImageError\u001b[0m: cannot identify image file <_io.BytesIO object at 0x7ff07db86e60>"
          ]
        }
      ]
    },
    {
      "cell_type": "code",
      "metadata": {
        "id": "zU9KbaYvF-nZ"
      },
      "source": [
        "result = img2arr_fromURLs(df[0:5][1].values)\n",
        "print(\"Total images that we got: %i \" % len(result)) # 如果不等於 5, 代表有些連結失效囉\n",
        "\n",
        "for im_get in result:\n",
        "    plt.imshow(im_get)\n",
        "    plt.show()"
      ],
      "execution_count": null,
      "outputs": []
    },
    {
      "cell_type": "markdown",
      "metadata": {
        "id": "wfVzxXpL5hii"
      },
      "source": [
        "# Reference "
      ]
    },
    {
      "cell_type": "markdown",
      "metadata": {
        "id": "aJC8Ta7_9Kd0"
      },
      "source": [
        "## 使用內建功能讀取 txt 檔"
      ]
    },
    {
      "cell_type": "markdown",
      "metadata": {
        "id": "zEyCkBlx9LIw"
      },
      "source": [
        "## 使用內建功能讀取 txt 檔"
      ]
    },
    {
      "cell_type": "markdown",
      "metadata": {
        "id": "fZFk57Xe9LI0"
      },
      "source": [
        "# [教學目標]\n",
        "- 示範 Pandas 各種 讀取 / 寫入 檔案的方式"
      ]
    },
    {
      "cell_type": "markdown",
      "metadata": {
        "id": "I7G1rKji9LI0"
      },
      "source": [
        "# [範例重點]\n",
        "- 讀取 txt 檔 (In[2], Out[2])\n",
        "- 存取 json 檔 (In[4], In[5], In[7], In[8])\n",
        "- 存取 npy 檔 (numpy專用檔, In[10], In[11]) \n",
        "- 讀取 Pickle 檔 (In[12], In[13])"
      ]
    },
    {
      "cell_type": "code",
      "metadata": {
        "scrolled": true,
        "id": "uWMQtHTl9LI0",
        "outputId": "4303b674-d690-494f-df37-5681510fa616"
      },
      "source": [
        "with open(\"data/example.txt\", 'r') as f:\n",
        "    data = f.readlines()\n",
        "print(data)"
      ],
      "execution_count": null,
      "outputs": [
        {
          "output_type": "stream",
          "text": [
            "['id,sex,age,score\\n', '001,F,20,77\\n', '002,F,25,90\\n', '003,M,22,80\\n', '004,F,30,66\\n', '005,M,40,60\\n', '006,M,29,87']\n"
          ],
          "name": "stdout"
        }
      ]
    },
    {
      "cell_type": "markdown",
      "metadata": {
        "id": "9_zzU9Tg9LI2"
      },
      "source": [
        "## 將 txt 轉成 pandas dataframe"
      ]
    },
    {
      "cell_type": "code",
      "metadata": {
        "id": "4zx9weVF9LI2",
        "outputId": "777bbe82-1c0d-47be-ada8-5e03481a3357"
      },
      "source": [
        "import pandas as pd\n",
        "\n",
        "data = []\n",
        "with open(\"data/example.txt\", 'r') as f:\n",
        "    for line in f:\n",
        "        line = line.replace('\\n', '').split(',') # 將每句最後的 /n 取代成空值後，再以逗號斷句\n",
        "        data.append(line)\n",
        "data"
      ],
      "execution_count": null,
      "outputs": [
        {
          "output_type": "execute_result",
          "data": {
            "text/plain": [
              "[['id', 'sex', 'age', 'score'],\n",
              " ['001', 'F', '20', '77'],\n",
              " ['002', 'F', '25', '90'],\n",
              " ['003', 'M', '22', '80'],\n",
              " ['004', 'F', '30', '66'],\n",
              " ['005', 'M', '40', '60'],\n",
              " ['006', 'M', '29', '87']]"
            ]
          },
          "metadata": {
            "tags": []
          },
          "execution_count": 2
        }
      ]
    },
    {
      "cell_type": "code",
      "metadata": {
        "id": "Vcq1IabH9LI4",
        "outputId": "9f5c24a3-cea5-4f08-fd5f-8594577bc2b7"
      },
      "source": [
        "df = pd.DataFrame(data[1:])\n",
        "df.columns = data[0]\n",
        "df"
      ],
      "execution_count": null,
      "outputs": [
        {
          "output_type": "execute_result",
          "data": {
            "text/html": [
              "<div>\n",
              "<style scoped>\n",
              "    .dataframe tbody tr th:only-of-type {\n",
              "        vertical-align: middle;\n",
              "    }\n",
              "\n",
              "    .dataframe tbody tr th {\n",
              "        vertical-align: top;\n",
              "    }\n",
              "\n",
              "    .dataframe thead th {\n",
              "        text-align: right;\n",
              "    }\n",
              "</style>\n",
              "<table border=\"1\" class=\"dataframe\">\n",
              "  <thead>\n",
              "    <tr style=\"text-align: right;\">\n",
              "      <th></th>\n",
              "      <th>id</th>\n",
              "      <th>sex</th>\n",
              "      <th>age</th>\n",
              "      <th>score</th>\n",
              "    </tr>\n",
              "  </thead>\n",
              "  <tbody>\n",
              "    <tr>\n",
              "      <th>0</th>\n",
              "      <td>001</td>\n",
              "      <td>F</td>\n",
              "      <td>20</td>\n",
              "      <td>77</td>\n",
              "    </tr>\n",
              "    <tr>\n",
              "      <th>1</th>\n",
              "      <td>002</td>\n",
              "      <td>F</td>\n",
              "      <td>25</td>\n",
              "      <td>90</td>\n",
              "    </tr>\n",
              "    <tr>\n",
              "      <th>2</th>\n",
              "      <td>003</td>\n",
              "      <td>M</td>\n",
              "      <td>22</td>\n",
              "      <td>80</td>\n",
              "    </tr>\n",
              "    <tr>\n",
              "      <th>3</th>\n",
              "      <td>004</td>\n",
              "      <td>F</td>\n",
              "      <td>30</td>\n",
              "      <td>66</td>\n",
              "    </tr>\n",
              "    <tr>\n",
              "      <th>4</th>\n",
              "      <td>005</td>\n",
              "      <td>M</td>\n",
              "      <td>40</td>\n",
              "      <td>60</td>\n",
              "    </tr>\n",
              "    <tr>\n",
              "      <th>5</th>\n",
              "      <td>006</td>\n",
              "      <td>M</td>\n",
              "      <td>29</td>\n",
              "      <td>87</td>\n",
              "    </tr>\n",
              "  </tbody>\n",
              "</table>\n",
              "</div>"
            ],
            "text/plain": [
              "    id sex age score\n",
              "0  001   F  20    77\n",
              "1  002   F  25    90\n",
              "2  003   M  22    80\n",
              "3  004   F  30    66\n",
              "4  005   M  40    60\n",
              "5  006   M  29    87"
            ]
          },
          "metadata": {
            "tags": []
          },
          "execution_count": 3
        }
      ]
    },
    {
      "cell_type": "markdown",
      "metadata": {
        "id": "rNVr5BnE9LI6"
      },
      "source": [
        "## 將資料轉成 json 檔後輸出\n",
        "將 json 讀回來後，是否與我們原本想要存入的方式一樣? (以 id 為 key)"
      ]
    },
    {
      "cell_type": "code",
      "metadata": {
        "id": "0jbXEzTo9LI6"
      },
      "source": [
        "import json\n",
        "df.to_json('data/example01.json')"
      ],
      "execution_count": null,
      "outputs": []
    },
    {
      "cell_type": "code",
      "metadata": {
        "id": "MJlHTB759LI8",
        "outputId": "a0eb0a20-8b2a-4a8d-9021-c93969a0b84f"
      },
      "source": [
        "# 上面的存入方式，會將 column name 做為主要的 key, row name 做為次要的 key\n",
        "with open('data/example01.json', 'r') as f:\n",
        "    j1 = json.load(f)\n",
        "j1"
      ],
      "execution_count": null,
      "outputs": [
        {
          "output_type": "execute_result",
          "data": {
            "text/plain": [
              "{'age': {'0': '20', '1': '25', '2': '22', '3': '30', '4': '40', '5': '29'},\n",
              " 'id': {'0': '001',\n",
              "  '1': '002',\n",
              "  '2': '003',\n",
              "  '3': '004',\n",
              "  '4': '005',\n",
              "  '5': '006'},\n",
              " 'score': {'0': '77', '1': '90', '2': '80', '3': '66', '4': '60', '5': '87'},\n",
              " 'sex': {'0': 'F', '1': 'F', '2': 'M', '3': 'F', '4': 'M', '5': 'M'}}"
            ]
          },
          "metadata": {
            "tags": []
          },
          "execution_count": 5
        }
      ]
    },
    {
      "cell_type": "code",
      "metadata": {
        "id": "Cgsy_3st9LI-",
        "outputId": "8fc1243e-370b-454f-e0db-5ae32500c0bf"
      },
      "source": [
        "df.set_index('id', inplace=True)\n",
        "df"
      ],
      "execution_count": null,
      "outputs": [
        {
          "output_type": "execute_result",
          "data": {
            "text/html": [
              "<div>\n",
              "<style scoped>\n",
              "    .dataframe tbody tr th:only-of-type {\n",
              "        vertical-align: middle;\n",
              "    }\n",
              "\n",
              "    .dataframe tbody tr th {\n",
              "        vertical-align: top;\n",
              "    }\n",
              "\n",
              "    .dataframe thead th {\n",
              "        text-align: right;\n",
              "    }\n",
              "</style>\n",
              "<table border=\"1\" class=\"dataframe\">\n",
              "  <thead>\n",
              "    <tr style=\"text-align: right;\">\n",
              "      <th></th>\n",
              "      <th>sex</th>\n",
              "      <th>age</th>\n",
              "      <th>score</th>\n",
              "    </tr>\n",
              "    <tr>\n",
              "      <th>id</th>\n",
              "      <th></th>\n",
              "      <th></th>\n",
              "      <th></th>\n",
              "    </tr>\n",
              "  </thead>\n",
              "  <tbody>\n",
              "    <tr>\n",
              "      <th>001</th>\n",
              "      <td>F</td>\n",
              "      <td>20</td>\n",
              "      <td>77</td>\n",
              "    </tr>\n",
              "    <tr>\n",
              "      <th>002</th>\n",
              "      <td>F</td>\n",
              "      <td>25</td>\n",
              "      <td>90</td>\n",
              "    </tr>\n",
              "    <tr>\n",
              "      <th>003</th>\n",
              "      <td>M</td>\n",
              "      <td>22</td>\n",
              "      <td>80</td>\n",
              "    </tr>\n",
              "    <tr>\n",
              "      <th>004</th>\n",
              "      <td>F</td>\n",
              "      <td>30</td>\n",
              "      <td>66</td>\n",
              "    </tr>\n",
              "    <tr>\n",
              "      <th>005</th>\n",
              "      <td>M</td>\n",
              "      <td>40</td>\n",
              "      <td>60</td>\n",
              "    </tr>\n",
              "    <tr>\n",
              "      <th>006</th>\n",
              "      <td>M</td>\n",
              "      <td>29</td>\n",
              "      <td>87</td>\n",
              "    </tr>\n",
              "  </tbody>\n",
              "</table>\n",
              "</div>"
            ],
            "text/plain": [
              "    sex age score\n",
              "id               \n",
              "001   F  20    77\n",
              "002   F  25    90\n",
              "003   M  22    80\n",
              "004   F  30    66\n",
              "005   M  40    60\n",
              "006   M  29    87"
            ]
          },
          "metadata": {
            "tags": []
          },
          "execution_count": 6
        }
      ]
    },
    {
      "cell_type": "code",
      "metadata": {
        "id": "kZzICmZv9LJD"
      },
      "source": [
        "df.to_json('data/example02.json', orient='index')"
      ],
      "execution_count": null,
      "outputs": []
    },
    {
      "cell_type": "code",
      "metadata": {
        "id": "lj213CXK9LJF",
        "outputId": "83a4e5a5-19d3-4f2e-b162-a5dab5a27ac8"
      },
      "source": [
        "with open('data/example02.json', 'r') as f:\n",
        "    j2 = json.load(f)\n",
        "j2"
      ],
      "execution_count": null,
      "outputs": [
        {
          "output_type": "execute_result",
          "data": {
            "text/plain": [
              "{'001': {'age': '20', 'score': '77', 'sex': 'F'},\n",
              " '002': {'age': '25', 'score': '90', 'sex': 'F'},\n",
              " '003': {'age': '22', 'score': '80', 'sex': 'M'},\n",
              " '004': {'age': '30', 'score': '66', 'sex': 'F'},\n",
              " '005': {'age': '40', 'score': '60', 'sex': 'M'},\n",
              " '006': {'age': '29', 'score': '87', 'sex': 'M'}}"
            ]
          },
          "metadata": {
            "tags": []
          },
          "execution_count": 8
        }
      ]
    },
    {
      "cell_type": "markdown",
      "metadata": {
        "id": "hPyhbiDB9LJH"
      },
      "source": [
        "## 將檔案存為 npy 檔\n",
        "一個專門儲存 numpy array 的檔案格式\n",
        "使用 npy 通常可以讓你更快讀取資料喔!  \n",
        "[建議閱讀](https://towardsdatascience.com/why-you-should-start-using-npy-file-more-often-df2a13cc0161)"
      ]
    },
    {
      "cell_type": "code",
      "metadata": {
        "id": "hoF8zUVa9LJH",
        "outputId": "6e2f8780-d12f-4de4-c051-d8bf49d591d2"
      },
      "source": [
        "import numpy as np\n",
        "# 將 data 的數值部分轉成 numpy array\n",
        "array = np.array(data[1:])\n",
        "array"
      ],
      "execution_count": null,
      "outputs": [
        {
          "output_type": "execute_result",
          "data": {
            "text/plain": [
              "array([['001', 'F', '20', '77'],\n",
              "       ['002', 'F', '25', '90'],\n",
              "       ['003', 'M', '22', '80'],\n",
              "       ['004', 'F', '30', '66'],\n",
              "       ['005', 'M', '40', '60'],\n",
              "       ['006', 'M', '29', '87']], dtype='<U3')"
            ]
          },
          "metadata": {
            "tags": []
          },
          "execution_count": 9
        }
      ]
    },
    {
      "cell_type": "code",
      "metadata": {
        "id": "9U0RVLP79LJJ"
      },
      "source": [
        "np.save(arr=array, file='data/example.npy')"
      ],
      "execution_count": null,
      "outputs": []
    },
    {
      "cell_type": "code",
      "metadata": {
        "id": "7Szet-Jg9LJM",
        "outputId": "9fe05f5a-785c-4f41-a2fd-aed1d621422c"
      },
      "source": [
        "array_back = np.load('data/example.npy')\n",
        "array_back"
      ],
      "execution_count": null,
      "outputs": [
        {
          "output_type": "execute_result",
          "data": {
            "text/plain": [
              "array([['001', 'F', '20', '77'],\n",
              "       ['002', 'F', '25', '90'],\n",
              "       ['003', 'M', '22', '80'],\n",
              "       ['004', 'F', '30', '66'],\n",
              "       ['005', 'M', '40', '60'],\n",
              "       ['006', 'M', '29', '87']], dtype='<U3')"
            ]
          },
          "metadata": {
            "tags": []
          },
          "execution_count": 11
        }
      ]
    },
    {
      "cell_type": "markdown",
      "metadata": {
        "id": "yFd4RI4L9LJN"
      },
      "source": [
        "## Pickle\n",
        "存成 pickle 檔  \n",
        "什麼都包，什麼都不奇怪的 [Pickle](https://docs.python.org/3/library/pickle.html)  \n",
        "比如說 [CIFAR10](https://www.cs.toronto.edu/~kriz/cifar.html) 的資料集就是用 pickle 包的喔!"
      ]
    },
    {
      "cell_type": "code",
      "metadata": {
        "id": "Snh2vyfD9LJN"
      },
      "source": [
        "import pickle\n",
        "with open('data/example.pkl', 'wb') as f:\n",
        "    pickle.dump(file=f, obj=data)"
      ],
      "execution_count": null,
      "outputs": []
    },
    {
      "cell_type": "code",
      "metadata": {
        "id": "Fp1gzDq19LJU",
        "outputId": "20177cc6-de6f-4e36-9b63-0ce75f8cc533"
      },
      "source": [
        "with open('data/example.pkl', 'rb') as f:\n",
        "    pkl_data = pickle.load(f)\n",
        "pkl_data"
      ],
      "execution_count": null,
      "outputs": [
        {
          "output_type": "execute_result",
          "data": {
            "text/plain": [
              "[['id', 'sex', 'age', 'score'],\n",
              " ['001', 'F', '20', '77'],\n",
              " ['002', 'F', '25', '90'],\n",
              " ['003', 'M', '22', '80'],\n",
              " ['004', 'F', '30', '66'],\n",
              " ['005', 'M', '40', '60'],\n",
              " ['006', 'M', '29', '87']]"
            ]
          },
          "metadata": {
            "tags": []
          },
          "execution_count": 13
        }
      ]
    },
    {
      "cell_type": "code",
      "metadata": {
        "id": "tGRgAXeT9LJW"
      },
      "source": [
        ""
      ],
      "execution_count": null,
      "outputs": []
    },
    {
      "cell_type": "markdown",
      "metadata": {
        "id": "5OGOXJLP9Kd3"
      },
      "source": [
        "# [教學目標]\n",
        "- 示範 Pandas 各種 讀取 / 寫入 檔案的方式"
      ]
    },
    {
      "cell_type": "markdown",
      "metadata": {
        "id": "ANnQJvNg9Kd4"
      },
      "source": [
        "# [範例重點]\n",
        "- 讀取 txt 檔 (In[2], Out[2])\n",
        "- 存取 json 檔 (In[4], In[5], In[7], In[8])\n",
        "- 存取 npy 檔 (numpy專用檔, In[10], In[11]) \n",
        "- 讀取 Pickle 檔 (In[12], In[13])"
      ]
    },
    {
      "cell_type": "code",
      "metadata": {
        "scrolled": true,
        "id": "cjGXJc-Q9Kd6",
        "outputId": "4303b674-d690-494f-df37-5681510fa616"
      },
      "source": [
        "with open(\"data/example.txt\", 'r') as f:\n",
        "    data = f.readlines()\n",
        "print(data)"
      ],
      "execution_count": null,
      "outputs": [
        {
          "output_type": "stream",
          "text": [
            "['id,sex,age,score\\n', '001,F,20,77\\n', '002,F,25,90\\n', '003,M,22,80\\n', '004,F,30,66\\n', '005,M,40,60\\n', '006,M,29,87']\n"
          ],
          "name": "stdout"
        }
      ]
    },
    {
      "cell_type": "markdown",
      "metadata": {
        "id": "YNfmQve39KeH"
      },
      "source": [
        "## 將 txt 轉成 pandas dataframe"
      ]
    },
    {
      "cell_type": "code",
      "metadata": {
        "id": "lVr2pCW79KeJ",
        "outputId": "777bbe82-1c0d-47be-ada8-5e03481a3357"
      },
      "source": [
        "import pandas as pd\n",
        "\n",
        "data = []\n",
        "with open(\"data/example.txt\", 'r') as f:\n",
        "    for line in f:\n",
        "        line = line.replace('\\n', '').split(',') # 將每句最後的 /n 取代成空值後，再以逗號斷句\n",
        "        data.append(line)\n",
        "data"
      ],
      "execution_count": null,
      "outputs": [
        {
          "output_type": "execute_result",
          "data": {
            "text/plain": [
              "[['id', 'sex', 'age', 'score'],\n",
              " ['001', 'F', '20', '77'],\n",
              " ['002', 'F', '25', '90'],\n",
              " ['003', 'M', '22', '80'],\n",
              " ['004', 'F', '30', '66'],\n",
              " ['005', 'M', '40', '60'],\n",
              " ['006', 'M', '29', '87']]"
            ]
          },
          "metadata": {
            "tags": []
          },
          "execution_count": 2
        }
      ]
    },
    {
      "cell_type": "code",
      "metadata": {
        "id": "1F3llEsX9KeP",
        "outputId": "9f5c24a3-cea5-4f08-fd5f-8594577bc2b7"
      },
      "source": [
        "df = pd.DataFrame(data[1:])\n",
        "df.columns = data[0]\n",
        "df"
      ],
      "execution_count": null,
      "outputs": [
        {
          "output_type": "execute_result",
          "data": {
            "text/html": [
              "<div>\n",
              "<style scoped>\n",
              "    .dataframe tbody tr th:only-of-type {\n",
              "        vertical-align: middle;\n",
              "    }\n",
              "\n",
              "    .dataframe tbody tr th {\n",
              "        vertical-align: top;\n",
              "    }\n",
              "\n",
              "    .dataframe thead th {\n",
              "        text-align: right;\n",
              "    }\n",
              "</style>\n",
              "<table border=\"1\" class=\"dataframe\">\n",
              "  <thead>\n",
              "    <tr style=\"text-align: right;\">\n",
              "      <th></th>\n",
              "      <th>id</th>\n",
              "      <th>sex</th>\n",
              "      <th>age</th>\n",
              "      <th>score</th>\n",
              "    </tr>\n",
              "  </thead>\n",
              "  <tbody>\n",
              "    <tr>\n",
              "      <th>0</th>\n",
              "      <td>001</td>\n",
              "      <td>F</td>\n",
              "      <td>20</td>\n",
              "      <td>77</td>\n",
              "    </tr>\n",
              "    <tr>\n",
              "      <th>1</th>\n",
              "      <td>002</td>\n",
              "      <td>F</td>\n",
              "      <td>25</td>\n",
              "      <td>90</td>\n",
              "    </tr>\n",
              "    <tr>\n",
              "      <th>2</th>\n",
              "      <td>003</td>\n",
              "      <td>M</td>\n",
              "      <td>22</td>\n",
              "      <td>80</td>\n",
              "    </tr>\n",
              "    <tr>\n",
              "      <th>3</th>\n",
              "      <td>004</td>\n",
              "      <td>F</td>\n",
              "      <td>30</td>\n",
              "      <td>66</td>\n",
              "    </tr>\n",
              "    <tr>\n",
              "      <th>4</th>\n",
              "      <td>005</td>\n",
              "      <td>M</td>\n",
              "      <td>40</td>\n",
              "      <td>60</td>\n",
              "    </tr>\n",
              "    <tr>\n",
              "      <th>5</th>\n",
              "      <td>006</td>\n",
              "      <td>M</td>\n",
              "      <td>29</td>\n",
              "      <td>87</td>\n",
              "    </tr>\n",
              "  </tbody>\n",
              "</table>\n",
              "</div>"
            ],
            "text/plain": [
              "    id sex age score\n",
              "0  001   F  20    77\n",
              "1  002   F  25    90\n",
              "2  003   M  22    80\n",
              "3  004   F  30    66\n",
              "4  005   M  40    60\n",
              "5  006   M  29    87"
            ]
          },
          "metadata": {
            "tags": []
          },
          "execution_count": 3
        }
      ]
    },
    {
      "cell_type": "markdown",
      "metadata": {
        "id": "mbRf3_z99KeV"
      },
      "source": [
        "## 將資料轉成 json 檔後輸出\n",
        "將 json 讀回來後，是否與我們原本想要存入的方式一樣? (以 id 為 key)"
      ]
    },
    {
      "cell_type": "code",
      "metadata": {
        "id": "77G1zAtc9KeW"
      },
      "source": [
        "import json\n",
        "df.to_json('data/example01.json')"
      ],
      "execution_count": null,
      "outputs": []
    },
    {
      "cell_type": "code",
      "metadata": {
        "id": "P08CLlYI9Ked",
        "outputId": "a0eb0a20-8b2a-4a8d-9021-c93969a0b84f"
      },
      "source": [
        "# 上面的存入方式，會將 column name 做為主要的 key, row name 做為次要的 key\n",
        "with open('data/example01.json', 'r') as f:\n",
        "    j1 = json.load(f)\n",
        "j1"
      ],
      "execution_count": null,
      "outputs": [
        {
          "output_type": "execute_result",
          "data": {
            "text/plain": [
              "{'age': {'0': '20', '1': '25', '2': '22', '3': '30', '4': '40', '5': '29'},\n",
              " 'id': {'0': '001',\n",
              "  '1': '002',\n",
              "  '2': '003',\n",
              "  '3': '004',\n",
              "  '4': '005',\n",
              "  '5': '006'},\n",
              " 'score': {'0': '77', '1': '90', '2': '80', '3': '66', '4': '60', '5': '87'},\n",
              " 'sex': {'0': 'F', '1': 'F', '2': 'M', '3': 'F', '4': 'M', '5': 'M'}}"
            ]
          },
          "metadata": {
            "tags": []
          },
          "execution_count": 5
        }
      ]
    },
    {
      "cell_type": "code",
      "metadata": {
        "id": "g_o011YI9Keg",
        "outputId": "8fc1243e-370b-454f-e0db-5ae32500c0bf"
      },
      "source": [
        "df.set_index('id', inplace=True)\n",
        "df"
      ],
      "execution_count": null,
      "outputs": [
        {
          "output_type": "execute_result",
          "data": {
            "text/html": [
              "<div>\n",
              "<style scoped>\n",
              "    .dataframe tbody tr th:only-of-type {\n",
              "        vertical-align: middle;\n",
              "    }\n",
              "\n",
              "    .dataframe tbody tr th {\n",
              "        vertical-align: top;\n",
              "    }\n",
              "\n",
              "    .dataframe thead th {\n",
              "        text-align: right;\n",
              "    }\n",
              "</style>\n",
              "<table border=\"1\" class=\"dataframe\">\n",
              "  <thead>\n",
              "    <tr style=\"text-align: right;\">\n",
              "      <th></th>\n",
              "      <th>sex</th>\n",
              "      <th>age</th>\n",
              "      <th>score</th>\n",
              "    </tr>\n",
              "    <tr>\n",
              "      <th>id</th>\n",
              "      <th></th>\n",
              "      <th></th>\n",
              "      <th></th>\n",
              "    </tr>\n",
              "  </thead>\n",
              "  <tbody>\n",
              "    <tr>\n",
              "      <th>001</th>\n",
              "      <td>F</td>\n",
              "      <td>20</td>\n",
              "      <td>77</td>\n",
              "    </tr>\n",
              "    <tr>\n",
              "      <th>002</th>\n",
              "      <td>F</td>\n",
              "      <td>25</td>\n",
              "      <td>90</td>\n",
              "    </tr>\n",
              "    <tr>\n",
              "      <th>003</th>\n",
              "      <td>M</td>\n",
              "      <td>22</td>\n",
              "      <td>80</td>\n",
              "    </tr>\n",
              "    <tr>\n",
              "      <th>004</th>\n",
              "      <td>F</td>\n",
              "      <td>30</td>\n",
              "      <td>66</td>\n",
              "    </tr>\n",
              "    <tr>\n",
              "      <th>005</th>\n",
              "      <td>M</td>\n",
              "      <td>40</td>\n",
              "      <td>60</td>\n",
              "    </tr>\n",
              "    <tr>\n",
              "      <th>006</th>\n",
              "      <td>M</td>\n",
              "      <td>29</td>\n",
              "      <td>87</td>\n",
              "    </tr>\n",
              "  </tbody>\n",
              "</table>\n",
              "</div>"
            ],
            "text/plain": [
              "    sex age score\n",
              "id               \n",
              "001   F  20    77\n",
              "002   F  25    90\n",
              "003   M  22    80\n",
              "004   F  30    66\n",
              "005   M  40    60\n",
              "006   M  29    87"
            ]
          },
          "metadata": {
            "tags": []
          },
          "execution_count": 6
        }
      ]
    },
    {
      "cell_type": "code",
      "metadata": {
        "id": "1MmlyWkp9Kem"
      },
      "source": [
        "df.to_json('data/example02.json', orient='index')"
      ],
      "execution_count": null,
      "outputs": []
    },
    {
      "cell_type": "code",
      "metadata": {
        "id": "SABHpk4S9Kep",
        "outputId": "83a4e5a5-19d3-4f2e-b162-a5dab5a27ac8"
      },
      "source": [
        "with open('data/example02.json', 'r') as f:\n",
        "    j2 = json.load(f)\n",
        "j2"
      ],
      "execution_count": null,
      "outputs": [
        {
          "output_type": "execute_result",
          "data": {
            "text/plain": [
              "{'001': {'age': '20', 'score': '77', 'sex': 'F'},\n",
              " '002': {'age': '25', 'score': '90', 'sex': 'F'},\n",
              " '003': {'age': '22', 'score': '80', 'sex': 'M'},\n",
              " '004': {'age': '30', 'score': '66', 'sex': 'F'},\n",
              " '005': {'age': '40', 'score': '60', 'sex': 'M'},\n",
              " '006': {'age': '29', 'score': '87', 'sex': 'M'}}"
            ]
          },
          "metadata": {
            "tags": []
          },
          "execution_count": 8
        }
      ]
    },
    {
      "cell_type": "markdown",
      "metadata": {
        "id": "W-YQemaA9Ker"
      },
      "source": [
        "## 將檔案存為 npy 檔\n",
        "一個專門儲存 numpy array 的檔案格式\n",
        "使用 npy 通常可以讓你更快讀取資料喔!  \n",
        "[建議閱讀](https://towardsdatascience.com/why-you-should-start-using-npy-file-more-often-df2a13cc0161)"
      ]
    },
    {
      "cell_type": "code",
      "metadata": {
        "id": "f6Nr2FlU9Ker",
        "outputId": "6e2f8780-d12f-4de4-c051-d8bf49d591d2"
      },
      "source": [
        "import numpy as np\n",
        "# 將 data 的數值部分轉成 numpy array\n",
        "array = np.array(data[1:])\n",
        "array"
      ],
      "execution_count": null,
      "outputs": [
        {
          "output_type": "execute_result",
          "data": {
            "text/plain": [
              "array([['001', 'F', '20', '77'],\n",
              "       ['002', 'F', '25', '90'],\n",
              "       ['003', 'M', '22', '80'],\n",
              "       ['004', 'F', '30', '66'],\n",
              "       ['005', 'M', '40', '60'],\n",
              "       ['006', 'M', '29', '87']], dtype='<U3')"
            ]
          },
          "metadata": {
            "tags": []
          },
          "execution_count": 9
        }
      ]
    },
    {
      "cell_type": "code",
      "metadata": {
        "id": "LHTm1lzu9Keu"
      },
      "source": [
        "np.save(arr=array, file='data/example.npy')"
      ],
      "execution_count": null,
      "outputs": []
    },
    {
      "cell_type": "code",
      "metadata": {
        "id": "xR3mOwhF9Key",
        "outputId": "9fe05f5a-785c-4f41-a2fd-aed1d621422c"
      },
      "source": [
        "array_back = np.load('data/example.npy')\n",
        "array_back"
      ],
      "execution_count": null,
      "outputs": [
        {
          "output_type": "execute_result",
          "data": {
            "text/plain": [
              "array([['001', 'F', '20', '77'],\n",
              "       ['002', 'F', '25', '90'],\n",
              "       ['003', 'M', '22', '80'],\n",
              "       ['004', 'F', '30', '66'],\n",
              "       ['005', 'M', '40', '60'],\n",
              "       ['006', 'M', '29', '87']], dtype='<U3')"
            ]
          },
          "metadata": {
            "tags": []
          },
          "execution_count": 11
        }
      ]
    },
    {
      "cell_type": "markdown",
      "metadata": {
        "id": "o-STuZIK9Ke8"
      },
      "source": [
        "## Pickle\n",
        "存成 pickle 檔  \n",
        "什麼都包，什麼都不奇怪的 [Pickle](https://docs.python.org/3/library/pickle.html)  \n",
        "比如說 [CIFAR10](https://www.cs.toronto.edu/~kriz/cifar.html) 的資料集就是用 pickle 包的喔!"
      ]
    },
    {
      "cell_type": "code",
      "metadata": {
        "id": "2LGwTvBI9Ke-"
      },
      "source": [
        "import pickle\n",
        "with open('data/example.pkl', 'wb') as f:\n",
        "    pickle.dump(file=f, obj=data)"
      ],
      "execution_count": null,
      "outputs": []
    },
    {
      "cell_type": "code",
      "metadata": {
        "id": "PtPzTJPm9KfA",
        "outputId": "20177cc6-de6f-4e36-9b63-0ce75f8cc533"
      },
      "source": [
        "with open('data/example.pkl', 'rb') as f:\n",
        "    pkl_data = pickle.load(f)\n",
        "pkl_data"
      ],
      "execution_count": null,
      "outputs": [
        {
          "output_type": "execute_result",
          "data": {
            "text/plain": [
              "[['id', 'sex', 'age', 'score'],\n",
              " ['001', 'F', '20', '77'],\n",
              " ['002', 'F', '25', '90'],\n",
              " ['003', 'M', '22', '80'],\n",
              " ['004', 'F', '30', '66'],\n",
              " ['005', 'M', '40', '60'],\n",
              " ['006', 'M', '29', '87']]"
            ]
          },
          "metadata": {
            "tags": []
          },
          "execution_count": 13
        }
      ]
    },
    {
      "cell_type": "code",
      "metadata": {
        "id": "U6BubupO9KfC"
      },
      "source": [
        ""
      ],
      "execution_count": null,
      "outputs": []
    },
    {
      "cell_type": "markdown",
      "metadata": {
        "id": "DP3pk1v99FMV"
      },
      "source": [
        "## 使用內建功能讀取 txt 檔"
      ]
    },
    {
      "cell_type": "markdown",
      "metadata": {
        "id": "SmwYBY_P9FMa"
      },
      "source": [
        "# [教學目標]\n",
        "- 示範 Pandas 各種 讀取 / 寫入 檔案的方式"
      ]
    },
    {
      "cell_type": "markdown",
      "metadata": {
        "id": "CCNVDucf9FMc"
      },
      "source": [
        "# [範例重點]\n",
        "- 讀取 txt 檔 (In[2], Out[2])\n",
        "- 存取 json 檔 (In[4], In[5], In[7], In[8])\n",
        "- 存取 npy 檔 (numpy專用檔, In[10], In[11]) \n",
        "- 讀取 Pickle 檔 (In[12], In[13])"
      ]
    },
    {
      "cell_type": "code",
      "metadata": {
        "scrolled": true,
        "id": "12oAAidb9FMe",
        "outputId": "4303b674-d690-494f-df37-5681510fa616"
      },
      "source": [
        "with open(\"data/example.txt\", 'r') as f:\n",
        "    data = f.readlines()\n",
        "print(data)"
      ],
      "execution_count": null,
      "outputs": [
        {
          "output_type": "stream",
          "text": [
            "['id,sex,age,score\\n', '001,F,20,77\\n', '002,F,25,90\\n', '003,M,22,80\\n', '004,F,30,66\\n', '005,M,40,60\\n', '006,M,29,87']\n"
          ],
          "name": "stdout"
        }
      ]
    },
    {
      "cell_type": "markdown",
      "metadata": {
        "id": "goJufN7U9FM7"
      },
      "source": [
        "## 將 txt 轉成 pandas dataframe"
      ]
    },
    {
      "cell_type": "code",
      "metadata": {
        "id": "NsBjLDk69FM9",
        "outputId": "777bbe82-1c0d-47be-ada8-5e03481a3357"
      },
      "source": [
        "import pandas as pd\n",
        "\n",
        "data = []\n",
        "with open(\"data/example.txt\", 'r') as f:\n",
        "    for line in f:\n",
        "        line = line.replace('\\n', '').split(',') # 將每句最後的 /n 取代成空值後，再以逗號斷句\n",
        "        data.append(line)\n",
        "data"
      ],
      "execution_count": null,
      "outputs": [
        {
          "output_type": "execute_result",
          "data": {
            "text/plain": [
              "[['id', 'sex', 'age', 'score'],\n",
              " ['001', 'F', '20', '77'],\n",
              " ['002', 'F', '25', '90'],\n",
              " ['003', 'M', '22', '80'],\n",
              " ['004', 'F', '30', '66'],\n",
              " ['005', 'M', '40', '60'],\n",
              " ['006', 'M', '29', '87']]"
            ]
          },
          "metadata": {
            "tags": []
          },
          "execution_count": 2
        }
      ]
    },
    {
      "cell_type": "code",
      "metadata": {
        "id": "dFcmUZNE9FNN",
        "outputId": "9f5c24a3-cea5-4f08-fd5f-8594577bc2b7"
      },
      "source": [
        "df = pd.DataFrame(data[1:])\n",
        "df.columns = data[0]\n",
        "df"
      ],
      "execution_count": null,
      "outputs": [
        {
          "output_type": "execute_result",
          "data": {
            "text/html": [
              "<div>\n",
              "<style scoped>\n",
              "    .dataframe tbody tr th:only-of-type {\n",
              "        vertical-align: middle;\n",
              "    }\n",
              "\n",
              "    .dataframe tbody tr th {\n",
              "        vertical-align: top;\n",
              "    }\n",
              "\n",
              "    .dataframe thead th {\n",
              "        text-align: right;\n",
              "    }\n",
              "</style>\n",
              "<table border=\"1\" class=\"dataframe\">\n",
              "  <thead>\n",
              "    <tr style=\"text-align: right;\">\n",
              "      <th></th>\n",
              "      <th>id</th>\n",
              "      <th>sex</th>\n",
              "      <th>age</th>\n",
              "      <th>score</th>\n",
              "    </tr>\n",
              "  </thead>\n",
              "  <tbody>\n",
              "    <tr>\n",
              "      <th>0</th>\n",
              "      <td>001</td>\n",
              "      <td>F</td>\n",
              "      <td>20</td>\n",
              "      <td>77</td>\n",
              "    </tr>\n",
              "    <tr>\n",
              "      <th>1</th>\n",
              "      <td>002</td>\n",
              "      <td>F</td>\n",
              "      <td>25</td>\n",
              "      <td>90</td>\n",
              "    </tr>\n",
              "    <tr>\n",
              "      <th>2</th>\n",
              "      <td>003</td>\n",
              "      <td>M</td>\n",
              "      <td>22</td>\n",
              "      <td>80</td>\n",
              "    </tr>\n",
              "    <tr>\n",
              "      <th>3</th>\n",
              "      <td>004</td>\n",
              "      <td>F</td>\n",
              "      <td>30</td>\n",
              "      <td>66</td>\n",
              "    </tr>\n",
              "    <tr>\n",
              "      <th>4</th>\n",
              "      <td>005</td>\n",
              "      <td>M</td>\n",
              "      <td>40</td>\n",
              "      <td>60</td>\n",
              "    </tr>\n",
              "    <tr>\n",
              "      <th>5</th>\n",
              "      <td>006</td>\n",
              "      <td>M</td>\n",
              "      <td>29</td>\n",
              "      <td>87</td>\n",
              "    </tr>\n",
              "  </tbody>\n",
              "</table>\n",
              "</div>"
            ],
            "text/plain": [
              "    id sex age score\n",
              "0  001   F  20    77\n",
              "1  002   F  25    90\n",
              "2  003   M  22    80\n",
              "3  004   F  30    66\n",
              "4  005   M  40    60\n",
              "5  006   M  29    87"
            ]
          },
          "metadata": {
            "tags": []
          },
          "execution_count": 3
        }
      ]
    },
    {
      "cell_type": "markdown",
      "metadata": {
        "id": "VSzbqurV9FNc"
      },
      "source": [
        "## 將資料轉成 json 檔後輸出\n",
        "將 json 讀回來後，是否與我們原本想要存入的方式一樣? (以 id 為 key)"
      ]
    },
    {
      "cell_type": "code",
      "metadata": {
        "id": "LxJvHAOh9FNd"
      },
      "source": [
        "import json\n",
        "df.to_json('data/example01.json')"
      ],
      "execution_count": null,
      "outputs": []
    },
    {
      "cell_type": "code",
      "metadata": {
        "id": "Uqj9L-YC9FNj",
        "outputId": "a0eb0a20-8b2a-4a8d-9021-c93969a0b84f"
      },
      "source": [
        "# 上面的存入方式，會將 column name 做為主要的 key, row name 做為次要的 key\n",
        "with open('data/example01.json', 'r') as f:\n",
        "    j1 = json.load(f)\n",
        "j1"
      ],
      "execution_count": null,
      "outputs": [
        {
          "output_type": "execute_result",
          "data": {
            "text/plain": [
              "{'age': {'0': '20', '1': '25', '2': '22', '3': '30', '4': '40', '5': '29'},\n",
              " 'id': {'0': '001',\n",
              "  '1': '002',\n",
              "  '2': '003',\n",
              "  '3': '004',\n",
              "  '4': '005',\n",
              "  '5': '006'},\n",
              " 'score': {'0': '77', '1': '90', '2': '80', '3': '66', '4': '60', '5': '87'},\n",
              " 'sex': {'0': 'F', '1': 'F', '2': 'M', '3': 'F', '4': 'M', '5': 'M'}}"
            ]
          },
          "metadata": {
            "tags": []
          },
          "execution_count": 5
        }
      ]
    },
    {
      "cell_type": "code",
      "metadata": {
        "id": "JYKdE_Ql9FNu",
        "outputId": "8fc1243e-370b-454f-e0db-5ae32500c0bf"
      },
      "source": [
        "df.set_index('id', inplace=True)\n",
        "df"
      ],
      "execution_count": null,
      "outputs": [
        {
          "output_type": "execute_result",
          "data": {
            "text/html": [
              "<div>\n",
              "<style scoped>\n",
              "    .dataframe tbody tr th:only-of-type {\n",
              "        vertical-align: middle;\n",
              "    }\n",
              "\n",
              "    .dataframe tbody tr th {\n",
              "        vertical-align: top;\n",
              "    }\n",
              "\n",
              "    .dataframe thead th {\n",
              "        text-align: right;\n",
              "    }\n",
              "</style>\n",
              "<table border=\"1\" class=\"dataframe\">\n",
              "  <thead>\n",
              "    <tr style=\"text-align: right;\">\n",
              "      <th></th>\n",
              "      <th>sex</th>\n",
              "      <th>age</th>\n",
              "      <th>score</th>\n",
              "    </tr>\n",
              "    <tr>\n",
              "      <th>id</th>\n",
              "      <th></th>\n",
              "      <th></th>\n",
              "      <th></th>\n",
              "    </tr>\n",
              "  </thead>\n",
              "  <tbody>\n",
              "    <tr>\n",
              "      <th>001</th>\n",
              "      <td>F</td>\n",
              "      <td>20</td>\n",
              "      <td>77</td>\n",
              "    </tr>\n",
              "    <tr>\n",
              "      <th>002</th>\n",
              "      <td>F</td>\n",
              "      <td>25</td>\n",
              "      <td>90</td>\n",
              "    </tr>\n",
              "    <tr>\n",
              "      <th>003</th>\n",
              "      <td>M</td>\n",
              "      <td>22</td>\n",
              "      <td>80</td>\n",
              "    </tr>\n",
              "    <tr>\n",
              "      <th>004</th>\n",
              "      <td>F</td>\n",
              "      <td>30</td>\n",
              "      <td>66</td>\n",
              "    </tr>\n",
              "    <tr>\n",
              "      <th>005</th>\n",
              "      <td>M</td>\n",
              "      <td>40</td>\n",
              "      <td>60</td>\n",
              "    </tr>\n",
              "    <tr>\n",
              "      <th>006</th>\n",
              "      <td>M</td>\n",
              "      <td>29</td>\n",
              "      <td>87</td>\n",
              "    </tr>\n",
              "  </tbody>\n",
              "</table>\n",
              "</div>"
            ],
            "text/plain": [
              "    sex age score\n",
              "id               \n",
              "001   F  20    77\n",
              "002   F  25    90\n",
              "003   M  22    80\n",
              "004   F  30    66\n",
              "005   M  40    60\n",
              "006   M  29    87"
            ]
          },
          "metadata": {
            "tags": []
          },
          "execution_count": 6
        }
      ]
    },
    {
      "cell_type": "code",
      "metadata": {
        "id": "VPqre5P49FN7"
      },
      "source": [
        "df.to_json('data/example02.json', orient='index')"
      ],
      "execution_count": null,
      "outputs": []
    },
    {
      "cell_type": "code",
      "metadata": {
        "id": "lhU0HXgZ9FOB",
        "outputId": "83a4e5a5-19d3-4f2e-b162-a5dab5a27ac8"
      },
      "source": [
        "with open('data/example02.json', 'r') as f:\n",
        "    j2 = json.load(f)\n",
        "j2"
      ],
      "execution_count": null,
      "outputs": [
        {
          "output_type": "execute_result",
          "data": {
            "text/plain": [
              "{'001': {'age': '20', 'score': '77', 'sex': 'F'},\n",
              " '002': {'age': '25', 'score': '90', 'sex': 'F'},\n",
              " '003': {'age': '22', 'score': '80', 'sex': 'M'},\n",
              " '004': {'age': '30', 'score': '66', 'sex': 'F'},\n",
              " '005': {'age': '40', 'score': '60', 'sex': 'M'},\n",
              " '006': {'age': '29', 'score': '87', 'sex': 'M'}}"
            ]
          },
          "metadata": {
            "tags": []
          },
          "execution_count": 8
        }
      ]
    },
    {
      "cell_type": "markdown",
      "metadata": {
        "id": "5_GGDzxM9FOL"
      },
      "source": [
        "## 將檔案存為 npy 檔\n",
        "一個專門儲存 numpy array 的檔案格式\n",
        "使用 npy 通常可以讓你更快讀取資料喔!  \n",
        "[建議閱讀](https://towardsdatascience.com/why-you-should-start-using-npy-file-more-often-df2a13cc0161)"
      ]
    },
    {
      "cell_type": "code",
      "metadata": {
        "id": "QLpU1DUk9FOM",
        "outputId": "6e2f8780-d12f-4de4-c051-d8bf49d591d2"
      },
      "source": [
        "import numpy as np\n",
        "# 將 data 的數值部分轉成 numpy array\n",
        "array = np.array(data[1:])\n",
        "array"
      ],
      "execution_count": null,
      "outputs": [
        {
          "output_type": "execute_result",
          "data": {
            "text/plain": [
              "array([['001', 'F', '20', '77'],\n",
              "       ['002', 'F', '25', '90'],\n",
              "       ['003', 'M', '22', '80'],\n",
              "       ['004', 'F', '30', '66'],\n",
              "       ['005', 'M', '40', '60'],\n",
              "       ['006', 'M', '29', '87']], dtype='<U3')"
            ]
          },
          "metadata": {
            "tags": []
          },
          "execution_count": 9
        }
      ]
    },
    {
      "cell_type": "code",
      "metadata": {
        "id": "xLqx63WW9FOQ"
      },
      "source": [
        "np.save(arr=array, file='data/example.npy')"
      ],
      "execution_count": null,
      "outputs": []
    },
    {
      "cell_type": "code",
      "metadata": {
        "id": "sxYHvmEN9FOT",
        "outputId": "9fe05f5a-785c-4f41-a2fd-aed1d621422c"
      },
      "source": [
        "array_back = np.load('data/example.npy')\n",
        "array_back"
      ],
      "execution_count": null,
      "outputs": [
        {
          "output_type": "execute_result",
          "data": {
            "text/plain": [
              "array([['001', 'F', '20', '77'],\n",
              "       ['002', 'F', '25', '90'],\n",
              "       ['003', 'M', '22', '80'],\n",
              "       ['004', 'F', '30', '66'],\n",
              "       ['005', 'M', '40', '60'],\n",
              "       ['006', 'M', '29', '87']], dtype='<U3')"
            ]
          },
          "metadata": {
            "tags": []
          },
          "execution_count": 11
        }
      ]
    },
    {
      "cell_type": "markdown",
      "metadata": {
        "id": "ifZsiLpC9FOZ"
      },
      "source": [
        "## Pickle\n",
        "存成 pickle 檔  \n",
        "什麼都包，什麼都不奇怪的 [Pickle](https://docs.python.org/3/library/pickle.html)  \n",
        "比如說 [CIFAR10](https://www.cs.toronto.edu/~kriz/cifar.html) 的資料集就是用 pickle 包的喔!"
      ]
    },
    {
      "cell_type": "code",
      "metadata": {
        "id": "cYQnQXBK9FOa"
      },
      "source": [
        "import pickle\n",
        "with open('data/example.pkl', 'wb') as f:\n",
        "    pickle.dump(file=f, obj=data)"
      ],
      "execution_count": null,
      "outputs": []
    },
    {
      "cell_type": "code",
      "metadata": {
        "id": "p3rRZ04o9FOe",
        "outputId": "20177cc6-de6f-4e36-9b63-0ce75f8cc533"
      },
      "source": [
        "with open('data/example.pkl', 'rb') as f:\n",
        "    pkl_data = pickle.load(f)\n",
        "pkl_data"
      ],
      "execution_count": null,
      "outputs": [
        {
          "output_type": "execute_result",
          "data": {
            "text/plain": [
              "[['id', 'sex', 'age', 'score'],\n",
              " ['001', 'F', '20', '77'],\n",
              " ['002', 'F', '25', '90'],\n",
              " ['003', 'M', '22', '80'],\n",
              " ['004', 'F', '30', '66'],\n",
              " ['005', 'M', '40', '60'],\n",
              " ['006', 'M', '29', '87']]"
            ]
          },
          "metadata": {
            "tags": []
          },
          "execution_count": 13
        }
      ]
    },
    {
      "cell_type": "code",
      "metadata": {
        "id": "e7sj-Bhr9FOh"
      },
      "source": [
        ""
      ],
      "execution_count": null,
      "outputs": []
    },
    {
      "cell_type": "markdown",
      "metadata": {
        "id": "Aoe81R5EH7gp"
      },
      "source": [
        "## 使用內建功能讀取 txt 檔"
      ]
    },
    {
      "cell_type": "markdown",
      "metadata": {
        "id": "4ZBmSGwHH7gt"
      },
      "source": [
        "# [教學目標]\n",
        "- 示範 Pandas 各種 讀取 / 寫入 檔案的方式"
      ]
    },
    {
      "cell_type": "markdown",
      "metadata": {
        "id": "raUVk5CYH7gw"
      },
      "source": [
        "# [範例重點]\n",
        "- 讀取 txt 檔 (In[2], Out[2])\n",
        "- 存取 json 檔 (In[4], In[5], In[7], In[8])\n",
        "- 存取 npy 檔 (numpy專用檔, In[10], In[11]) \n",
        "- 讀取 Pickle 檔 (In[12], In[13])"
      ]
    },
    {
      "cell_type": "code",
      "metadata": {
        "scrolled": true,
        "id": "D_o51KkMH7gz",
        "outputId": "4303b674-d690-494f-df37-5681510fa616"
      },
      "source": [
        "with open(\"data/example.txt\", 'r') as f:\n",
        "    data = f.readlines()\n",
        "print(data)"
      ],
      "execution_count": null,
      "outputs": [
        {
          "output_type": "stream",
          "text": [
            "['id,sex,age,score\\n', '001,F,20,77\\n', '002,F,25,90\\n', '003,M,22,80\\n', '004,F,30,66\\n', '005,M,40,60\\n', '006,M,29,87']\n"
          ],
          "name": "stdout"
        }
      ]
    },
    {
      "cell_type": "markdown",
      "metadata": {
        "id": "kcvazwA4H7hG"
      },
      "source": [
        "## 將 txt 轉成 pandas dataframe"
      ]
    },
    {
      "cell_type": "code",
      "metadata": {
        "id": "ulKqZW22H7hI",
        "outputId": "777bbe82-1c0d-47be-ada8-5e03481a3357"
      },
      "source": [
        "import pandas as pd\n",
        "\n",
        "data = []\n",
        "with open(\"data/example.txt\", 'r') as f:\n",
        "    for line in f:\n",
        "        line = line.replace('\\n', '').split(',') # 將每句最後的 /n 取代成空值後，再以逗號斷句\n",
        "        data.append(line)\n",
        "data"
      ],
      "execution_count": null,
      "outputs": [
        {
          "output_type": "execute_result",
          "data": {
            "text/plain": [
              "[['id', 'sex', 'age', 'score'],\n",
              " ['001', 'F', '20', '77'],\n",
              " ['002', 'F', '25', '90'],\n",
              " ['003', 'M', '22', '80'],\n",
              " ['004', 'F', '30', '66'],\n",
              " ['005', 'M', '40', '60'],\n",
              " ['006', 'M', '29', '87']]"
            ]
          },
          "metadata": {
            "tags": []
          },
          "execution_count": 2
        }
      ]
    },
    {
      "cell_type": "code",
      "metadata": {
        "id": "LDYPYWIrH7hU",
        "outputId": "9f5c24a3-cea5-4f08-fd5f-8594577bc2b7"
      },
      "source": [
        "df = pd.DataFrame(data[1:])\n",
        "df.columns = data[0]\n",
        "df"
      ],
      "execution_count": null,
      "outputs": [
        {
          "output_type": "execute_result",
          "data": {
            "text/html": [
              "<div>\n",
              "<style scoped>\n",
              "    .dataframe tbody tr th:only-of-type {\n",
              "        vertical-align: middle;\n",
              "    }\n",
              "\n",
              "    .dataframe tbody tr th {\n",
              "        vertical-align: top;\n",
              "    }\n",
              "\n",
              "    .dataframe thead th {\n",
              "        text-align: right;\n",
              "    }\n",
              "</style>\n",
              "<table border=\"1\" class=\"dataframe\">\n",
              "  <thead>\n",
              "    <tr style=\"text-align: right;\">\n",
              "      <th></th>\n",
              "      <th>id</th>\n",
              "      <th>sex</th>\n",
              "      <th>age</th>\n",
              "      <th>score</th>\n",
              "    </tr>\n",
              "  </thead>\n",
              "  <tbody>\n",
              "    <tr>\n",
              "      <th>0</th>\n",
              "      <td>001</td>\n",
              "      <td>F</td>\n",
              "      <td>20</td>\n",
              "      <td>77</td>\n",
              "    </tr>\n",
              "    <tr>\n",
              "      <th>1</th>\n",
              "      <td>002</td>\n",
              "      <td>F</td>\n",
              "      <td>25</td>\n",
              "      <td>90</td>\n",
              "    </tr>\n",
              "    <tr>\n",
              "      <th>2</th>\n",
              "      <td>003</td>\n",
              "      <td>M</td>\n",
              "      <td>22</td>\n",
              "      <td>80</td>\n",
              "    </tr>\n",
              "    <tr>\n",
              "      <th>3</th>\n",
              "      <td>004</td>\n",
              "      <td>F</td>\n",
              "      <td>30</td>\n",
              "      <td>66</td>\n",
              "    </tr>\n",
              "    <tr>\n",
              "      <th>4</th>\n",
              "      <td>005</td>\n",
              "      <td>M</td>\n",
              "      <td>40</td>\n",
              "      <td>60</td>\n",
              "    </tr>\n",
              "    <tr>\n",
              "      <th>5</th>\n",
              "      <td>006</td>\n",
              "      <td>M</td>\n",
              "      <td>29</td>\n",
              "      <td>87</td>\n",
              "    </tr>\n",
              "  </tbody>\n",
              "</table>\n",
              "</div>"
            ],
            "text/plain": [
              "    id sex age score\n",
              "0  001   F  20    77\n",
              "1  002   F  25    90\n",
              "2  003   M  22    80\n",
              "3  004   F  30    66\n",
              "4  005   M  40    60\n",
              "5  006   M  29    87"
            ]
          },
          "metadata": {
            "tags": []
          },
          "execution_count": 3
        }
      ]
    },
    {
      "cell_type": "markdown",
      "metadata": {
        "id": "VF07R9SqH7hc"
      },
      "source": [
        "## 將資料轉成 json 檔後輸出\n",
        "將 json 讀回來後，是否與我們原本想要存入的方式一樣? (以 id 為 key)"
      ]
    },
    {
      "cell_type": "code",
      "metadata": {
        "id": "9_fbcfC-H7hd"
      },
      "source": [
        "import json\n",
        "df.to_json('data/example01.json')"
      ],
      "execution_count": null,
      "outputs": []
    },
    {
      "cell_type": "code",
      "metadata": {
        "id": "_2PR_PbjH7hm",
        "outputId": "a0eb0a20-8b2a-4a8d-9021-c93969a0b84f"
      },
      "source": [
        "# 上面的存入方式，會將 column name 做為主要的 key, row name 做為次要的 key\n",
        "with open('data/example01.json', 'r') as f:\n",
        "    j1 = json.load(f)\n",
        "j1"
      ],
      "execution_count": null,
      "outputs": [
        {
          "output_type": "execute_result",
          "data": {
            "text/plain": [
              "{'age': {'0': '20', '1': '25', '2': '22', '3': '30', '4': '40', '5': '29'},\n",
              " 'id': {'0': '001',\n",
              "  '1': '002',\n",
              "  '2': '003',\n",
              "  '3': '004',\n",
              "  '4': '005',\n",
              "  '5': '006'},\n",
              " 'score': {'0': '77', '1': '90', '2': '80', '3': '66', '4': '60', '5': '87'},\n",
              " 'sex': {'0': 'F', '1': 'F', '2': 'M', '3': 'F', '4': 'M', '5': 'M'}}"
            ]
          },
          "metadata": {
            "tags": []
          },
          "execution_count": 5
        }
      ]
    },
    {
      "cell_type": "code",
      "metadata": {
        "id": "RiMY-mPRH7ht",
        "outputId": "8fc1243e-370b-454f-e0db-5ae32500c0bf"
      },
      "source": [
        "df.set_index('id', inplace=True)\n",
        "df"
      ],
      "execution_count": null,
      "outputs": [
        {
          "output_type": "execute_result",
          "data": {
            "text/html": [
              "<div>\n",
              "<style scoped>\n",
              "    .dataframe tbody tr th:only-of-type {\n",
              "        vertical-align: middle;\n",
              "    }\n",
              "\n",
              "    .dataframe tbody tr th {\n",
              "        vertical-align: top;\n",
              "    }\n",
              "\n",
              "    .dataframe thead th {\n",
              "        text-align: right;\n",
              "    }\n",
              "</style>\n",
              "<table border=\"1\" class=\"dataframe\">\n",
              "  <thead>\n",
              "    <tr style=\"text-align: right;\">\n",
              "      <th></th>\n",
              "      <th>sex</th>\n",
              "      <th>age</th>\n",
              "      <th>score</th>\n",
              "    </tr>\n",
              "    <tr>\n",
              "      <th>id</th>\n",
              "      <th></th>\n",
              "      <th></th>\n",
              "      <th></th>\n",
              "    </tr>\n",
              "  </thead>\n",
              "  <tbody>\n",
              "    <tr>\n",
              "      <th>001</th>\n",
              "      <td>F</td>\n",
              "      <td>20</td>\n",
              "      <td>77</td>\n",
              "    </tr>\n",
              "    <tr>\n",
              "      <th>002</th>\n",
              "      <td>F</td>\n",
              "      <td>25</td>\n",
              "      <td>90</td>\n",
              "    </tr>\n",
              "    <tr>\n",
              "      <th>003</th>\n",
              "      <td>M</td>\n",
              "      <td>22</td>\n",
              "      <td>80</td>\n",
              "    </tr>\n",
              "    <tr>\n",
              "      <th>004</th>\n",
              "      <td>F</td>\n",
              "      <td>30</td>\n",
              "      <td>66</td>\n",
              "    </tr>\n",
              "    <tr>\n",
              "      <th>005</th>\n",
              "      <td>M</td>\n",
              "      <td>40</td>\n",
              "      <td>60</td>\n",
              "    </tr>\n",
              "    <tr>\n",
              "      <th>006</th>\n",
              "      <td>M</td>\n",
              "      <td>29</td>\n",
              "      <td>87</td>\n",
              "    </tr>\n",
              "  </tbody>\n",
              "</table>\n",
              "</div>"
            ],
            "text/plain": [
              "    sex age score\n",
              "id               \n",
              "001   F  20    77\n",
              "002   F  25    90\n",
              "003   M  22    80\n",
              "004   F  30    66\n",
              "005   M  40    60\n",
              "006   M  29    87"
            ]
          },
          "metadata": {
            "tags": []
          },
          "execution_count": 6
        }
      ]
    },
    {
      "cell_type": "code",
      "metadata": {
        "id": "M6Y0MUd7H7hy"
      },
      "source": [
        "df.to_json('data/example02.json', orient='index')"
      ],
      "execution_count": null,
      "outputs": []
    },
    {
      "cell_type": "code",
      "metadata": {
        "id": "f_HpIropH7h3",
        "outputId": "83a4e5a5-19d3-4f2e-b162-a5dab5a27ac8"
      },
      "source": [
        "with open('data/example02.json', 'r') as f:\n",
        "    j2 = json.load(f)\n",
        "j2"
      ],
      "execution_count": null,
      "outputs": [
        {
          "output_type": "execute_result",
          "data": {
            "text/plain": [
              "{'001': {'age': '20', 'score': '77', 'sex': 'F'},\n",
              " '002': {'age': '25', 'score': '90', 'sex': 'F'},\n",
              " '003': {'age': '22', 'score': '80', 'sex': 'M'},\n",
              " '004': {'age': '30', 'score': '66', 'sex': 'F'},\n",
              " '005': {'age': '40', 'score': '60', 'sex': 'M'},\n",
              " '006': {'age': '29', 'score': '87', 'sex': 'M'}}"
            ]
          },
          "metadata": {
            "tags": []
          },
          "execution_count": 8
        }
      ]
    },
    {
      "cell_type": "markdown",
      "metadata": {
        "id": "RgO5p9KMH7h6"
      },
      "source": [
        "## 將檔案存為 npy 檔\n",
        "一個專門儲存 numpy array 的檔案格式\n",
        "使用 npy 通常可以讓你更快讀取資料喔!  \n",
        "[建議閱讀](https://towardsdatascience.com/why-you-should-start-using-npy-file-more-often-df2a13cc0161)"
      ]
    },
    {
      "cell_type": "code",
      "metadata": {
        "id": "MMTF1SHeH7h6",
        "outputId": "6e2f8780-d12f-4de4-c051-d8bf49d591d2"
      },
      "source": [
        "import numpy as np\n",
        "# 將 data 的數值部分轉成 numpy array\n",
        "array = np.array(data[1:])\n",
        "array"
      ],
      "execution_count": null,
      "outputs": [
        {
          "output_type": "execute_result",
          "data": {
            "text/plain": [
              "array([['001', 'F', '20', '77'],\n",
              "       ['002', 'F', '25', '90'],\n",
              "       ['003', 'M', '22', '80'],\n",
              "       ['004', 'F', '30', '66'],\n",
              "       ['005', 'M', '40', '60'],\n",
              "       ['006', 'M', '29', '87']], dtype='<U3')"
            ]
          },
          "metadata": {
            "tags": []
          },
          "execution_count": 9
        }
      ]
    },
    {
      "cell_type": "code",
      "metadata": {
        "id": "ol284BcpH7h9"
      },
      "source": [
        "np.save(arr=array, file='data/example.npy')"
      ],
      "execution_count": null,
      "outputs": []
    },
    {
      "cell_type": "code",
      "metadata": {
        "id": "i2iZ-dy7H7iB",
        "outputId": "9fe05f5a-785c-4f41-a2fd-aed1d621422c"
      },
      "source": [
        "array_back = np.load('data/example.npy')\n",
        "array_back"
      ],
      "execution_count": null,
      "outputs": [
        {
          "output_type": "execute_result",
          "data": {
            "text/plain": [
              "array([['001', 'F', '20', '77'],\n",
              "       ['002', 'F', '25', '90'],\n",
              "       ['003', 'M', '22', '80'],\n",
              "       ['004', 'F', '30', '66'],\n",
              "       ['005', 'M', '40', '60'],\n",
              "       ['006', 'M', '29', '87']], dtype='<U3')"
            ]
          },
          "metadata": {
            "tags": []
          },
          "execution_count": 11
        }
      ]
    },
    {
      "cell_type": "markdown",
      "metadata": {
        "id": "2-I0O846H7iE"
      },
      "source": [
        "## Pickle\n",
        "存成 pickle 檔  \n",
        "什麼都包，什麼都不奇怪的 [Pickle](https://docs.python.org/3/library/pickle.html)  \n",
        "比如說 [CIFAR10](https://www.cs.toronto.edu/~kriz/cifar.html) 的資料集就是用 pickle 包的喔!"
      ]
    },
    {
      "cell_type": "code",
      "metadata": {
        "id": "X5eFHU6xH7iE"
      },
      "source": [
        "import pickle\n",
        "with open('data/example.pkl', 'wb') as f:\n",
        "    pickle.dump(file=f, obj=data)"
      ],
      "execution_count": null,
      "outputs": []
    },
    {
      "cell_type": "code",
      "metadata": {
        "id": "F5JqUpG1H7iH",
        "outputId": "20177cc6-de6f-4e36-9b63-0ce75f8cc533"
      },
      "source": [
        "with open('data/example.pkl', 'rb') as f:\n",
        "    pkl_data = pickle.load(f)\n",
        "pkl_data"
      ],
      "execution_count": null,
      "outputs": [
        {
          "output_type": "execute_result",
          "data": {
            "text/plain": [
              "[['id', 'sex', 'age', 'score'],\n",
              " ['001', 'F', '20', '77'],\n",
              " ['002', 'F', '25', '90'],\n",
              " ['003', 'M', '22', '80'],\n",
              " ['004', 'F', '30', '66'],\n",
              " ['005', 'M', '40', '60'],\n",
              " ['006', 'M', '29', '87']]"
            ]
          },
          "metadata": {
            "tags": []
          },
          "execution_count": 13
        }
      ]
    },
    {
      "cell_type": "code",
      "metadata": {
        "id": "WgYV2w0-H7iK"
      },
      "source": [
        ""
      ],
      "execution_count": null,
      "outputs": []
    },
    {
      "cell_type": "markdown",
      "metadata": {
        "id": "rgl6zb5e5h1G"
      },
      "source": [
        " "
      ]
    }
  ]
}