{
  "nbformat": 4,
  "nbformat_minor": 0,
  "metadata": {
    "kernelspec": {
      "display_name": "Python 3",
      "language": "python",
      "name": "python3"
    },
    "language_info": {
      "codemirror_mode": {
        "name": "ipython",
        "version": 3
      },
      "file_extension": ".py",
      "mimetype": "text/x-python",
      "name": "python",
      "nbconvert_exporter": "python",
      "pygments_lexer": "ipython3",
      "version": "3.7.0"
    },
    "colab": {
      "name": "Day_025_HW.ipynb",
      "provenance": [],
      "collapsed_sections": [],
      "include_colab_link": true
    }
  },
  "cells": [
    {
      "cell_type": "markdown",
      "metadata": {
        "id": "view-in-github",
        "colab_type": "text"
      },
      "source": [
        "<a href=\"https://colab.research.google.com/github/PatrickRuan/ML100Days/blob/master/homework/Day_025_HW.ipynb\" target=\"_parent\"><img src=\"https://colab.research.google.com/assets/colab-badge.svg\" alt=\"Open In Colab\"/></a>"
      ]
    },
    {
      "cell_type": "markdown",
      "metadata": {
        "collapsed": true,
        "id": "S_LbX1tHFz3t"
      },
      "source": [
        "# 作業 : (Kaggle)鐵達尼生存預測\n",
        "https://www.kaggle.com/c/titanic"
      ]
    },
    {
      "cell_type": "markdown",
      "metadata": {
        "id": "ueKi0fHqFz3t"
      },
      "source": [
        "# [作業目標]\n",
        "- 試著模仿範例寫法, 在鐵達尼生存預測中, 觀察均值編碼的效果"
      ]
    },
    {
      "cell_type": "markdown",
      "metadata": {
        "id": "ZtzEU0kdFz3t"
      },
      "source": [
        "# [作業重點]\n",
        "- 仿造範例, 完成標籤編碼與均值編碼搭配邏輯斯迴歸的預測\n",
        "- 觀察標籤編碼與均值編碼在特徵數量 / 邏輯斯迴歸分數 / 邏輯斯迴歸時間上, 分別有什麼影響 (In[3], Out[3], In[4], Out[4]) "
      ]
    },
    {
      "cell_type": "markdown",
      "metadata": {
        "collapsed": true,
        "id": "LOGi_TrlFz3t"
      },
      "source": [
        "# 作業1\n",
        "* 請仿照範例，將鐵達尼範例中的類別型特徵改用均值編碼實作一次"
      ]
    },
    {
      "cell_type": "code",
      "metadata": {
        "colab": {
          "base_uri": "https://localhost:8080/",
          "height": 238
        },
        "id": "Ffmxqk0LFz3u",
        "outputId": "34a3e69e-3b49-4055-85e3-bb07c634574a"
      },
      "source": [
        "# 做完特徵工程前的所有準備 (與前範例相同)\n",
        "import pandas as pd\n",
        "import numpy as np\n",
        "import copy, time\n",
        "from sklearn.preprocessing import MinMaxScaler\n",
        "from sklearn.model_selection import cross_val_score\n",
        "from sklearn.linear_model import LogisticRegression\n",
        "from sklearn.preprocessing import LabelEncoder\n",
        "\n",
        "import os\n",
        "from google.colab import drive\n",
        "drive.mount('/content/drive/')\n",
        "!cp -r 'drive/My Drive/學習/Cupoy/ML100_5/d007_data' ./\n",
        "os.chdir('/content/d007_data')\n",
        "df_train = pd.read_csv('titanic_train.csv')\n",
        "df_test = pd.read_csv('titanic_test.csv')\n",
        "\n",
        "train_Y = df_train['Survived']\n",
        "ids = df_test['PassengerId']\n",
        "df_train = df_train.drop(['PassengerId', 'Survived'] , axis=1)\n",
        "df_test = df_test.drop(['PassengerId'] , axis=1)\n",
        "df = pd.concat([df_train,df_test])\n",
        "df.head()"
      ],
      "execution_count": 2,
      "outputs": [
        {
          "output_type": "stream",
          "text": [
            "Drive already mounted at /content/drive/; to attempt to forcibly remount, call drive.mount(\"/content/drive/\", force_remount=True).\n",
            "cp: cannot stat 'drive/My Drive/學習/Cupoy/ML100_5/d007_data': No such file or directory\n"
          ],
          "name": "stdout"
        },
        {
          "output_type": "execute_result",
          "data": {
            "text/html": [
              "<div>\n",
              "<style scoped>\n",
              "    .dataframe tbody tr th:only-of-type {\n",
              "        vertical-align: middle;\n",
              "    }\n",
              "\n",
              "    .dataframe tbody tr th {\n",
              "        vertical-align: top;\n",
              "    }\n",
              "\n",
              "    .dataframe thead th {\n",
              "        text-align: right;\n",
              "    }\n",
              "</style>\n",
              "<table border=\"1\" class=\"dataframe\">\n",
              "  <thead>\n",
              "    <tr style=\"text-align: right;\">\n",
              "      <th></th>\n",
              "      <th>Pclass</th>\n",
              "      <th>Name</th>\n",
              "      <th>Sex</th>\n",
              "      <th>Age</th>\n",
              "      <th>SibSp</th>\n",
              "      <th>Parch</th>\n",
              "      <th>Ticket</th>\n",
              "      <th>Fare</th>\n",
              "      <th>Cabin</th>\n",
              "      <th>Embarked</th>\n",
              "    </tr>\n",
              "  </thead>\n",
              "  <tbody>\n",
              "    <tr>\n",
              "      <th>0</th>\n",
              "      <td>3</td>\n",
              "      <td>Braund, Mr. Owen Harris</td>\n",
              "      <td>male</td>\n",
              "      <td>22.0</td>\n",
              "      <td>1</td>\n",
              "      <td>0</td>\n",
              "      <td>A/5 21171</td>\n",
              "      <td>7.2500</td>\n",
              "      <td>NaN</td>\n",
              "      <td>S</td>\n",
              "    </tr>\n",
              "    <tr>\n",
              "      <th>1</th>\n",
              "      <td>1</td>\n",
              "      <td>Cumings, Mrs. John Bradley (Florence Briggs Th...</td>\n",
              "      <td>female</td>\n",
              "      <td>38.0</td>\n",
              "      <td>1</td>\n",
              "      <td>0</td>\n",
              "      <td>PC 17599</td>\n",
              "      <td>71.2833</td>\n",
              "      <td>C85</td>\n",
              "      <td>C</td>\n",
              "    </tr>\n",
              "    <tr>\n",
              "      <th>2</th>\n",
              "      <td>3</td>\n",
              "      <td>Heikkinen, Miss. Laina</td>\n",
              "      <td>female</td>\n",
              "      <td>26.0</td>\n",
              "      <td>0</td>\n",
              "      <td>0</td>\n",
              "      <td>STON/O2. 3101282</td>\n",
              "      <td>7.9250</td>\n",
              "      <td>NaN</td>\n",
              "      <td>S</td>\n",
              "    </tr>\n",
              "    <tr>\n",
              "      <th>3</th>\n",
              "      <td>1</td>\n",
              "      <td>Futrelle, Mrs. Jacques Heath (Lily May Peel)</td>\n",
              "      <td>female</td>\n",
              "      <td>35.0</td>\n",
              "      <td>1</td>\n",
              "      <td>0</td>\n",
              "      <td>113803</td>\n",
              "      <td>53.1000</td>\n",
              "      <td>C123</td>\n",
              "      <td>S</td>\n",
              "    </tr>\n",
              "    <tr>\n",
              "      <th>4</th>\n",
              "      <td>3</td>\n",
              "      <td>Allen, Mr. William Henry</td>\n",
              "      <td>male</td>\n",
              "      <td>35.0</td>\n",
              "      <td>0</td>\n",
              "      <td>0</td>\n",
              "      <td>373450</td>\n",
              "      <td>8.0500</td>\n",
              "      <td>NaN</td>\n",
              "      <td>S</td>\n",
              "    </tr>\n",
              "  </tbody>\n",
              "</table>\n",
              "</div>"
            ],
            "text/plain": [
              "   Pclass                                               Name  ... Cabin  Embarked\n",
              "0       3                            Braund, Mr. Owen Harris  ...   NaN         S\n",
              "1       1  Cumings, Mrs. John Bradley (Florence Briggs Th...  ...   C85         C\n",
              "2       3                             Heikkinen, Miss. Laina  ...   NaN         S\n",
              "3       1       Futrelle, Mrs. Jacques Heath (Lily May Peel)  ...  C123         S\n",
              "4       3                           Allen, Mr. William Henry  ...   NaN         S\n",
              "\n",
              "[5 rows x 10 columns]"
            ]
          },
          "metadata": {
            "tags": []
          },
          "execution_count": 2
        }
      ]
    },
    {
      "cell_type": "code",
      "metadata": {
        "colab": {
          "base_uri": "https://localhost:8080/",
          "height": 238
        },
        "id": "ITHnELjKFz3v",
        "outputId": "b5ca64a6-b4d4-473e-ea45-600847b6ac51"
      },
      "source": [
        "#只取類別值 (object) 型欄位, 存於 object_features 中\n",
        "object_features = []\n",
        "for dtype, feature in zip(df.dtypes, df.columns):\n",
        "    if dtype == 'object':\n",
        "        object_features.append(feature)\n",
        "print(f'{len(object_features)} Numeric Features : {object_features}\\n')\n",
        "\n",
        "# 只留類別型欄位\n",
        "df = df[object_features]\n",
        "df = df.fillna('None')\n",
        "train_num = train_Y.shape[0]\n",
        "df.head()"
      ],
      "execution_count": 3,
      "outputs": [
        {
          "output_type": "stream",
          "text": [
            "5 Numeric Features : ['Name', 'Sex', 'Ticket', 'Cabin', 'Embarked']\n",
            "\n"
          ],
          "name": "stdout"
        },
        {
          "output_type": "execute_result",
          "data": {
            "text/html": [
              "<div>\n",
              "<style scoped>\n",
              "    .dataframe tbody tr th:only-of-type {\n",
              "        vertical-align: middle;\n",
              "    }\n",
              "\n",
              "    .dataframe tbody tr th {\n",
              "        vertical-align: top;\n",
              "    }\n",
              "\n",
              "    .dataframe thead th {\n",
              "        text-align: right;\n",
              "    }\n",
              "</style>\n",
              "<table border=\"1\" class=\"dataframe\">\n",
              "  <thead>\n",
              "    <tr style=\"text-align: right;\">\n",
              "      <th></th>\n",
              "      <th>Name</th>\n",
              "      <th>Sex</th>\n",
              "      <th>Ticket</th>\n",
              "      <th>Cabin</th>\n",
              "      <th>Embarked</th>\n",
              "    </tr>\n",
              "  </thead>\n",
              "  <tbody>\n",
              "    <tr>\n",
              "      <th>0</th>\n",
              "      <td>Braund, Mr. Owen Harris</td>\n",
              "      <td>male</td>\n",
              "      <td>A/5 21171</td>\n",
              "      <td>None</td>\n",
              "      <td>S</td>\n",
              "    </tr>\n",
              "    <tr>\n",
              "      <th>1</th>\n",
              "      <td>Cumings, Mrs. John Bradley (Florence Briggs Th...</td>\n",
              "      <td>female</td>\n",
              "      <td>PC 17599</td>\n",
              "      <td>C85</td>\n",
              "      <td>C</td>\n",
              "    </tr>\n",
              "    <tr>\n",
              "      <th>2</th>\n",
              "      <td>Heikkinen, Miss. Laina</td>\n",
              "      <td>female</td>\n",
              "      <td>STON/O2. 3101282</td>\n",
              "      <td>None</td>\n",
              "      <td>S</td>\n",
              "    </tr>\n",
              "    <tr>\n",
              "      <th>3</th>\n",
              "      <td>Futrelle, Mrs. Jacques Heath (Lily May Peel)</td>\n",
              "      <td>female</td>\n",
              "      <td>113803</td>\n",
              "      <td>C123</td>\n",
              "      <td>S</td>\n",
              "    </tr>\n",
              "    <tr>\n",
              "      <th>4</th>\n",
              "      <td>Allen, Mr. William Henry</td>\n",
              "      <td>male</td>\n",
              "      <td>373450</td>\n",
              "      <td>None</td>\n",
              "      <td>S</td>\n",
              "    </tr>\n",
              "  </tbody>\n",
              "</table>\n",
              "</div>"
            ],
            "text/plain": [
              "                                                Name     Sex  ... Cabin Embarked\n",
              "0                            Braund, Mr. Owen Harris    male  ...  None        S\n",
              "1  Cumings, Mrs. John Bradley (Florence Briggs Th...  female  ...   C85        C\n",
              "2                             Heikkinen, Miss. Laina  female  ...  None        S\n",
              "3       Futrelle, Mrs. Jacques Heath (Lily May Peel)  female  ...  C123        S\n",
              "4                           Allen, Mr. William Henry    male  ...  None        S\n",
              "\n",
              "[5 rows x 5 columns]"
            ]
          },
          "metadata": {
            "tags": []
          },
          "execution_count": 3
        }
      ]
    },
    {
      "cell_type": "markdown",
      "metadata": {
        "collapsed": true,
        "id": "6Ma6TtncFz3v"
      },
      "source": [
        "# 作業2\n",
        "* 觀察鐵達尼生存預測中，均值編碼與標籤編碼兩者比較，哪一個效果比較好? 可能的原因是什麼?"
      ]
    },
    {
      "cell_type": "code",
      "metadata": {
        "colab": {
          "base_uri": "https://localhost:8080/"
        },
        "id": "zMVjiu_jFz3v",
        "outputId": "ead0b32a-b092-48be-cf6a-fbd70c608d3d"
      },
      "source": [
        "# 對照組 : 標籤編碼 + 邏輯斯迴歸\n",
        "df_temp = pd.DataFrame()\n",
        "for i in df.columns:\n",
        "  df_temp[i] = LabelEncoder().fit_transform(df[i])\n",
        "start = time.time()\n",
        "\n",
        "print(cross_val_score(LogisticRegression(), df_temp[:train_num], train_Y, cv=5).mean(), time.time()-start)\n"
      ],
      "execution_count": 10,
      "outputs": [
        {
          "output_type": "stream",
          "text": [
            "0.7800138095537004 0.12600159645080566\n"
          ],
          "name": "stdout"
        }
      ]
    },
    {
      "cell_type": "code",
      "metadata": {
        "colab": {
          "base_uri": "https://localhost:8080/"
        },
        "id": "iGupJobuLFkb",
        "outputId": "833b8097-42e1-4d37-9f5e-35b74ca4a382"
      },
      "source": [
        "# https://ithelp.ithome.com.tw/articles/10194006\n",
        "data = pd.concat([df[:train_num], train_Y], axis=1)\n",
        "\n",
        "#print(data.columns)\n",
        "#print(col)\n",
        "col = 'Sex'\n",
        "temp= data.groupby([col])['Survived'].mean().reset_index()\n",
        "# groupby 形成的 dataframe長得都有點奇怪，左上角會有一個包含 groupby item 的 INDEX, 需要用 RESET_INDEX() 來處理\n",
        "print(temp,'\\n')\n",
        "\n",
        "temp.columns = [col, f'{col}_mean']\n",
        "print(temp,'\\n')\n",
        "\n",
        "data = pd.merge(data, temp, on=col, how='left')\n",
        "print(data[[col,f'{col}_mean', 'Survived']])\n",
        "\n",
        "data = data.drop([col] , axis=1)\n",
        "\n",
        "\n"
      ],
      "execution_count": 51,
      "outputs": [
        {
          "output_type": "stream",
          "text": [
            "      Sex  Survived\n",
            "0  female  0.742038\n",
            "1    male  0.188908 \n",
            "\n",
            "      Sex  Sex_mean\n",
            "0  female  0.742038\n",
            "1    male  0.188908 \n",
            "\n",
            "        Sex  Sex_mean  Survived\n",
            "0      male  0.188908         0\n",
            "1    female  0.742038         1\n",
            "2    female  0.742038         1\n",
            "3    female  0.742038         1\n",
            "4      male  0.188908         0\n",
            "..      ...       ...       ...\n",
            "886    male  0.188908         0\n",
            "887  female  0.742038         1\n",
            "888  female  0.742038         0\n",
            "889    male  0.188908         1\n",
            "890    male  0.188908         0\n",
            "\n",
            "[891 rows x 3 columns]\n"
          ],
          "name": "stdout"
        }
      ]
    },
    {
      "cell_type": "code",
      "metadata": {
        "colab": {
          "base_uri": "https://localhost:8080/"
        },
        "id": "wXcRMhpHV09f",
        "outputId": "e34baaa8-1ffd-4bf4-f398-1b7a6d828e99"
      },
      "source": [
        "# 如果欄位類別數太多, 需要先剔除, 否則會 overfit (正確率會到達 1.0) # 哈，有想到\n",
        "train_X.nunique()"
      ],
      "execution_count": 56,
      "outputs": [
        {
          "output_type": "execute_result",
          "data": {
            "text/plain": [
              "Name        891\n",
              "Sex           2\n",
              "Ticket      681\n",
              "Cabin       148\n",
              "Embarked      4\n",
              "dtype: int64"
            ]
          },
          "metadata": {
            "tags": []
          },
          "execution_count": 56
        }
      ]
    },
    {
      "cell_type": "code",
      "metadata": {
        "colab": {
          "base_uri": "https://localhost:8080/"
        },
        "id": "AYsx9K1cFz3v",
        "outputId": "5d25b450-d801-4de7-fc56-15f0a686da58"
      },
      "source": [
        "# 均值編碼 + 邏輯斯迴歸\n",
        "\n",
        "data = pd.concat([df[:train_num], train_Y], axis=1)\n",
        "\n",
        "\n",
        "for c in df.columns:\n",
        "    mean_df = data.groupby([c])['Survived'].mean().reset_index()\n",
        "    mean_df.columns = [c, f'{c}_mean']\n",
        "    data = pd.merge(data, mean_df, on=c, how='left')\n",
        "    data = data.drop([c] , axis=1)\n",
        "data = data.drop(['Survived',  'Name_mean', 'Ticket_mean'] , axis=1) # 如果不 drop \"Name_mean\", 'Ticket_mean' 會太強\n",
        "\n",
        "estimator = LogisticRegression()\n",
        "start = time.time()\n",
        "train_X = df_temp[:train_num]\n",
        "\n",
        "print(f'shape : {df_temp[:train_num].shape}')\n",
        "print(f'score : {cross_val_score(estimator, data, train_Y, cv=5).mean()}')\n",
        "print(f'time : {time.time() - start} sec')"
      ],
      "execution_count": 59,
      "outputs": [
        {
          "output_type": "stream",
          "text": [
            "shape : (891, 5)\n",
            "score : 0.7867365513778168\n",
            "time : 0.05696439743041992 sec\n"
          ],
          "name": "stdout"
        }
      ]
    }
  ]
}