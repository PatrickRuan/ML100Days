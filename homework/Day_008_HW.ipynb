{
  "nbformat": 4,
  "nbformat_minor": 0,
  "metadata": {
    "kernelspec": {
      "display_name": "Python 3",
      "language": "python",
      "name": "python3"
    },
    "language_info": {
      "codemirror_mode": {
        "name": "ipython",
        "version": 3
      },
      "file_extension": ".py",
      "mimetype": "text/x-python",
      "name": "python",
      "nbconvert_exporter": "python",
      "pygments_lexer": "ipython3",
      "version": "3.6.1"
    },
    "colab": {
      "name": "Day_008_HW.ipynb",
      "provenance": [],
      "collapsed_sections": [],
      "include_colab_link": true
    }
  },
  "cells": [
    {
      "cell_type": "markdown",
      "metadata": {
        "id": "view-in-github",
        "colab_type": "text"
      },
      "source": [
        "<a href=\"https://colab.research.google.com/github/PatrickRuan/ML100Days/blob/master/homework/Day_008_HW.ipynb\" target=\"_parent\"><img src=\"https://colab.research.google.com/assets/colab-badge.svg\" alt=\"Open In Colab\"/></a>"
      ]
    },
    {
      "cell_type": "markdown",
      "metadata": {
        "id": "qW0mqMK3XwFg"
      },
      "source": [
        "# [作業目標]\n",
        "- 對資料做更多處理 : 顯示特定欄位的統計值與直方圖"
      ]
    },
    {
      "cell_type": "markdown",
      "metadata": {
        "id": "8rAMTyWrXwFg"
      },
      "source": [
        "# [作業重點]\n",
        "- 試著顯示特定欄位的基礎統計數值 (In[4], Out[4], Hint : describe())\n",
        "- 試著顯示特定欄位的直方圖 (In[5], Out[5], Hint : .hist())"
      ]
    },
    {
      "cell_type": "code",
      "metadata": {
        "colab": {
          "base_uri": "https://localhost:8080/"
        },
        "id": "55px0lFPXwFh",
        "outputId": "b3c0127f-ee98-40f1-8615-07e35d484874"
      },
      "source": [
        "# Import 需要的套件\n",
        "import os\n",
        "import numpy as np\n",
        "import pandas as pd\n",
        "\n",
        "# 設定 data_path\n",
        "from google.colab import drive\n",
        "drive.mount('/content/drive/')\n",
        "\n",
        "dir_data = 'drive/My Drive/學習/Cupoy/ML100_5/d004_data'"
      ],
      "execution_count": 1,
      "outputs": [
        {
          "output_type": "stream",
          "text": [
            "Mounted at /content/drive/\n"
          ],
          "name": "stdout"
        }
      ]
    },
    {
      "cell_type": "code",
      "metadata": {
        "id": "wStstU_HXwFh"
      },
      "source": [
        "f_app_train = os.path.join(dir_data, 'application_train.csv')\n",
        "app_train = pd.read_csv(f_app_train)"
      ],
      "execution_count": 2,
      "outputs": []
    },
    {
      "cell_type": "code",
      "metadata": {
        "id": "BtY0fPsgXwFi"
      },
      "source": [
        "import matplotlib.pyplot as plt\n",
        "%matplotlib inline"
      ],
      "execution_count": 3,
      "outputs": []
    },
    {
      "cell_type": "code",
      "metadata": {
        "colab": {
          "base_uri": "https://localhost:8080/"
        },
        "id": "XSKefZHEbNhf",
        "outputId": "e0050e40-e013-46a6-886e-a43e682186a3"
      },
      "source": [
        "app_train.columns"
      ],
      "execution_count": 4,
      "outputs": [
        {
          "output_type": "execute_result",
          "data": {
            "text/plain": [
              "Index(['SK_ID_CURR', 'TARGET', 'NAME_CONTRACT_TYPE', 'CODE_GENDER',\n",
              "       'FLAG_OWN_CAR', 'FLAG_OWN_REALTY', 'CNT_CHILDREN', 'AMT_INCOME_TOTAL',\n",
              "       'AMT_CREDIT', 'AMT_ANNUITY',\n",
              "       ...\n",
              "       'FLAG_DOCUMENT_18', 'FLAG_DOCUMENT_19', 'FLAG_DOCUMENT_20',\n",
              "       'FLAG_DOCUMENT_21', 'AMT_REQ_CREDIT_BUREAU_HOUR',\n",
              "       'AMT_REQ_CREDIT_BUREAU_DAY', 'AMT_REQ_CREDIT_BUREAU_WEEK',\n",
              "       'AMT_REQ_CREDIT_BUREAU_MON', 'AMT_REQ_CREDIT_BUREAU_QRT',\n",
              "       'AMT_REQ_CREDIT_BUREAU_YEAR'],\n",
              "      dtype='object', length=122)"
            ]
          },
          "metadata": {
            "tags": []
          },
          "execution_count": 4
        }
      ]
    },
    {
      "cell_type": "markdown",
      "metadata": {
        "id": "i1SjQksdXwFi"
      },
      "source": [
        "## 練習時間"
      ]
    },
    {
      "cell_type": "markdown",
      "metadata": {
        "id": "wg7bJL3HXwFi"
      },
      "source": [
        "觀察有興趣的欄位的資料分佈，並嘗試找出有趣的訊息\n",
        "#### Eg\n",
        "- 計算任意欄位的平均數及標準差\n",
        "- 畫出任意欄位的[直方圖](https://zh.wikipedia.org/zh-tw/%E7%9B%B4%E6%96%B9%E5%9B%BE)\n",
        "\n",
        "### Hints:\n",
        "- [Descriptive Statistics For pandas Dataframe](https://chrisalbon.com/python/data_wrangling/pandas_dataframe_descriptive_stats/)\n",
        "- [pandas 中的繪圖函數](https://amaozhao.gitbooks.io/pandas-notebook/content/pandas%E4%B8%AD%E7%9A%84%E7%BB%98%E5%9B%BE%E5%87%BD%E6%95%B0.html)\n"
      ]
    },
    {
      "cell_type": "code",
      "metadata": {
        "colab": {
          "base_uri": "https://localhost:8080/",
          "height": 1000
        },
        "id": "h7oqUaM5XwFj",
        "outputId": "29981ed5-9704-4792-c186-6570c8d5b9ac"
      },
      "source": [
        "# https://pandas.pydata.org/pandas-docs/version/0.23.4/generated/pandas.DataFrame.plot.html\n",
        "app_train[\"AMT_CREDIT\"].plot()\n",
        "plt.show()\n",
        "app_train[\"TARGET\"].plot(kind='hist', bins = 100)\n",
        "plt.show()\n",
        "app_train[\"TARGET\"].plot(kind='kde')\n",
        "plt.show()\n",
        "#app_train[\"TARGET\"].plot(kind='bar')\n",
        "plt.show()\n",
        "app_train.plot(kind='scatter', x =\"TARGET\", y = \"FLAG_DOCUMENT_19\", figsize=(12,8))"
      ],
      "execution_count": 5,
      "outputs": [
        {
          "output_type": "display_data",
          "data": {
            "image/png": "[encoded data removed]",
            "text/plain": [
              "<Figure size 432x288 with 1 Axes>"
            ]
          },
          "metadata": {
            "tags": [],
            "needs_background": "light"
          }
        },
        {
          "output_type": "display_data",
          "data": {
            "image/png": "[encoded data removed]",
            "text/plain": [
              "<Figure size 432x288 with 1 Axes>"
            ]
          },
          "metadata": {
            "tags": [],
            "needs_background": "light"
          }
        },
        {
          "output_type": "display_data",
          "data": {
            "image/png": "[encoded data removed]",
            "text/plain": [
              "<Figure size 432x288 with 1 Axes>"
            ]
          },
          "metadata": {
            "tags": [],
            "needs_background": "light"
          }
        },
        {
          "output_type": "execute_result",
          "data": {
            "text/plain": [
              "<matplotlib.axes._subplots.AxesSubplot at 0x7fddfb4d87f0>"
            ]
          },
          "metadata": {
            "tags": []
          },
          "execution_count": 5
        },
        {
          "output_type": "display_data",
          "data": {
            "image/png": "[encoded data removed]",
            "text/plain": [
              "<Figure size 864x576 with 1 Axes>"
            ]
          },
          "metadata": {
            "tags": [],
            "needs_background": "light"
          }
        }
      ]
    },
    {
      "cell_type": "code",
      "metadata": {
        "colab": {
          "base_uri": "https://localhost:8080/"
        },
        "id": "kJshkqutbrea",
        "outputId": "8be77ad1-3f03-4b21-e5df-705f38ccdb26"
      },
      "source": [
        "app_train.describe()\n",
        "print(app_train.describe().index)\n",
        "print(app_train.TARGET.mean())\n",
        "print(app_train.TARGET.max())\n",
        "print(app_train.TARGET.min())\n",
        "print(app_train.TARGET.nunique())\n",
        "print(app_train.TARGET.std())"
      ],
      "execution_count": 20,
      "outputs": [
        {
          "output_type": "stream",
          "text": [
            "Index(['count', 'mean', 'std', 'min', '25%', '50%', '75%', 'max'], dtype='object')\n",
            "0.08072881945686496\n",
            "1\n",
            "0\n",
            "2\n",
            "0.272418645647685\n"
          ],
          "name": "stdout"
        }
      ]
    },
    {
      "cell_type": "code",
      "metadata": {
        "colab": {
          "base_uri": "https://localhost:8080/"
        },
        "id": "MybRaeD4dKTr",
        "outputId": "df0a3f2a-ebaf-4ac5-a259-b4c3dcc02584"
      },
      "source": [
        "print(app_train.AMT_INCOME_TOTAL.quantile(0.25))\n",
        "print(app_train.AMT_INCOME_TOTAL.quantile())\n",
        "print(app_train.AMT_INCOME_TOTAL.quantile(0.75))\n",
        "print(app_train.AMT_INCOME_TOTAL.std())"
      ],
      "execution_count": 19,
      "outputs": [
        {
          "output_type": "stream",
          "text": [
            "112500.0\n",
            "147150.0\n",
            "202500.0\n",
            "237123.14627883647\n"
          ],
          "name": "stdout"
        }
      ]
    }
  ]
}