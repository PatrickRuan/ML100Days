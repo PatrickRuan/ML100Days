{
  "nbformat": 4,
  "nbformat_minor": 0,
  "metadata": {
    "colab": {
      "name": "1120EDA過關練習2.ipynb",
      "provenance": [],
      "collapsed_sections": [],
      "toc_visible": true,
      "authorship_tag": "ABX9TyPjM3NDeBuIbh9nHqu6ZLkR",
      "include_colab_link": true
    },
    "kernelspec": {
      "name": "python3",
      "display_name": "Python 3"
    }
  },
  "cells": [
    {
      "cell_type": "markdown",
      "metadata": {
        "id": "view-in-github",
        "colab_type": "text"
      },
      "source": [
        "<a href=\"https://colab.research.google.com/github/PatrickRuan/ML100Days/blob/master/1120EDA%E9%81%8E%E9%97%9C%E7%B7%B4%E7%BF%922.ipynb\" target=\"_parent\"><img src=\"https://colab.research.google.com/assets/colab-badge.svg\" alt=\"Open In Colab\"/></a>"
      ]
    },
    {
      "cell_type": "code",
      "metadata": {
        "colab": {
          "base_uri": "https://localhost:8080/"
        },
        "id": "ZcXbNESpxZup",
        "outputId": "eb80d6dd-9ae1-44e9-c788-1f0cb373d7f5"
      },
      "source": [
        "import numpy as np\n",
        "import pandas as pd\n",
        "from google.colab import drive\n",
        "import os\n",
        "drive.mount('/content/drive/')\n",
        "path = 'drive/My Drive/學習/Cupoy/ML100_5/d004_data/'\n",
        "!cp -r drive/'My Drive'/學習/Cupoy/ML100_5/d004_data/ ./\n",
        "os.chdir('/content')\n",
        "os.chdir('./d004_data')\n",
        "#os.chdir('/content/')\n",
        "df_app = pd.read_csv('application_train.csv')\n",
        "print(df_app.shape)\n",
        "df_app.head(3)\n",
        "\n",
        "ls_fc = []\n",
        "ls_ic = []\n",
        "ls_oc = []\n",
        "for i in df_app.columns:\n",
        "  if df_app[i].dtype == 'float64':\n",
        "    ls_fc.append(i)\n",
        "  elif df_app[i].dtype == 'int64':\n",
        "    ls_ic.append(i)\n",
        "  else: \n",
        "    ls_oc.append(i)\n",
        "ls_nc1 = ls_fc + ls_ic\n",
        "\n",
        "print(len(ls_fc), len(ls_ic), len(ls_oc), len(ls_nc1), '\\n', ls_oc)\n",
        "\n",
        "os.chdir('/content/')\n",
        "!cp -r drive/'My Drive'/學習/Cupoy/ML100_5/d007_data/ .\n",
        "os.chdir('./d007_data')\n",
        "df_house_tr = pd.read_csv('house_train.csv.gz')\n",
        "df_house_tt = pd.read_csv('house_test.csv.gz')\n",
        "\n",
        "ls_nc2, ls_oc2, ls_fc2, ls_ic2 = [], [], [], []\n",
        "\n",
        "for c,t in zip(df_house_tr.columns, df_house_tr.dtypes):\n",
        "  if (t == 'float64') or (t == 'int64'):\n",
        "    ls_nc2.append(c)\n",
        "  else: ls_oc2.append(c)"
      ],
      "execution_count": null,
      "outputs": [
        {
          "output_type": "stream",
          "text": [
            "Mounted at /content/drive/\n",
            "cp: cannot open 'drive/My Drive/學習/Cupoy/ML100_5/d004_data/HomeCredit_columns_description.gsheet' for reading: Operation not supported\n",
            "(307511, 122)\n",
            "65 41 16 106 \n",
            " ['NAME_CONTRACT_TYPE', 'CODE_GENDER', 'FLAG_OWN_CAR', 'FLAG_OWN_REALTY', 'NAME_TYPE_SUITE', 'NAME_INCOME_TYPE', 'NAME_EDUCATION_TYPE', 'NAME_FAMILY_STATUS', 'NAME_HOUSING_TYPE', 'OCCUPATION_TYPE', 'WEEKDAY_APPR_PROCESS_START', 'ORGANIZATION_TYPE', 'FONDKAPREMONT_MODE', 'HOUSETYPE_MODE', 'WALLSMATERIAL_MODE', 'EMERGENCYSTATE_MODE']\n"
          ],
          "name": "stdout"
        }
      ]
    },
    {
      "cell_type": "markdown",
      "metadata": {
        "id": "U8sXtllv8PCv"
      },
      "source": [
        "# 【練習 17: house .quantile()】 \n",
        "我們要來算 q0, 25, 50, 100 (house_train.csv.gz, 'AMT_ANNUITY')\n",
        "- house_train.csv.gz,  $\\space\\space$ 'AMT_ANNUITY'\n",
        "- compare np.percentile(df, q) and np.quantile(df.q)\n",
        "- q_p = [np.percentile(df_app[~df_app['AMT_ANNUITY'].isnull()]['AMT_ANNUITY'], q = i) for i in list(range(101))]\n",
        "- q_q = [np.quantile(df_app[~df_app['AMT_ANNUITY'].isnull()]['AMT_ANNUITY'], q = i) for i in np.linspace(0,1,101)]\n"
      ]
    },
    {
      "cell_type": "code",
      "metadata": {
        "colab": {
          "base_uri": "https://localhost:8080/"
        },
        "id": "aiv2-TY3a83j",
        "outputId": "7e5ba9e9-aa3e-45e4-c395-3b51528634ea"
      },
      "source": [
        "q_p = [np.percentile(df_app[~df_app['AMT_ANNUITY'].isnull()]['AMT_ANNUITY'], q = i) for i in list(range(101))]\n",
        "q_q = [np.quantile(df_app[~df_app['AMT_ANNUITY'].isnull()]['AMT_ANNUITY'], q = i) for i in np.linspace(0,1,101)]\n",
        "q_p == q_q # True"
      ],
      "execution_count": null,
      "outputs": [
        {
          "output_type": "execute_result",
          "data": {
            "text/plain": [
              "True"
            ]
          },
          "metadata": {
            "tags": []
          },
          "execution_count": 2
        }
      ]
    },
    {
      "cell_type": "code",
      "metadata": {
        "colab": {
          "base_uri": "https://localhost:8080/"
        },
        "id": "g4GBasI0dvKZ",
        "outputId": "75e3b7f1-a49c-4212-fd8c-8f66acba919f"
      },
      "source": [
        "q_pq = [df_app.AMT_ANNUITY.quantile(q=i) for i in np.linspace(0,1,101)]#24903.0\n",
        "q_pq == q_q"
      ],
      "execution_count": null,
      "outputs": [
        {
          "output_type": "execute_result",
          "data": {
            "text/plain": [
              "True"
            ]
          },
          "metadata": {
            "tags": []
          },
          "execution_count": 3
        }
      ]
    },
    {
      "cell_type": "code",
      "metadata": {
        "colab": {
          "base_uri": "https://localhost:8080/"
        },
        "id": "_1bvm9bHgW2Y",
        "outputId": "4dad71bd-4266-4654-d61e-6e69fadb1736"
      },
      "source": [
        "df_app['AMT_ANNUITY'].describe()"
      ],
      "execution_count": null,
      "outputs": [
        {
          "output_type": "execute_result",
          "data": {
            "text/plain": [
              "count    307499.000000\n",
              "mean      27108.573909\n",
              "std       14493.737315\n",
              "min        1615.500000\n",
              "25%       16524.000000\n",
              "50%       24903.000000\n",
              "75%       34596.000000\n",
              "max      258025.500000\n",
              "Name: AMT_ANNUITY, dtype: float64"
            ]
          },
          "metadata": {
            "tags": []
          },
          "execution_count": 4
        }
      ]
    },
    {
      "cell_type": "markdown",
      "metadata": {
        "id": "ozLSmirl8bs3"
      },
      "source": [
        "# 【練習 18: Application .isnull()】 \n",
        "我們要來算偵測出 null \n",
        "   - `print(df_app[df_app.AMT_ANNUITY.isnull()].AMT_ANNUITY)`\n",
        "   - `df_app[df_app.AMT_ANNUITY.isnull()]= q_p[51] `"
      ]
    },
    {
      "cell_type": "code",
      "metadata": {
        "colab": {
          "base_uri": "https://localhost:8080/"
        },
        "id": "v599vC6YgCpD",
        "outputId": "e94305f4-e781-498c-d537-359b7261ceff"
      },
      "source": [
        "# 這一步要先會: 也請解釋\n",
        "df_app[df_app['AMT_ANNUITY']>230000]['AMT_ANNUITY']"
      ],
      "execution_count": null,
      "outputs": [
        {
          "output_type": "execute_result",
          "data": {
            "text/plain": [
              "17948     258025.5\n",
              "101508    230161.5\n",
              "Name: AMT_ANNUITY, dtype: float64"
            ]
          },
          "metadata": {
            "tags": []
          },
          "execution_count": 5
        }
      ]
    },
    {
      "cell_type": "code",
      "metadata": {
        "colab": {
          "base_uri": "https://localhost:8080/"
        },
        "id": "V9EA02A-gtMu",
        "outputId": "d7ce664f-3982-4b7a-a953-dc5aaf49be12"
      },
      "source": [
        "print(df_app[df_app.AMT_ANNUITY.isnull()].AMT_ANNUITY)\n",
        "print(df_app[df_app.AMT_ANNUITY.isna()].AMT_ANNUITY)\n",
        "df_app[~df_app['AMT_ANNUITY'].isnull()].AMT_ANNUITY"
      ],
      "execution_count": null,
      "outputs": [
        {
          "output_type": "stream",
          "text": [
            "47531    NaN\n",
            "50035    NaN\n",
            "51594    NaN\n",
            "55025    NaN\n",
            "59934    NaN\n",
            "75873    NaN\n",
            "89343    NaN\n",
            "123872   NaN\n",
            "207186   NaN\n",
            "227939   NaN\n",
            "239329   NaN\n",
            "241835   NaN\n",
            "Name: AMT_ANNUITY, dtype: float64\n",
            "47531    NaN\n",
            "50035    NaN\n",
            "51594    NaN\n",
            "55025    NaN\n",
            "59934    NaN\n",
            "75873    NaN\n",
            "89343    NaN\n",
            "123872   NaN\n",
            "207186   NaN\n",
            "227939   NaN\n",
            "239329   NaN\n",
            "241835   NaN\n",
            "Name: AMT_ANNUITY, dtype: float64\n"
          ],
          "name": "stdout"
        },
        {
          "output_type": "execute_result",
          "data": {
            "text/plain": [
              "0         24700.5\n",
              "1         35698.5\n",
              "2          6750.0\n",
              "3         29686.5\n",
              "4         21865.5\n",
              "           ...   \n",
              "307506    27558.0\n",
              "307507    12001.5\n",
              "307508    29979.0\n",
              "307509    20205.0\n",
              "307510    49117.5\n",
              "Name: AMT_ANNUITY, Length: 307499, dtype: float64"
            ]
          },
          "metadata": {
            "tags": []
          },
          "execution_count": 6
        }
      ]
    },
    {
      "cell_type": "markdown",
      "metadata": {
        "id": "0IRDmVWe8kla"
      },
      "source": [
        "# 【練習 19: Application .isnull 補 q50】 \n",
        "用q50 取代 null"
      ]
    },
    {
      "cell_type": "code",
      "metadata": {
        "id": "k__1nJ9Chb5B"
      },
      "source": [
        "df_app[df_app.AMT_ANNUITY.isnull()]= q_p[51]"
      ],
      "execution_count": null,
      "outputs": []
    },
    {
      "cell_type": "code",
      "metadata": {
        "colab": {
          "base_uri": "https://localhost:8080/",
          "height": 98
        },
        "id": "0bm8PIU7hpIw",
        "outputId": "411bf595-0d28-4c6e-f9fd-9447aff0110f"
      },
      "source": [
        "df_app[df_app.AMT_ANNUITY.isnull()]"
      ],
      "execution_count": null,
      "outputs": [
        {
          "output_type": "execute_result",
          "data": {
            "text/html": [
              "<div>\n",
              "<style scoped>\n",
              "    .dataframe tbody tr th:only-of-type {\n",
              "        vertical-align: middle;\n",
              "    }\n",
              "\n",
              "    .dataframe tbody tr th {\n",
              "        vertical-align: top;\n",
              "    }\n",
              "\n",
              "    .dataframe thead th {\n",
              "        text-align: right;\n",
              "    }\n",
              "</style>\n",
              "<table border=\"1\" class=\"dataframe\">\n",
              "  <thead>\n",
              "    <tr style=\"text-align: right;\">\n",
              "      <th></th>\n",
              "      <th>SK_ID_CURR</th>\n",
              "      <th>TARGET</th>\n",
              "      <th>NAME_CONTRACT_TYPE</th>\n",
              "      <th>CODE_GENDER</th>\n",
              "      <th>FLAG_OWN_CAR</th>\n",
              "      <th>FLAG_OWN_REALTY</th>\n",
              "      <th>CNT_CHILDREN</th>\n",
              "      <th>AMT_INCOME_TOTAL</th>\n",
              "      <th>AMT_CREDIT</th>\n",
              "      <th>AMT_ANNUITY</th>\n",
              "      <th>AMT_GOODS_PRICE</th>\n",
              "      <th>NAME_TYPE_SUITE</th>\n",
              "      <th>NAME_INCOME_TYPE</th>\n",
              "      <th>NAME_EDUCATION_TYPE</th>\n",
              "      <th>NAME_FAMILY_STATUS</th>\n",
              "      <th>NAME_HOUSING_TYPE</th>\n",
              "      <th>REGION_POPULATION_RELATIVE</th>\n",
              "      <th>DAYS_BIRTH</th>\n",
              "      <th>DAYS_EMPLOYED</th>\n",
              "      <th>DAYS_REGISTRATION</th>\n",
              "      <th>DAYS_ID_PUBLISH</th>\n",
              "      <th>OWN_CAR_AGE</th>\n",
              "      <th>FLAG_MOBIL</th>\n",
              "      <th>FLAG_EMP_PHONE</th>\n",
              "      <th>FLAG_WORK_PHONE</th>\n",
              "      <th>FLAG_CONT_MOBILE</th>\n",
              "      <th>FLAG_PHONE</th>\n",
              "      <th>FLAG_EMAIL</th>\n",
              "      <th>OCCUPATION_TYPE</th>\n",
              "      <th>CNT_FAM_MEMBERS</th>\n",
              "      <th>REGION_RATING_CLIENT</th>\n",
              "      <th>REGION_RATING_CLIENT_W_CITY</th>\n",
              "      <th>WEEKDAY_APPR_PROCESS_START</th>\n",
              "      <th>HOUR_APPR_PROCESS_START</th>\n",
              "      <th>REG_REGION_NOT_LIVE_REGION</th>\n",
              "      <th>REG_REGION_NOT_WORK_REGION</th>\n",
              "      <th>LIVE_REGION_NOT_WORK_REGION</th>\n",
              "      <th>REG_CITY_NOT_LIVE_CITY</th>\n",
              "      <th>REG_CITY_NOT_WORK_CITY</th>\n",
              "      <th>LIVE_CITY_NOT_WORK_CITY</th>\n",
              "      <th>...</th>\n",
              "      <th>LIVINGAPARTMENTS_MEDI</th>\n",
              "      <th>LIVINGAREA_MEDI</th>\n",
              "      <th>NONLIVINGAPARTMENTS_MEDI</th>\n",
              "      <th>NONLIVINGAREA_MEDI</th>\n",
              "      <th>FONDKAPREMONT_MODE</th>\n",
              "      <th>HOUSETYPE_MODE</th>\n",
              "      <th>TOTALAREA_MODE</th>\n",
              "      <th>WALLSMATERIAL_MODE</th>\n",
              "      <th>EMERGENCYSTATE_MODE</th>\n",
              "      <th>OBS_30_CNT_SOCIAL_CIRCLE</th>\n",
              "      <th>DEF_30_CNT_SOCIAL_CIRCLE</th>\n",
              "      <th>OBS_60_CNT_SOCIAL_CIRCLE</th>\n",
              "      <th>DEF_60_CNT_SOCIAL_CIRCLE</th>\n",
              "      <th>DAYS_LAST_PHONE_CHANGE</th>\n",
              "      <th>FLAG_DOCUMENT_2</th>\n",
              "      <th>FLAG_DOCUMENT_3</th>\n",
              "      <th>FLAG_DOCUMENT_4</th>\n",
              "      <th>FLAG_DOCUMENT_5</th>\n",
              "      <th>FLAG_DOCUMENT_6</th>\n",
              "      <th>FLAG_DOCUMENT_7</th>\n",
              "      <th>FLAG_DOCUMENT_8</th>\n",
              "      <th>FLAG_DOCUMENT_9</th>\n",
              "      <th>FLAG_DOCUMENT_10</th>\n",
              "      <th>FLAG_DOCUMENT_11</th>\n",
              "      <th>FLAG_DOCUMENT_12</th>\n",
              "      <th>FLAG_DOCUMENT_13</th>\n",
              "      <th>FLAG_DOCUMENT_14</th>\n",
              "      <th>FLAG_DOCUMENT_15</th>\n",
              "      <th>FLAG_DOCUMENT_16</th>\n",
              "      <th>FLAG_DOCUMENT_17</th>\n",
              "      <th>FLAG_DOCUMENT_18</th>\n",
              "      <th>FLAG_DOCUMENT_19</th>\n",
              "      <th>FLAG_DOCUMENT_20</th>\n",
              "      <th>FLAG_DOCUMENT_21</th>\n",
              "      <th>AMT_REQ_CREDIT_BUREAU_HOUR</th>\n",
              "      <th>AMT_REQ_CREDIT_BUREAU_DAY</th>\n",
              "      <th>AMT_REQ_CREDIT_BUREAU_WEEK</th>\n",
              "      <th>AMT_REQ_CREDIT_BUREAU_MON</th>\n",
              "      <th>AMT_REQ_CREDIT_BUREAU_QRT</th>\n",
              "      <th>AMT_REQ_CREDIT_BUREAU_YEAR</th>\n",
              "    </tr>\n",
              "  </thead>\n",
              "  <tbody>\n",
              "  </tbody>\n",
              "</table>\n",
              "<p>0 rows × 122 columns</p>\n",
              "</div>"
            ],
            "text/plain": [
              "Empty DataFrame\n",
              "Columns: [SK_ID_CURR, TARGET, NAME_CONTRACT_TYPE, CODE_GENDER, FLAG_OWN_CAR, FLAG_OWN_REALTY, CNT_CHILDREN, AMT_INCOME_TOTAL, AMT_CREDIT, AMT_ANNUITY, AMT_GOODS_PRICE, NAME_TYPE_SUITE, NAME_INCOME_TYPE, NAME_EDUCATION_TYPE, NAME_FAMILY_STATUS, NAME_HOUSING_TYPE, REGION_POPULATION_RELATIVE, DAYS_BIRTH, DAYS_EMPLOYED, DAYS_REGISTRATION, DAYS_ID_PUBLISH, OWN_CAR_AGE, FLAG_MOBIL, FLAG_EMP_PHONE, FLAG_WORK_PHONE, FLAG_CONT_MOBILE, FLAG_PHONE, FLAG_EMAIL, OCCUPATION_TYPE, CNT_FAM_MEMBERS, REGION_RATING_CLIENT, REGION_RATING_CLIENT_W_CITY, WEEKDAY_APPR_PROCESS_START, HOUR_APPR_PROCESS_START, REG_REGION_NOT_LIVE_REGION, REG_REGION_NOT_WORK_REGION, LIVE_REGION_NOT_WORK_REGION, REG_CITY_NOT_LIVE_CITY, REG_CITY_NOT_WORK_CITY, LIVE_CITY_NOT_WORK_CITY, ORGANIZATION_TYPE, EXT_SOURCE_1, EXT_SOURCE_2, EXT_SOURCE_3, APARTMENTS_AVG, BASEMENTAREA_AVG, YEARS_BEGINEXPLUATATION_AVG, YEARS_BUILD_AVG, COMMONAREA_AVG, ELEVATORS_AVG, ENTRANCES_AVG, FLOORSMAX_AVG, FLOORSMIN_AVG, LANDAREA_AVG, LIVINGAPARTMENTS_AVG, LIVINGAREA_AVG, NONLIVINGAPARTMENTS_AVG, NONLIVINGAREA_AVG, APARTMENTS_MODE, BASEMENTAREA_MODE, YEARS_BEGINEXPLUATATION_MODE, YEARS_BUILD_MODE, COMMONAREA_MODE, ELEVATORS_MODE, ENTRANCES_MODE, FLOORSMAX_MODE, FLOORSMIN_MODE, LANDAREA_MODE, LIVINGAPARTMENTS_MODE, LIVINGAREA_MODE, NONLIVINGAPARTMENTS_MODE, NONLIVINGAREA_MODE, APARTMENTS_MEDI, BASEMENTAREA_MEDI, YEARS_BEGINEXPLUATATION_MEDI, YEARS_BUILD_MEDI, COMMONAREA_MEDI, ELEVATORS_MEDI, ENTRANCES_MEDI, FLOORSMAX_MEDI, FLOORSMIN_MEDI, LANDAREA_MEDI, LIVINGAPARTMENTS_MEDI, LIVINGAREA_MEDI, NONLIVINGAPARTMENTS_MEDI, NONLIVINGAREA_MEDI, FONDKAPREMONT_MODE, HOUSETYPE_MODE, TOTALAREA_MODE, WALLSMATERIAL_MODE, EMERGENCYSTATE_MODE, OBS_30_CNT_SOCIAL_CIRCLE, DEF_30_CNT_SOCIAL_CIRCLE, OBS_60_CNT_SOCIAL_CIRCLE, DEF_60_CNT_SOCIAL_CIRCLE, DAYS_LAST_PHONE_CHANGE, FLAG_DOCUMENT_2, FLAG_DOCUMENT_3, FLAG_DOCUMENT_4, FLAG_DOCUMENT_5, ...]\n",
              "Index: []\n",
              "\n",
              "[0 rows x 122 columns]"
            ]
          },
          "metadata": {
            "tags": []
          },
          "execution_count": 8
        }
      ]
    },
    {
      "cell_type": "markdown",
      "metadata": {
        "id": "-xTcId1S8qga"
      },
      "source": [
        "# 【練習 20: Application 眾數】 眾數的計算 對 'AMT_GOODS_PRICE'\n",
        "\n",
        "\n"
      ]
    },
    {
      "cell_type": "code",
      "metadata": {
        "colab": {
          "base_uri": "https://localhost:8080/"
        },
        "id": "oE1yArC4iyPN",
        "outputId": "e7b481d4-681d-4531-cb23-a1b6a99b59c4"
      },
      "source": [
        "value_most = df_app['AMT_GOODS_PRICE'].value_counts().head()\n",
        "print(value_most)\n",
        "mode_goods_price = list(df_app['AMT_GOODS_PRICE'].value_counts().index)\n",
        "print(mode_goods_price[0])"
      ],
      "execution_count": null,
      "outputs": [
        {
          "output_type": "stream",
          "text": [
            "450000.0    26019\n",
            "225000.0    25281\n",
            "675000.0    24962\n",
            "900000.0    15416\n",
            "270000.0    11428\n",
            "Name: AMT_GOODS_PRICE, dtype: int64\n",
            "450000.0\n"
          ],
          "name": "stdout"
        }
      ]
    },
    {
      "cell_type": "markdown",
      "metadata": {
        "id": "RPH30C4Q9rOn"
      },
      "source": [
        "# 【練習 21: Application 手刻 minmax】 \n",
        "對 'AMT_ANNUITY' 作 max-min normalization "
      ]
    },
    {
      "cell_type": "code",
      "metadata": {
        "id": "yQAktym-9o-N",
        "colab": {
          "base_uri": "https://localhost:8080/"
        },
        "outputId": "62ff2f23-10a9-4cb4-d4f4-38ac5a3e5133"
      },
      "source": [
        "def normalize_value(x):\n",
        "  x = (((x-x.min())/(x.max()-x.min()))-0.5)*2\n",
        "  return x\n",
        "new = normalize_value(df_app['AMT_ANNUITY'])\n",
        "new.describe()"
      ],
      "execution_count": null,
      "outputs": [
        {
          "output_type": "execute_result",
          "data": {
            "text/plain": [
              "count    307511.000000\n",
              "mean         -0.801154\n",
              "std           0.113049\n",
              "min          -1.000000\n",
              "25%          -0.883714\n",
              "50%          -0.818357\n",
              "75%          -0.742752\n",
              "max           1.000000\n",
              "Name: AMT_ANNUITY, dtype: float64"
            ]
          },
          "metadata": {
            "tags": []
          },
          "execution_count": 10
        }
      ]
    },
    {
      "cell_type": "markdown",
      "metadata": {
        "id": "sc_SoS_FjwLY"
      },
      "source": [
        "#【練習 22 前補充: 填補統計值】\n",
        "- 填補統計值 \n",
        "\n",
        "  - 填補平均值(Mean) : 數值型欄位，偏態不明顯\n",
        "  - 填補中位數(Median) : 數值型欄位，偏態很明顯\n",
        "  - 填補眾數(Mode) : 類別型欄位\n",
        "\n",
        "\n",
        "- 填補指定值 - 需對欄位領域知識已有了解\n",
        "\n",
        "  - 補 0 : 空缺原本就有 0 的含意，如前頁的房間數\n",
        "  - 補不可能出現的數值 : 類別型欄位，但不適合用眾數時\n",
        "\n",
        "\n",
        "- 填補預測值 - 速度較慢但精確，從其他資料欄位學得填補知識\n",
        "\n",
        "  - 若填補範圍廣，且是重要特徵欄位時可用本方式\n",
        "  - 本方式須提防 overfitting : 可能退化成為其他特徵的組合\n",
        "\n",
        "# 我們有了這些統計值後，我們可以來討論缺失值的補值。\n",
        "- 我是覺得可以更早就談 xd"
      ]
    },
    {
      "cell_type": "markdown",
      "metadata": {
        "id": "CU6Un7HpnfLZ"
      },
      "source": [
        ""
      ]
    },
    {
      "cell_type": "markdown",
      "metadata": {
        "id": "nxjd-Qiin--q"
      },
      "source": [
        "# 【練習 22: Titanic 補值前處理 (I)】補值前處理 (I) 與 將 Titinic 資料載入，\n",
        "- df_tt_tr\n",
        "- df_tt_tt\n",
        "- 需要將 \"Survived\", \"ID\" 都移除\n",
        "- \"Survived\" 存在 tt_tr_Y\n",
        "- concat them "
      ]
    },
    {
      "cell_type": "code",
      "metadata": {
        "id": "3Snp_wPZ-kGt"
      },
      "source": [
        "from sklearn.linear_model import LogisticRegression\n",
        "os.chdir('/content/')\n",
        "os.chdir('d007_data')\n",
        "data_path = 'data/'\n",
        "data_path = ''\n",
        "\n",
        "df_tt_tr = pd.read_csv('titanic_train.csv')\n",
        "df_tt_tt = pd.read_csv('titanic_test.csv')\n",
        "\n",
        "tt_tr_Y = df_tt_tr.Survived\n",
        "train_num = tt_tr_Y.shape[0]\n",
        "ids = df_tt_tt['PassengerId'] # 還原時用\n",
        "\n",
        "df_tt_tr = df_tt_tr.drop(['Survived', 'PassengerId'], axis = 1)\n",
        "df_tt_tt = df_tt_tt.drop(['PassengerId'], axis =1)\n",
        "df_tt = pd.concat([df_tt_tr, df_tt_tt])"
      ],
      "execution_count": null,
      "outputs": []
    },
    {
      "cell_type": "markdown",
      "metadata": {
        "id": "_NIDyLslqzEV"
      },
      "source": [
        "# 【練習 22_2 titanic 建立 df[[all numeric]] 以及 df.isnull().sum()】\n",
        "數字 DataFrame: \n",
        "- 建立一個 全都是數字的 DataFrame :df_num\n",
        "- 執行 df_num.sum()\n",
        "- 比較 df.isnull().sum().sort_values(ascending=False).head() 並說明"
      ]
    },
    {
      "cell_type": "code",
      "metadata": {
        "colab": {
          "base_uri": "https://localhost:8080/",
          "height": 173
        },
        "id": "exkGXN7nrRIa",
        "outputId": "7ac57b6d-a213-4a64-c219-11be029762e2"
      },
      "source": [
        "dict_ = {'k1':[3, 2, 1, 4], 'k2': [12,3, 3, 3], 'k3': [1, 12, 12, 6]}\n",
        "df_num = pd.DataFrame(dict_, columns=['k1', 'k2', 'k3'])\n",
        "df_num"
      ],
      "execution_count": null,
      "outputs": [
        {
          "output_type": "execute_result",
          "data": {
            "text/html": [
              "<div>\n",
              "<style scoped>\n",
              "    .dataframe tbody tr th:only-of-type {\n",
              "        vertical-align: middle;\n",
              "    }\n",
              "\n",
              "    .dataframe tbody tr th {\n",
              "        vertical-align: top;\n",
              "    }\n",
              "\n",
              "    .dataframe thead th {\n",
              "        text-align: right;\n",
              "    }\n",
              "</style>\n",
              "<table border=\"1\" class=\"dataframe\">\n",
              "  <thead>\n",
              "    <tr style=\"text-align: right;\">\n",
              "      <th></th>\n",
              "      <th>k1</th>\n",
              "      <th>k2</th>\n",
              "      <th>k3</th>\n",
              "    </tr>\n",
              "  </thead>\n",
              "  <tbody>\n",
              "    <tr>\n",
              "      <th>0</th>\n",
              "      <td>3</td>\n",
              "      <td>12</td>\n",
              "      <td>1</td>\n",
              "    </tr>\n",
              "    <tr>\n",
              "      <th>1</th>\n",
              "      <td>2</td>\n",
              "      <td>3</td>\n",
              "      <td>12</td>\n",
              "    </tr>\n",
              "    <tr>\n",
              "      <th>2</th>\n",
              "      <td>1</td>\n",
              "      <td>3</td>\n",
              "      <td>12</td>\n",
              "    </tr>\n",
              "    <tr>\n",
              "      <th>3</th>\n",
              "      <td>4</td>\n",
              "      <td>3</td>\n",
              "      <td>6</td>\n",
              "    </tr>\n",
              "  </tbody>\n",
              "</table>\n",
              "</div>"
            ],
            "text/plain": [
              "   k1  k2  k3\n",
              "0   3  12   1\n",
              "1   2   3  12\n",
              "2   1   3  12\n",
              "3   4   3   6"
            ]
          },
          "metadata": {
            "tags": []
          },
          "execution_count": 13
        }
      ]
    },
    {
      "cell_type": "code",
      "metadata": {
        "colab": {
          "base_uri": "https://localhost:8080/"
        },
        "id": "T3pl69V4rst-",
        "outputId": "c849949d-614d-431a-f485-dc1e20869d95"
      },
      "source": [
        "df_num.sum()"
      ],
      "execution_count": null,
      "outputs": [
        {
          "output_type": "execute_result",
          "data": {
            "text/plain": [
              "k1    10\n",
              "k2    21\n",
              "k3    31\n",
              "dtype: int64"
            ]
          },
          "metadata": {
            "tags": []
          },
          "execution_count": 14
        }
      ]
    },
    {
      "cell_type": "markdown",
      "metadata": {
        "id": "lh-6M9Qhr85c"
      },
      "source": [
        "### 原來 .sum() 會對每一欄進行動作\n",
        "\n",
        "df.isnull().sum().sort_values(ascending=False).head()\n",
        "\n",
        "就是將整張 dataframe 填滿 True(null), Fales(not null), \n",
        "\n",
        "對每一欄加法計算，相當於計算每一欄的 True 數, null數"
      ]
    },
    {
      "cell_type": "markdown",
      "metadata": {
        "id": "1mt9LkxaC6MT"
      },
      "source": [
        "# 【練習 23: titanic 補值練習前處理 (II)】\n",
        "- 抽出 num_features, by zip\n",
        "- 製作 number dataframe \n",
        "\n"
      ]
    },
    {
      "cell_type": "code",
      "metadata": {
        "id": "q0sPn6EQECP4"
      },
      "source": [
        "ls_nc3 = []\n",
        "ls_oc3 = []\n",
        "for c, t in zip(df_tt.columns, df_tt.dtypes):\n",
        "  if t == 'object':\n",
        "    ls_oc3.append(c)\n",
        "  else: ls_nc3.append(c)\n",
        "#print(df_tt[ls_nc3])\n",
        "#print(df_tt[ls_oc3])\n",
        "df_tt = df_tt[ls_nc3]"
      ],
      "execution_count": null,
      "outputs": []
    },
    {
      "cell_type": "markdown",
      "metadata": {
        "id": "5Uzu7l7r9OgO"
      },
      "source": [
        "# 【練習 24: Titanic 補值練習】\n",
        "        - 補值, 0, -1, mean, q50, mode\n",
        "        - 搭配 minmax, std\n",
        "        - 用 model 與 crossvalidation  觀察結果\n",
        "        - hind: \n",
        "            - from sklearn.model_selection import cross_val_score\n",
        "            - from sklearn.preprocessing import MinMaxScaler, StandardScaler\n",
        "\n",
        "\n"
      ]
    },
    {
      "cell_type": "code",
      "metadata": {
        "colab": {
          "base_uri": "https://localhost:8080/"
        },
        "id": "_Hu-cFiX9U_Z",
        "outputId": "aafd187b-5bc6-47b3-b8a0-33f227b3dcef"
      },
      "source": [
        "from sklearn.model_selection import cross_val_score\n",
        "df_m1 = df_tt.fillna(-1)\n",
        "train_X = df_m1[:train_num]\n",
        "model = LogisticRegression()\n",
        "s_ml = cross_val_score(model, train_X, tt_tr_Y, cv=5).mean()\n",
        "print(s_ml)\n",
        "\n",
        "from sklearn.preprocessing import MinMaxScaler\n",
        "df_m1 = df_tt.fillna(-1)\n",
        "MMS = MinMaxScaler()\n",
        "df_m1 = MMS.fit_transform(df_m1)\n",
        "train_X = df_m1[:train_num]\n",
        "model = LogisticRegression()\n",
        "s_mlmm = cross_val_score(model, train_X, tt_tr_Y, cv=5).mean()\n",
        "print(s_mlmm)\n",
        "\n",
        "from sklearn.preprocessing import StandardScaler\n",
        "df_m1 = df_tt.fillna(-1)\n",
        "SDS = StandardScaler()\n",
        "df_m1 = SDS.fit_transform(df_m1)\n",
        "train_X = df_m1[:train_num]\n",
        "model = LogisticRegression()\n",
        "s_mlsd = cross_val_score(model, train_X, tt_tr_Y, cv=5).mean()\n",
        "print(s_mlsd)\n"
      ],
      "execution_count": null,
      "outputs": [
        {
          "output_type": "stream",
          "text": [
            "0.6981796497395015\n",
            "0.6970560542338836\n",
            "0.6981733726696377\n"
          ],
          "name": "stdout"
        }
      ]
    },
    {
      "cell_type": "code",
      "metadata": {
        "id": "yVk3S_WvCbdJ"
      },
      "source": [
        ""
      ],
      "execution_count": null,
      "outputs": []
    },
    {
      "cell_type": "markdown",
      "metadata": {
        "id": "QTBVhvfvCcqT"
      },
      "source": [
        "#其他練習"
      ]
    },
    {
      "cell_type": "markdown",
      "metadata": {
        "id": "Kq0m4aGVCjmn"
      },
      "source": [
        "## 常用的 DataFrame 操作"
      ]
    },
    {
      "cell_type": "code",
      "metadata": {
        "id": "eU5DlMHZCeE-"
      },
      "source": [
        ""
      ],
      "execution_count": null,
      "outputs": []
    },
    {
      "cell_type": "code",
      "metadata": {
        "id": "SNXzrmNICeH_"
      },
      "source": [
        ""
      ],
      "execution_count": null,
      "outputs": []
    },
    {
      "cell_type": "code",
      "metadata": {
        "id": "eiYlKUdlCeNT"
      },
      "source": [
        ""
      ],
      "execution_count": null,
      "outputs": []
    },
    {
      "cell_type": "code",
      "metadata": {
        "id": "R8MSByYaCeS_"
      },
      "source": [
        ""
      ],
      "execution_count": null,
      "outputs": []
    },
    {
      "cell_type": "code",
      "metadata": {
        "id": "mvKgdmnJCeWr"
      },
      "source": [
        ""
      ],
      "execution_count": null,
      "outputs": []
    },
    {
      "cell_type": "code",
      "metadata": {
        "id": "7UJZOIcYCeZ-"
      },
      "source": [
        ""
      ],
      "execution_count": null,
      "outputs": []
    },
    {
      "cell_type": "code",
      "metadata": {
        "id": "d96z6cXXCeRr"
      },
      "source": [
        ""
      ],
      "execution_count": null,
      "outputs": []
    },
    {
      "cell_type": "code",
      "metadata": {
        "id": "0vGg5qfECeLE"
      },
      "source": [
        ""
      ],
      "execution_count": null,
      "outputs": []
    },
    {
      "cell_type": "code",
      "metadata": {
        "id": "5y_tOV6fB52I"
      },
      "source": [
        "1052+(28.5*3.2+ 32) +275 - 102 # 1348\n",
        "15+2+1.5 # = 18.5\n",
        "1348 + 19 + 12 + 151+18 # 1548\n",
        "\n",
        "1548+210\n"
      ],
      "execution_count": null,
      "outputs": []
    },
    {
      "cell_type": "code",
      "metadata": {
        "colab": {
          "base_uri": "https://localhost:8080/"
        },
        "id": "jJCd6eqJwYVD",
        "outputId": "5405d04c-3085-4f07-ac2c-a816ab8b98a1"
      },
      "source": [
        "(1052+(28.5*3.2+32)-102)+311+210+12+(18.5)+ (151 + 18)"
      ],
      "execution_count": null,
      "outputs": [
        {
          "output_type": "execute_result",
          "data": {
            "text/plain": [
              "1793.7"
            ]
          },
          "metadata": {
            "tags": []
          },
          "execution_count": 3
        }
      ]
    }
  ]
}